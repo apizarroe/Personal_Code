{
 "cells": [
  {
   "cell_type": "code",
   "execution_count": null,
   "source": [
    "#Escribir un programa que almacene las asignaturas de un curso \n",
    "# (por ejemplo Matemáticas, Física, Química, Historia y Lengua) en una lista y la muestre por pantalla.\n",
    "asignaturas = [\"Matematicas\",\"Fisica\",\"Quimica\",\"Historia\",\"Lengua\"]\n",
    "print(asignaturas)\n",
    "print(type(asignaturas))"
   ],
   "outputs": [],
   "metadata": {}
  },
  {
   "cell_type": "code",
   "execution_count": null,
   "source": [
    "#Escribir un programa que almacene las asignaturas de un curso \n",
    "# (por ejemplo Matemáticas, Física, Química, Historia y Lengua) en una lista \n",
    "# y la muestre por pantalla el mensaje Yo estudio <asignatura>, donde <asignatura> \n",
    "# es cada una de las asignaturas de la lista.\n",
    "asignaturas = [\"Matematicas\",\"Fisica\",\"Quimica\",\"Historia\",\"Lengua\"]\n",
    "for asignatura in asignaturas:\n",
    "    print(\"Yo estudio {}\".format(asignatura))"
   ],
   "outputs": [],
   "metadata": {}
  },
  {
   "cell_type": "code",
   "execution_count": null,
   "source": [
    "#Escribir un programa que almacene las asignaturas de un curso \n",
    "# (por ejemplo Matemáticas, Física, Química, Historia y Lengua) en una lista, \n",
    "# pregunte al usuario la nota que ha sacado en cada asignatura, y después las muestre por pantalla con el mensaje \n",
    "# En <asignatura> has sacado <nota> donde <asignatura> es cada una des las asignaturas de la lista y <nota> \n",
    "# ada una de las correspondientes notas introducidas por el usuario.\n",
    "asignaturas = [\"Matematicas\",\"Fisica\",\"Quimica\",\"Historia\",\"Lengua\"]\n",
    "asignaturasn = {}\n",
    "for asignatura in asignaturas:\n",
    "    nota = float(input(\"Cual es la nota obtenida en la asignatura {}?:\".format(asignatura)))\n",
    "    asignaturasn[asignatura] = nota\n",
    "print(asignaturasn)\n",
    "for clave,valor in asignaturasn.items():\n",
    "    print(\"En {} has sacado {}\".format(clave,valor))"
   ],
   "outputs": [],
   "metadata": {}
  },
  {
   "cell_type": "code",
   "execution_count": null,
   "source": [
    "#Escribir un programa que pregunte al usuario los números ganadores de la lotería primitiva, \n",
    "# los almacene en una lista y los muestre por pantalla ordenados de menor a mayor.\n",
    "numerosLoteria = []\n",
    "iteracion = 0\n",
    "numero = 0\n",
    "while (iteracion < 6):\n",
    "    numero = int(input(\"Ingrese el numero de loteria de orden {}\".format(iteracion)))\n",
    "    numerosLoteria.append(numero)\n",
    "    iteracion += 1;\n",
    "numerosLoteria.sort()\n",
    "print(numerosLoteria)"
   ],
   "outputs": [],
   "metadata": {}
  },
  {
   "cell_type": "code",
   "execution_count": null,
   "source": [
    "#Escribir un programa que almacene en una lista los números del 1 al 10 y los muestre por pantalla en orden inverso separados por comas.\n",
    "lista = list(range(1,11))\n",
    "lista.sort(reverse=True)\n",
    "for i in lista:\n",
    "    print(i, end=\", \")\n",
    "    print()"
   ],
   "outputs": [],
   "metadata": {}
  },
  {
   "cell_type": "code",
   "execution_count": null,
   "source": [
    "#Escribir un programa que almacene las asignaturas de un curso (por ejemplo Matemáticas, Física, Química, Historia y Lengua) \n",
    "# en una lista, pregunte al usuario la nota que ha sacado en cada asignatura y elimine de la lista las asignaturas aprobadas. \n",
    "# Al final el programa debe mostrar por pantalla las asignaturas que el usuario tiene que repetir.\n",
    "asignaturas = [\"Matematicas\",\"Fisica\",\"Quimica\",\"Historia\",\"Lengua\"]\n",
    "aprobadas = []\n",
    "for asignatura in asignaturas:\n",
    "    nota = float(input(\"Cual es la nota obtenida en la asignatura {}?:\".format(asignatura)))\n",
    "    if nota >= 11:\n",
    "        aprobadas.append(asignatura)\n",
    "for asignatura in aprobadas:\n",
    "    asignaturas.remove(asignatura)\n",
    "print(\"Tienes que repetir \" + str(asignaturas))\n"
   ],
   "outputs": [],
   "metadata": {}
  },
  {
   "cell_type": "code",
   "execution_count": 73,
   "source": [
    "#Escribir un programa que almacene el abecedario en una lista, elimine de la lista las letras que ocupen posiciones múltiplos de 3, \n",
    "# y muestre por pantalla la lista resultante.\n",
    "abecedario = ['a', 'b', 'c', 'd', 'e', 'f', 'g', 'h', 'i', 'j', 'k', 'l', 'm', 'n', 'ñ', 'o', 'p', 'q', 'r', 's', 't', 'u', 'v', 'w', 'x', 'y', 'z']\n",
    "filtrado = []\n",
    "conteo = 0\n",
    "for letra in abecedario:\n",
    "    if (conteo % 3):\n",
    "        filtrado.append(letra)\n",
    "    conteo += 1\n",
    "for letra in filtrado:\n",
    "    abecedario.remove(letra)\n",
    "print(abecedario)"
   ],
   "outputs": [
    {
     "output_type": "stream",
     "name": "stdout",
     "text": [
      "['a', 'd', 'g', 'j', 'm', 'o', 'r', 'u', 'x']\n"
     ]
    }
   ],
   "metadata": {}
  },
  {
   "cell_type": "code",
   "execution_count": 72,
   "source": [
    "alphabet = ['a', 'b', 'c', 'd', 'e', 'f', 'g', 'h', 'i', 'j', 'k', 'l', 'm', 'n', 'ñ', 'o', 'p', 'q', 'r', 's', 't', 'u', 'v', 'w', 'x', 'y', 'z']\n",
    "for i in range(len(alphabet)-1, -1, -1):\n",
    "    if i % 3 != 0:\n",
    "        alphabet.pop(i)\n",
    "print(alphabet)"
   ],
   "outputs": [
    {
     "output_type": "stream",
     "name": "stdout",
     "text": [
      "['a', 'd', 'g', 'j', 'm', 'o', 'r', 'u', 'x']\n"
     ]
    }
   ],
   "metadata": {}
  },
  {
   "cell_type": "code",
   "execution_count": 83,
   "source": [
    "#Escribir un programa que pida al usuario una palabra y muestre por pantalla si es un palíndromo.\n",
    "#!palíndromo es una palabra o frase que se lee igual en un sentido que en otro \n",
    "palabra = input(\"Por favor ingrese la palabra seleccionada: \")\n",
    "lista = list(palabra)\n",
    "lista2 = list(lista)\n",
    "lista2.reverse()\n",
    "if (lista == lista2):\n",
    "    print(\"la palabra {} es un palíndromo\".format(palabra))\n",
    "else :\n",
    "    print(\"la palabra {} no es un palíndromo\".format(palabra))"
   ],
   "outputs": [
    {
     "output_type": "stream",
     "name": "stdout",
     "text": [
      "la palabra sometemos es un palíndromo\n"
     ]
    }
   ],
   "metadata": {}
  },
  {
   "cell_type": "code",
   "execution_count": 88,
   "source": [
    "#Escribir un programa que pida al usuario una palabra y muestre por pantalla el número de veces que contiene cada vocal.\n",
    "palabra = input(\"Por favor ingrese la palabra seleccionada: \")\n",
    "lista = list(palabra)\n",
    "vocales = ['a','e','i','o','u']\n",
    "for letra in vocales:\n",
    "    veces = lista.count(letra)\n",
    "    print(\"La palabra {} contiene la vocal {}, {} veces\".format(palabra,letra,veces))"
   ],
   "outputs": [
    {
     "output_type": "stream",
     "name": "stdout",
     "text": [
      "La palabra pizarro contiene la vocal a, 1 veces\n",
      "La palabra pizarro contiene la vocal e, 0 veces\n",
      "La palabra pizarro contiene la vocal i, 1 veces\n",
      "La palabra pizarro contiene la vocal o, 1 veces\n",
      "La palabra pizarro contiene la vocal u, 0 veces\n"
     ]
    }
   ],
   "metadata": {}
  }
 ],
 "metadata": {
  "orig_nbformat": 4,
  "language_info": {
   "name": "python",
   "version": "3.8.10",
   "mimetype": "text/x-python",
   "codemirror_mode": {
    "name": "ipython",
    "version": 3
   },
   "pygments_lexer": "ipython3",
   "nbconvert_exporter": "python",
   "file_extension": ".py"
  },
  "kernelspec": {
   "name": "python3",
   "display_name": "Python 3.8.10 64-bit"
  },
  "interpreter": {
   "hash": "916dbcbb3f70747c44a77c7bcd40155683ae19c65e1c03b4aa3499c5328201f1"
  }
 },
 "nbformat": 4,
 "nbformat_minor": 2
}