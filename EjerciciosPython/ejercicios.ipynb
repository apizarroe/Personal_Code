{
 "cells": [
  {
   "cell_type": "code",
   "execution_count": 13,
   "source": [
    "#Escribir un programa que pregunte al usuario por el número de horas trabajadas y el coste por hora. \n",
    "#Después debe mostrar por pantalla la paga que le corresponde.\n",
    "\n",
    "print(\"Ingrese la cantidad de horas trabajadas\")\n",
    "horasTrabajadas = input()\n",
    "print(\"Ingrese el costo de hora hombre\")\n",
    "costoHoraHombre =  input()\n",
    "pagaTotal = int(horasTrabajadas) * int(costoHoraHombre)\n",
    "print(\"El total de la paga es {}\".format(pagaTotal))\n",
    "hora=int(input(\"Ingrese una variable la azar: \"))"
   ],
   "outputs": [
    {
     "output_type": "stream",
     "name": "stdout",
     "text": [
      "Ingrese la cantidad de horas trabajadas\n",
      "Ingrese el costo de hora hombre\n",
      "El total de la paga es 100\n"
     ]
    }
   ],
   "metadata": {}
  },
  {
   "cell_type": "code",
   "execution_count": 24,
   "source": [
    "#Escribir un programa que lea un entero positivo, n, introducido por el usuario y después muestre \n",
    "#en pantalla la suma de todos los enteros desde 1 hasta n. La suma de los n primeros enteros positivos \n",
    "#puede ser calculada de la siguiente forma:\n",
    "\n",
    "valortope = int(input(\"Ingrese el valor tope: \"))\n",
    "suma = (valortope*(valortope+1))/2\n",
    "print(suma)"
   ],
   "outputs": [
    {
     "output_type": "stream",
     "name": "stdout",
     "text": [
      "55.0\n"
     ]
    }
   ],
   "metadata": {}
  },
  {
   "cell_type": "code",
   "execution_count": 31,
   "source": [
    "#Escribir un programa que pida al usuario dos números enteros y muestre por pantalla la <n> entre <m> \n",
    "#da un cociente <c> y un resto <r> donde <n> y <m> son los números introducidos por el usuario, \n",
    "#y <c> y <r> son el cociente y el resto de la división entera respectivamente.\n",
    "\n",
    "print(\"Ingrese el valor de N: \")\n",
    "valorN = input()\n",
    "print(\"Ingrese el valor de M: \")\n",
    "valorM = input()\n",
    "valorC = int(valorN) // int(valorM)\n",
    "print(valorC)\n",
    "print(\"El valor del cociente C es: {}\".format(valorC))\n",
    "valorR = int(valorN) % int(valorM)\n",
    "print(\"El valor del residuo R es: {}\".format(valorR))"
   ],
   "outputs": [
    {
     "output_type": "stream",
     "name": "stdout",
     "text": [
      "Ingrese el valor de N: \n",
      "Ingrese el valor de M: \n",
      "3\n",
      "El valor del cociente C es: 3\n",
      "El valor del residuo R es: 1\n"
     ]
    }
   ],
   "metadata": {}
  },
  {
   "cell_type": "code",
   "execution_count": 34,
   "source": [
    "#Una juguetería tiene mucho éxito en dos de sus productos: payasos y muñecas. \n",
    "#Suele hacer venta por correo y la empresa de logística les cobra por peso de cada \n",
    "#paquete así que deben calcular el peso de los payasos y muñecas que saldrán en cada paquete a demanda. \n",
    "#Cada payaso pesa 112 g y cada muñeca 75 g. Escribir un programa que lea el número de payasos y muñecas \n",
    "#vendidos en el último pedido y calcule el peso total del paquete que será enviado.\n",
    "\n",
    "pesopayaso = 112\n",
    "pesomuneca = 75\n",
    "nropayaso = int(input(\"Ingrese el numero de payasos adquiridos\")) \n",
    "nromuneca = int(input(\"Ingrese el numero de muñecas adquiridas\"))\n",
    "pesototal = (pesopayaso * nropayaso + pesomuneca * nromuneca)/1000\n",
    "print(\"El peso total del pedido es: {} Kg\".format(pesototal))"
   ],
   "outputs": [
    {
     "output_type": "stream",
     "name": "stdout",
     "text": [
      "El peso total del pedido es: 1.495 Kg\n"
     ]
    }
   ],
   "metadata": {}
  }
 ],
 "metadata": {
  "orig_nbformat": 4,
  "language_info": {
   "name": "python",
   "version": "3.8.10",
   "mimetype": "text/x-python",
   "codemirror_mode": {
    "name": "ipython",
    "version": 3
   },
   "pygments_lexer": "ipython3",
   "nbconvert_exporter": "python",
   "file_extension": ".py"
  },
  "kernelspec": {
   "name": "python3",
   "display_name": "Python 3.8.10 64-bit"
  },
  "interpreter": {
   "hash": "916dbcbb3f70747c44a77c7bcd40155683ae19c65e1c03b4aa3499c5328201f1"
  }
 },
 "nbformat": 4,
 "nbformat_minor": 2
}