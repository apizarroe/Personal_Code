{
 "cells": [
  {
   "cell_type": "code",
   "execution_count": null,
   "source": [
    "#Escribir un programa que pregunte al usuario por el número de horas trabajadas y el coste por hora. \n",
    "#Después debe mostrar por pantalla la paga que le corresponde.\n",
    "\n",
    "print(\"Ingrese la cantidad de horas trabajadas\")\n",
    "horasTrabajadas = input()\n",
    "print(\"Ingrese el costo de hora hombre\")\n",
    "costoHoraHombre =  input()\n",
    "pagaTotal = int(horasTrabajadas) * int(costoHoraHombre)\n",
    "print(\"El total de la paga es {}\".format(pagaTotal))\n",
    "hora=int(input(\"Ingrese una variable la azar: \"))"
   ],
   "outputs": [],
   "metadata": {}
  },
  {
   "cell_type": "code",
   "execution_count": null,
   "source": [
    "#Escribir un programa que lea un entero positivo, n, introducido por el usuario y después muestre \n",
    "#en pantalla la suma de todos los enteros desde 1 hasta n. La suma de los n primeros enteros positivos \n",
    "#puede ser calculada de la siguiente forma:\n",
    "\n",
    "valortope = int(input(\"Ingrese el valor tope: \"))\n",
    "suma = (valortope*(valortope+1))/2\n",
    "print(suma)"
   ],
   "outputs": [],
   "metadata": {}
  },
  {
   "cell_type": "code",
   "execution_count": null,
   "source": [
    "#Escribir un programa que pida al usuario dos números enteros y muestre por pantalla la <n> entre <m> \n",
    "#da un cociente <c> y un resto <r> donde <n> y <m> son los números introducidos por el usuario, \n",
    "#y <c> y <r> son el cociente y el resto de la división entera respectivamente.\n",
    "\n",
    "print(\"Ingrese el valor de N: \")\n",
    "valorN = input()\n",
    "print(\"Ingrese el valor de M: \")\n",
    "valorM = input()\n",
    "valorC = int(valorN) // int(valorM)\n",
    "print(valorC)\n",
    "print(\"El valor del cociente C es: {}\".format(valorC))\n",
    "valorR = int(valorN) % int(valorM)\n",
    "print(\"El valor del residuo R es: {}\".format(valorR))"
   ],
   "outputs": [],
   "metadata": {}
  },
  {
   "cell_type": "code",
   "execution_count": null,
   "source": [
    "#Una juguetería tiene mucho éxito en dos de sus productos: payasos y muñecas. \n",
    "#Suele hacer venta por correo y la empresa de logística les cobra por peso de cada \n",
    "#paquete así que deben calcular el peso de los payasos y muñecas que saldrán en cada paquete a demanda. \n",
    "#Cada payaso pesa 112 g y cada muñeca 75 g. Escribir un programa que lea el número de payasos y muñecas \n",
    "#vendidos en el último pedido y calcule el peso total del paquete que será enviado.\n",
    "\n",
    "pesopayaso = 112\n",
    "pesomuneca = 75\n",
    "nropayaso = int(input(\"Ingrese el numero de payasos adquiridos\")) \n",
    "nromuneca = int(input(\"Ingrese el numero de muñecas adquiridas\"))\n",
    "pesototal = (pesopayaso * nropayaso + pesomuneca * nromuneca)/1000\n",
    "print(\"El peso total del pedido es: {} Kg\".format(pesototal))"
   ],
   "outputs": [],
   "metadata": {}
  },
  {
   "cell_type": "code",
   "execution_count": null,
   "source": [
    "#Imagina que acabas de abrir una nueva cuenta de ahorros que te ofrece el 4% de interés al año. \n",
    "#Estos ahorros debido a intereses, que no se cobran hasta finales de año, se te añaden al balance final de tu cuenta de ahorros. \n",
    "#Escribir un programa que comience leyendo la cantidad de dinero depositada en la cuenta de ahorros, introducida por el usuario. \n",
    "#Después el programa debe calcular y mostrar por pantalla la cantidad de ahorros tras el primer, segundo y tercer años. \n",
    "#Redondear cada cantidad a dos decimales.\n",
    "\n",
    "interes = 0.04\n",
    "montoinicial = float(input(\"Ingrese el monto inicial de apertura de cuenta: \"))\n",
    "subtotal = montoinicial * (1 + interes)\n",
    "print(\"El monto al primer año es: {}\".format(round(subtotal,2)))\n",
    "subtotal = subtotal * (1 + interes)\n",
    "print(\"El monto al segundo año es: {}\".format(round(subtotal,2)))\n",
    "subtotal = subtotal * (1 + interes)\n",
    "print(\"El monto al tercer año es: {}\".format(round(subtotal,2)))"
   ],
   "outputs": [],
   "metadata": {}
  },
  {
   "cell_type": "code",
   "execution_count": null,
   "source": [
    "#Una panadería vende barras de pan a 3.49€ cada una. El pan que no es el día tiene un descuento del 60%. \n",
    "#Escribir un programa que comience leyendo el número de barras vendidas que no son del día. \n",
    "#Después el programa debe mostrar el precio habitual de una barra de pan, \n",
    "#el descuento que se le hace por no ser fresca y el coste final total.\n",
    "\n",
    "precioPan = 3.49\n",
    "descuento = 0.60\n",
    "ventas = int(input(\"Ingresar la cantida de panes pedidas que no son del dia: \"))\n",
    "print(\"El precio de la barra de pan es: {}\".format(precioPan))\n",
    "print(\"El descuento del pan es: {}\".format(descuento*precioPan))\n",
    "print(\"El costo total del pedido es: {}\".format(precioPan*(1-descuento)*ventas))\n"
   ],
   "outputs": [],
   "metadata": {}
  }
 ],
 "metadata": {
  "orig_nbformat": 4,
  "language_info": {
   "name": "python",
   "version": "3.8.10",
   "mimetype": "text/x-python",
   "codemirror_mode": {
    "name": "ipython",
    "version": 3
   },
   "pygments_lexer": "ipython3",
   "nbconvert_exporter": "python",
   "file_extension": ".py"
  },
  "kernelspec": {
   "name": "python3",
   "display_name": "Python 3.8.10 64-bit"
  },
  "interpreter": {
   "hash": "916dbcbb3f70747c44a77c7bcd40155683ae19c65e1c03b4aa3499c5328201f1"
  }
 },
 "nbformat": 4,
 "nbformat_minor": 2
}