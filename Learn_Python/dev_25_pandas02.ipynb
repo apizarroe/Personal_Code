{
 "metadata": {
  "language_info": {
   "codemirror_mode": {
    "name": "ipython",
    "version": 3
   },
   "file_extension": ".py",
   "mimetype": "text/x-python",
   "name": "python",
   "nbconvert_exporter": "python",
   "pygments_lexer": "ipython3",
   "version": "3.8.10"
  },
  "orig_nbformat": 2,
  "kernelspec": {
   "name": "python3",
   "display_name": "Python 3.8.10 64-bit"
  },
  "interpreter": {
   "hash": "916dbcbb3f70747c44a77c7bcd40155683ae19c65e1c03b4aa3499c5328201f1"
  }
 },
 "nbformat": 4,
 "nbformat_minor": 2,
 "cells": [
  {
   "cell_type": "code",
   "execution_count": null,
   "source": [
    "###################Indices\n",
    "import pandas as pd\n",
    "lista_valores = [1,2,3]\n",
    "lista_indices = ['a','b','c']\n",
    "serie = pd.Series(lista_valores, index=lista_indices)\n",
    "print(serie)\n",
    "print(serie.index)\n",
    "print(serie.index[0])\n",
    "#Los indices de una serie son inmutables\n",
    "#serie.index[0] = 'z' (Mostrará error)\n",
    "lista_valores = [[6,7,8],[8,9,5],[6,9,7]]\n",
    "lista_indices = ['matemáticas','historia','física']\n",
    "lista_nombres = ['Antonio','Maria','Pedro']\n",
    "#Se construye un dataset con los la lista_valores (contenido), lista_indices (indice), lista_nombres (cabecera)\n",
    "dataframe = pd.DataFrame(lista_valores, index=lista_indices, columns=lista_nombres)\n",
    "print(dataframe)\n",
    "print(dataframe.index[1])"
   ],
   "outputs": [],
   "metadata": {}
  },
  {
   "cell_type": "code",
   "execution_count": null,
   "source": [
    "###################Elimar elementos en series y dataframe\n",
    "import pandas as pd\n",
    "import numpy as np\n",
    "print(np.arange(4))\n",
    "serie = pd.Series(np.arange(4), index=['a','b','c','d']) \n",
    "print(serie) \n",
    "#Se elimina el elemento con indice 'c'\n",
    "print(serie.drop('c'))\n",
    "#Se genera una serie de [3x3]\n",
    "lista_valores = np.arange(9).reshape(3,3)\n",
    "lista_indices = ['a','b','c']\n",
    "lista_columnas = ['c1','c2','c3']\n",
    "dataframe = pd.DataFrame(lista_valores,index=lista_indices,columns=lista_columnas)\n",
    "print(dataframe)\n",
    "#Se oculta el elemento con indice 'b'\n",
    "print(dataframe.drop('b'))\n",
    "#Se oculta la columnma con nombre 'c2'\n",
    "print(dataframe.drop('c2',axis=1))"
   ],
   "outputs": [],
   "metadata": {}
  },
  {
   "cell_type": "code",
   "execution_count": null,
   "source": [
    "###################Seleccionando datos en la series\n",
    "import pandas as pd\n",
    "import numpy as np\n",
    "lista_valores = np.arange(3)\n",
    "lista_indices = ['i1','i2','i3']\n",
    "serie = pd.Series(lista_valores, index=lista_indices)\n",
    "print(serie)\n",
    "#Se multiplican todos los valores de la serie x2\n",
    "serie = serie * 2\n",
    "print(serie)\n",
    "#Se selecciona el elemento con indice 'i2'\n",
    "print(serie['i2'])\n",
    "#Se selecciona el elemento con indice '2'\n",
    "print(serie[2])\n",
    "#Se selecciona el elemento con indice del 0 al 2\n",
    "print(serie[0:3])\n",
    "#Se selecciona el elemento con indice del 'i1' al 'i2'\n",
    "print(serie['i1':'i2'])\n",
    "#Se filta por aquellos valores que tienen valor mayor a 3\n",
    "print(serie[serie > 3])\n",
    "#Se asigna el valor 6 a los valores mayores a 6\n",
    "serie[serie > 3] = 6\n",
    "print(serie)"
   ],
   "outputs": [],
   "metadata": {}
  }
 ]
}