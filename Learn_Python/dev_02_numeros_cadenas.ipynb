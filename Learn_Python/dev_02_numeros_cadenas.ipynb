{
 "metadata": {
  "language_info": {
   "codemirror_mode": {
    "name": "ipython",
    "version": 3
   },
   "file_extension": ".py",
   "mimetype": "text/x-python",
   "name": "python",
   "nbconvert_exporter": "python",
   "pygments_lexer": "ipython3",
   "version": "3.6.8-final"
  },
  "orig_nbformat": 2,
  "kernelspec": {
   "name": "python3",
   "display_name": "Python 3"
  }
 },
 "nbformat": 4,
 "nbformat_minor": 2,
 "cells": [
  {
   "cell_type": "code",
   "execution_count": null,
   "metadata": {},
   "outputs": [],
   "source": [
    "###################Numeros\n",
    "numero1 = 5\n",
    "numero1\n",
    "#type nos muestra el tipo de variable\n",
    "print(type(numero1))\n",
    "\n",
    "numerodecimal = 3.7\n",
    "numerodecimal\n",
    "print(type(numerodecimal))\n",
    "\n",
    "numero1 = 5\n",
    "numero2 = 2.3\n",
    "suma = numero1 + numero2\n",
    "suma\n",
    "print(type(suma))"
   ]
  },
  {
   "cell_type": "code",
   "execution_count": null,
   "metadata": {},
   "outputs": [],
   "source": [
    "###################Cadenas\n",
    "cadena = \"Hola mundo\"\n",
    "cadena\n",
    "# H o l a   m u n d o\n",
    "# 0 1 2 3 4 5 6 7 8 9\n",
    "cadena[5] #substring\n",
    "print(cadena[-1]) #o\n",
    "print(cadena[2:7]) #la mu\n",
    "print(cadena[2:]) #la mundo\n",
    "#No se puede asignar valores\n",
    "# cadena[5] = 'p' - Mostrará error.\n",
    "\n",
    "cadena1 = 'Hola'\n",
    "cadena2 = 'mundo'\n",
    "cadena3 = ' '\n",
    "cadena = cadena1 + cadena3 + cadena2\n",
    "print(cadena)"
   ]
  },
  {
   "cell_type": "code",
   "execution_count": null,
   "metadata": {},
   "outputs": [],
   "source": [
    "###################Funciones cadena\n",
    "cadena = \"Hola mundo\"\n",
    "len(cadena) #longitud de cadena\n",
    "print(cadena.upper()) #se muestra en mayuscula, pero no se cambia la variable\n",
    "print(cadena) #aun esta en minuscula\n",
    "cadena = cadena.upper() #aca recién se modifica la variable\n",
    "print(cadena) #aca ya se encuentra en mayuscula, pero no se cambia la variable\n",
    "print(cadena.lower()) #se muestra en minuscula\n",
    "print(cadena.split()) #se muestran las palabras de la cadena ['HOLA', 'MUNDO']\n",
    "cadena2 = \"uva,pera,manzana,naranja\"\n",
    "print(cadena2.split(',')) #se secciona la cadena por un separador especifico para el ejemplo \",\""
   ]
  },
  {
   "cell_type": "code",
   "execution_count": null,
   "metadata": {},
   "outputs": [],
   "source": [
    "###################Imprimir variables en una cadena\n",
    "nombre = \"Antonio\"\n",
    "print(\"Buenos dias \" + nombre)\n",
    "#.format\n",
    "nombre = \"Antonio\" #Primer argumento.\n",
    "edad = 18 #Segundo argumento.\n",
    "ciudad = \"Lima\"\n",
    "print(\"Buenos dias {}, feliz {} cumpleaños.\".format(nombre,edad)) #Formato de asignación de variables.\n",
    "\n",
    "#otra forma de utiliza la asignacion de variables, mediante {r}\n",
    "resultado = 10/3\n",
    "resultado\n",
    "print(\"El resultado es {r}\".format(r=resultado))\n",
    "print(\"El resultado es {r:1.3f}\".format(r=resultado))\n",
    "\n",
    "#otra forma de utiliza la asignacion de variables, mediante f-string\n",
    "nombre = \"Antonio\"\n",
    "edad = 18\n",
    "print(f\"Buenos días {nombre}, feliz {edad} cumpleaños\")"
   ]
  }
 ]
}