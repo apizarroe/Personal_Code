{
 "metadata": {
  "language_info": {
   "codemirror_mode": {
    "name": "ipython",
    "version": 3
   },
   "file_extension": ".py",
   "mimetype": "text/x-python",
   "name": "python",
   "nbconvert_exporter": "python",
   "pygments_lexer": "ipython3",
   "version": "3.8.10"
  },
  "orig_nbformat": 2,
  "kernelspec": {
   "name": "python3",
   "display_name": "Python 3.8.10 64-bit"
  },
  "interpreter": {
   "hash": "916dbcbb3f70747c44a77c7bcd40155683ae19c65e1c03b4aa3499c5328201f1"
  }
 },
 "nbformat": 4,
 "nbformat_minor": 2,
 "cells": [
  {
   "cell_type": "code",
   "execution_count": null,
   "source": [
    "###################Seleccionando entradas para Dataframes\n",
    "import pandas as pd\n",
    "import numpy as np\n",
    "lista_valores = np.arange(25).reshape(5,5)\n",
    "print(lista_valores)\n",
    "lista_indices = ['i1','i2','i3','i4','i5']\n",
    "lista_columnas = ['c1','c2','c3','c4','c5']\n",
    "dataframe = pd.DataFrame(lista_valores, index=lista_indices, columns=lista_columnas)\n",
    "print(dataframe)\n",
    "#Se seleccionan los valores de la columna 'c2'\n",
    "print(dataframe['c2'])\n",
    "#Se seleccionan el valor de 'c2''i2'\n",
    "print(dataframe['c2']['i2'])\n",
    "#Se seleccionan los valores de las columnas 'c2' y 'c4'\n",
    "print(dataframe[['c3','c4']])\n",
    "#Se seleccionan los valores de las columnas 'c2', 'c3' y 'c4'\n",
    "print(dataframe[['c2','c3','c4']])\n",
    "#Se seleccionan los valores de las columnas 'c2' mayores a 15 (Se muestran las filas), filtrado\n",
    "print(dataframe[dataframe['c2'] > 15])\n",
    "#Verifica una condición mostrará True/False, esto no es filtrado!!!\n",
    "print(dataframe > 20)\n",
    "#Se seleccionan el valor de 'c4''i3'\n",
    "print(dataframe.loc['i3']['c4'])"
   ],
   "outputs": [],
   "metadata": {}
  },
  {
   "cell_type": "code",
   "execution_count": null,
   "source": [
    "###################Operaciones sobre series y dataframes\n",
    "import pandas as pd\n",
    "import numpy as np\n",
    "serie1 = pd.Series([0,1,2], index=['a','b','c'])\n",
    "serie2 = pd.Series([3,4,5,6], index=['a','b','c','d'])\n",
    "#Se realiza la suma de las series, las posiciones sin correspondencia quedan con 'NaN'\n",
    "print(serie1+serie2)\n",
    "lista_valores = np.arange(4).reshape(2,2)\n",
    "lista_indices = list('ab')\n",
    "print(lista_indices)\n",
    "lista_columnas = list('12')\n",
    "print(lista_columnas)\n",
    "dataframe = pd.DataFrame(lista_valores, index=lista_indices, columns=lista_columnas)\n",
    "print(dataframe)\n",
    "lista_valores_2 = np.arange(9).reshape(3,3)\n",
    "lista_indices_2 = list('abc')\n",
    "lista_columnas_2 = list('123')\n",
    "dataframe2 = pd.DataFrame(lista_valores_2, index=lista_indices_2, columns=lista_columnas_2)\n",
    "print(dataframe2)\n",
    "#Se realiza la suma de los dataframes, las posiciones sin correspondencia quedan con 'NaN'\n",
    "dataframe3 = dataframe + dataframe2\n",
    "print(dataframe3)\n",
    "#Para las posiciones que no tienen correspondencia se completara con '0'\n",
    "dataframe4 = dataframe.add(dataframe2,fill_value=0)\n",
    "print(dataframe4)\n",
    "#Las posiciones con valores menores a 3, se mostrará 'NaN'\n",
    "print(dataframe4[dataframe4 >= 3])"
   ],
   "outputs": [],
   "metadata": {}
  },
  {
   "cell_type": "code",
   "execution_count": null,
   "source": [
    "###################Ordenar y clasificar series\n",
    "import pandas as pd\n",
    "import numpy as np\n",
    "range(4)\n",
    "lista_valores = range(4)\n",
    "lista_indices = list('CABD')\n",
    "serie = pd.Series(lista_valores, index=lista_indices)\n",
    "print(serie)\n",
    "#Ordenamos serie por los indices\n",
    "print(serie.sort_index())\n",
    "#Ordenamos serie por los valores\n",
    "print(serie.sort_values())\n",
    "#Generamos un ranking de valores (1:el menor y 10:el mayor)\n",
    "print(serie.rank())"
   ],
   "outputs": [],
   "metadata": {}
  },
  {
   "cell_type": "code",
   "execution_count": null,
   "source": [
    "#Generamos una serie con 10 valores random\n",
    "serie2 = pd.Series(np.random.randn(10))\n",
    "print(serie2)\n",
    "print(serie2.rank())\n",
    "print(serie2.sort_values())\n",
    "print(serie2.sort_index())"
   ],
   "outputs": [],
   "metadata": {}
  }
 ]
}