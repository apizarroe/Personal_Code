{
 "metadata": {
  "language_info": {
   "codemirror_mode": {
    "name": "ipython",
    "version": 3
   },
   "file_extension": ".py",
   "mimetype": "text/x-python",
   "name": "python",
   "nbconvert_exporter": "python",
   "pygments_lexer": "ipython3",
   "version": "3.6.8-final"
  },
  "orig_nbformat": 2,
  "kernelspec": {
   "name": "python3",
   "display_name": "Python 3"
  }
 },
 "nbformat": 4,
 "nbformat_minor": 2,
 "cells": [
  {
   "cell_type": "code",
   "execution_count": null,
   "metadata": {},
   "outputs": [],
   "source": [
    "###################Fecha y hora\n",
    "from datetime import datetime\n",
    "\n",
    "fechayhora = datetime.now()\n",
    "print(fechayhora)\n",
    "\n",
    "año = fechayhora.year\n",
    "mes = fechayhora.month\n",
    "dia = fechayhora.day\n",
    "\n",
    "hora = fechayhora.hour\n",
    "minutos = fechayhora.minute\n",
    "segundos = fechayhora.second\n",
    "microsegundos = fechayhora.microsecond\n",
    "\n",
    "print(\"La hora es {}:{}:{}\".format(hora,minutos,segundos))"
   ]
  }
 ]
}