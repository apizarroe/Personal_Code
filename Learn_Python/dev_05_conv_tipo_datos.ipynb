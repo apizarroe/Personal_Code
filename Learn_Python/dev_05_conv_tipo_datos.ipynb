{
 "metadata": {
  "language_info": {
   "codemirror_mode": {
    "name": "ipython",
    "version": 3
   },
   "file_extension": ".py",
   "mimetype": "text/x-python",
   "name": "python",
   "nbconvert_exporter": "python",
   "pygments_lexer": "ipython3",
   "version": 3
  },
  "orig_nbformat": 2
 },
 "nbformat": 4,
 "nbformat_minor": 2,
 "cells": [
  {
   "cell_type": "code",
   "execution_count": null,
   "metadata": {},
   "outputs": [],
   "source": [
    "###################Conversion de tipo de datos\n",
    "numero = 5\n",
    "#se realiza la conversion de tipo numerico a tipo string\n",
    "cadena = str(numero)\n",
    "cadena\n",
    "numero\n",
    "print(type(cadena))\n",
    "\n",
    "cadena = '25'\n",
    "#se realiza la conversion de tipo string a tipo numerico\n",
    "numero = int(cadena)\n",
    "numero\n",
    "numero2 = 4\n",
    "suma = numero + numero2\n",
    "suma\n",
    "\n",
    "cadena = '25.7'\n",
    "#se realiza la conversion de tipo string a tipo flotante\n",
    "numerodecimal = float(cadena)\n",
    "numerodecimal\n",
    "\n",
    "numerodecimal2 = 2.3\n",
    "sumadecimal = numerodecimal +numerodecimal2\n",
    "sumadecimal\n",
    "print(type(sumadecimal))"
   ]
  }
 ]
}