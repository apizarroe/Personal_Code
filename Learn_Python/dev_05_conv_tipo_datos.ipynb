{
 "cells": [
  {
   "cell_type": "code",
   "execution_count": null,
   "source": [
    "###################Conversion de tipo de datos\n",
    "numero = 5\n",
    "#se realiza la conversion de tipo numerico a tipo string\n",
    "cadena = str(numero)\n",
    "print(cadena)\n",
    "print(type(cadena))\n",
    "\n",
    "cadena = '25'\n",
    "#se realiza la conversion de tipo string a tipo numerico\n",
    "numero = int(cadena)\n",
    "numero2 = 4\n",
    "suma = numero + numero2\n",
    "print(suma)\n",
    "print(type(suma))\n",
    "\n",
    "cadena = '25.7'\n",
    "#se realiza la conversion de tipo string a tipo flotante\n",
    "numerodecimal = float(cadena)\n",
    "print(numerodecimal)\n",
    "print(type(numerodecimal))\n",
    "\n",
    "numerodecimal2 = 2.3\n",
    "sumadecimal = numerodecimal +numerodecimal2\n",
    "print(sumadecimal)\n",
    "print(type(sumadecimal))"
   ],
   "outputs": [],
   "metadata": {}
  }
 ],
 "metadata": {
  "language_info": {
   "codemirror_mode": {
    "name": "ipython",
    "version": 3
   },
   "file_extension": ".py",
   "mimetype": "text/x-python",
   "name": "python",
   "nbconvert_exporter": "python",
   "pygments_lexer": "ipython3",
   "version": "3.8.10"
  },
  "orig_nbformat": 2,
  "kernelspec": {
   "name": "python3",
   "display_name": "Python 3.8.10 64-bit"
  },
  "interpreter": {
   "hash": "916dbcbb3f70747c44a77c7bcd40155683ae19c65e1c03b4aa3499c5328201f1"
  }
 },
 "nbformat": 4,
 "nbformat_minor": 2
}