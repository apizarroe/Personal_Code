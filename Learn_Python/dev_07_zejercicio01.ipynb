{
 "metadata": {
  "language_info": {
   "codemirror_mode": {
    "name": "ipython",
    "version": 3
   },
   "file_extension": ".py",
   "mimetype": "text/x-python",
   "name": "python",
   "nbconvert_exporter": "python",
   "pygments_lexer": "ipython3",
   "version": "3.8.10"
  },
  "orig_nbformat": 2,
  "kernelspec": {
   "name": "python3",
   "display_name": "Python 3.8.10 64-bit"
  },
  "interpreter": {
   "hash": "916dbcbb3f70747c44a77c7bcd40155683ae19c65e1c03b4aa3499c5328201f1"
  }
 },
 "nbformat": 4,
 "nbformat_minor": 2,
 "cells": [
  {
   "cell_type": "code",
   "execution_count": null,
   "source": [
    "###################Ejercicio\n",
    "#Crea un diccionario con los siguientes pares de valores\n",
    "#   manzana, apple\n",
    "#   naranja, orange\n",
    "#   platano, banana\n",
    "#   limon, lemon\n",
    "\n",
    "#Muestra la traduccion para la palabra \"naranja\"\n",
    "#Añade un elemento nuevo con \"piña\" y \"pineapple\"\n",
    "#Haz un bucle para mostrar todos los elementos del diccionario"
   ],
   "outputs": [],
   "metadata": {}
  },
  {
   "cell_type": "code",
   "execution_count": 2,
   "source": [
    "diccionario = {\"manzana\":\"apple\",\"naranja\":\"orange\",\"platano\":\"banana\",\"limon\":\"lemon\"}\n",
    "print(diccionario[\"naranja\"])\n",
    "diccionario[\"piña\"]=\"pineapple\"\n",
    "for clave,valor in diccionario.items():\n",
    "    print(\"{} en ingles es {}\".format(clave,valor))"
   ],
   "outputs": [
    {
     "output_type": "stream",
     "name": "stdout",
     "text": [
      "orange\n",
      "manzana en ingles es apple\n",
      "naranja en ingles es orange\n",
      "platano en ingles es banana\n",
      "limon en ingles es lemon\n",
      "piña en ingles es pineapple\n"
     ]
    }
   ],
   "metadata": {}
  },
  {
   "cell_type": "code",
   "execution_count": null,
   "source": [
    "###################Ejercicio\n",
    "#Creamos una variable \"nota\" que tenga el valor de 4.5\n",
    "#Creamos una variable \"trabajo_realizado\" que tenga el valor \"si\"\n",
    "#Calcular el valor de la variable \"nota_final\", teniendo en cuenta que, si la \"nota\" es mayor o igual a 4, y el valor de la variable \"trabajo_realizado\" es igual a \"si\", entonces \"nota_final\" sera igual a \"aprobado\", caso contrario sera igual a \"suspendido\""
   ],
   "outputs": [],
   "metadata": {}
  },
  {
   "cell_type": "code",
   "execution_count": null,
   "source": [
    "nota = 4.5\n",
    "trabajo_realizado = \"si\"\n",
    "notafinal = \"\"\n",
    "if (nota >= 4) and (trabajo_realizado == \"si\"):\n",
    "    notafinal = \"aprobado\"\n",
    "else:\n",
    "    notafinal = \"suspendido\"\n",
    "print(notafinal)"
   ],
   "outputs": [],
   "metadata": {}
  },
  {
   "cell_type": "code",
   "execution_count": null,
   "source": [
    "###################Ejercicio\n",
    "#1.Crear una variable \"inicio\" con el valor 1\n",
    "#2.Crear una variable \"fin\" con el valor 6\n",
    "#3.Hacer un bucle while que muestre tantas filas como valores haya entre \"inicio\" y \"fin\"\n",
    "#4.En cada iteracción del bucle mostrar el texto \"Este es la fila \" + numero de fila en que esta"
   ],
   "outputs": [],
   "metadata": {}
  },
  {
   "cell_type": "code",
   "execution_count": null,
   "source": [
    "inicio = 1; fin = 6\n",
    "while (inicio < fin-1):\n",
    "    inicio =  inicio + 1\n",
    "    print(\"Este es la fila \" + str(inicio))"
   ],
   "outputs": [],
   "metadata": {}
  }
 ]
}