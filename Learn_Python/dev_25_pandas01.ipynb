{
 "metadata": {
  "language_info": {
   "codemirror_mode": {
    "name": "ipython",
    "version": 3
   },
   "file_extension": ".py",
   "mimetype": "text/x-python",
   "name": "python",
   "nbconvert_exporter": "python",
   "pygments_lexer": "ipython3",
   "version": "3.8.10"
  },
  "orig_nbformat": 2,
  "kernelspec": {
   "name": "python3",
   "display_name": "Python 3.8.10 64-bit"
  },
  "interpreter": {
   "hash": "916dbcbb3f70747c44a77c7bcd40155683ae19c65e1c03b4aa3499c5328201f1"
  }
 },
 "nbformat": 4,
 "nbformat_minor": 2,
 "cells": [
  {
   "cell_type": "code",
   "execution_count": null,
   "source": [
    "#pandas is a Python package providing fast, flexible, and expressive data structures designed \n",
    "# to make working with “relational” or “labeled” data both easy and intuitive. \n",
    "# It aims to be the fundamental high-level building block for doing practical, real-world data analysis in Python. \n",
    "# Additionally, it has the broader goal of becoming the most powerful and \n",
    "# flexible open source data analysis/manipulation tool available in any language. It is already well on its way toward this goal. \n",
    "# https://pandas.pydata.org/docs/getting_started/index.html"
   ],
   "outputs": [],
   "metadata": {}
  },
  {
   "cell_type": "code",
   "execution_count": null,
   "source": [
    "###################Series\n",
    "import pandas as pd\n",
    "serie1 = pd.Series([3,5,7])\n",
    "print(serie1)\n",
    "print(serie1[1])\n",
    "#Se crea una serie a partir de dos series asignaturas y notas\n",
    "asignaturas = ['matematicas','historia','fisica','literatura']\n",
    "notas = [8,6,9,7]\n",
    "serie_notas_alumno = pd.Series(notas,index=asignaturas)\n",
    "print(serie_notas_alumno)\n",
    "#Se filtra la serie para aquellos registros con notas mayor e igual a 8\n",
    "print(serie_notas_alumno[serie_notas_alumno >= 8])\n",
    "#Se asigna el nombre a la serie: 'Notas de Alumno'\n",
    "serie_notas_alumno.name = 'Notas de Alumno'\n",
    "print(serie_notas_alumno)\n",
    "#Se asigna el nombre a la serie: 'Asignaturas de Alumno'\n",
    "serie_notas_alumno.index.name = 'Asignaturas de Alumno'\n",
    "print(serie_notas_alumno)"
   ],
   "outputs": [],
   "metadata": {}
  },
  {
   "cell_type": "code",
   "execution_count": null,
   "source": [
    "#La serie se convierte a un diccionario\n",
    "diccionario = serie_notas_alumno.to_dict()\n",
    "print(diccionario)\n",
    "#El diccionario se convierte a una serie\n",
    "serie = pd.Series(diccionario)\n",
    "print(serie)\n",
    "#Se crea una serie a partir de dos series asignaturas y notas\n",
    "asignaturas = ['matematicas','historia','fisica','literatura']\n",
    "notas_alumno2 = [7,8,5,9]\n",
    "serie_notas_alumno2 = pd.Series(notas_alumno2,index=asignaturas)\n",
    "print(serie_notas_alumno2)\n",
    "#Se obtiene el promedio de los valores de las series\n",
    "serie_notas_clase = (serie_notas_alumno + serie_notas_alumno2)/2\n",
    "print(serie_notas_clase)"
   ],
   "outputs": [],
   "metadata": {}
  },
  {
   "cell_type": "code",
   "execution_count": null,
   "source": [
    "###################Dataframe\n",
    "import pandas as pd\n",
    "import webbrowser\n",
    "website = 'https://es.wikipedia.org/wiki/Anexo:Campeones_de_la_NBA'\n",
    "webbrowser.open(website)"
   ],
   "outputs": [],
   "metadata": {}
  },
  {
   "cell_type": "code",
   "execution_count": null,
   "source": [
    "#Para esto copiar del navegador abierto el contenido del cuadro \"Campeones de la NBA\" de la cabecera en adelante\n",
    "dataframe_nba = pd.read_clipboard()\n",
    "print(dataframe_nba)"
   ],
   "outputs": [],
   "metadata": {}
  },
  {
   "cell_type": "code",
   "execution_count": null,
   "source": [
    "#Mostramos las columnas del dataframe\n",
    "print(dataframe_nba.columns)\n",
    "#Mostramos los datos de la columna: 'Campeón del Oeste'\n",
    "print(dataframe_nba['Campeón del Oeste'])\n",
    "#Mostramos la fila de la posición 5 (La primera posicion es la 0)\n",
    "print(dataframe_nba.loc[5])\n",
    "#Se muestran las 5 primeras filas del dataframe (Por defecto)\n",
    "print(dataframe_nba.head())\n",
    "#print(dataframe_nba.head(n)) Si ponemos un valor \"n\" indicamos la cantidad de los registros requeridos\n",
    "#Se muestran las 5 ultimas filas del dataframe (Por defecto)\n",
    "print(dataframe_nba.tail())\n",
    "#print(dataframe_nba.tail(n)) Si ponemos un valor \"n\" indicamos la cantidad de los registros requeridos"
   ],
   "outputs": [],
   "metadata": {}
  },
  {
   "cell_type": "code",
   "execution_count": null,
   "source": [
    "#Creacion de un DataFramea a partir de 3 listas\n",
    "lista_asignaturas = ['matematicas','historia','fisica']\n",
    "lista_notas1 = [8,7,9]\n",
    "lista_notas2 = [9,8,7]\n",
    "#Se genera un diccionario con la informacion de la metadata, nombres de columnas y datos\n",
    "diccionario = {'Asiganuras':lista_asignaturas, 'Notas1':lista_notas1, 'Notas2':lista_notas2}\n",
    "print(diccionario)\n",
    "dataframe_notas = pd.DataFrame(diccionario)\n",
    "print(dataframe_notas)"
   ],
   "outputs": [],
   "metadata": {}
  },
  {
   "cell_type": "code",
   "execution_count": null,
   "source": [
    "import pandas as pd\n",
    "import matplotlib.pyplot as plt\n",
    "\n",
    "#Otra forma de generar un DataFrame con Series\n",
    "author = ['Jitender', 'Purnima', 'Arpit', 'Jyoti']\n",
    "article = [210, 211, 114, 178]\n",
    "auth_series = pd.Series(author)\n",
    "article_series = pd.Series(article)\n",
    "#Se genera un diccionario con la informacion de la metadata, nombres de columnas y datos\n",
    "frame = { 'Author': auth_series, 'Article': article_series }\n",
    "result = pd.DataFrame(frame)\n",
    "age = [21, 21, 24, 23]\n",
    "result['Age'] = pd.Series(age)\n",
    "print(result)\n",
    "\n",
    "result.plot.bar()\n",
    "plt.show()"
   ],
   "outputs": [],
   "metadata": {}
  }
 ]
}