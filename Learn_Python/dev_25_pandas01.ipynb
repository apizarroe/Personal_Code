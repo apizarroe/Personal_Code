{
 "metadata": {
  "language_info": {
   "codemirror_mode": {
    "name": "ipython",
    "version": 3
   },
   "file_extension": ".py",
   "mimetype": "text/x-python",
   "name": "python",
   "nbconvert_exporter": "python",
   "pygments_lexer": "ipython3",
   "version": "3.6.8-final"
  },
  "orig_nbformat": 2,
  "kernelspec": {
   "name": "python3",
   "display_name": "Python 3"
  }
 },
 "nbformat": 4,
 "nbformat_minor": 2,
 "cells": [
  {
   "cell_type": "code",
   "execution_count": null,
   "metadata": {},
   "outputs": [],
   "source": [
    "###################Series\n",
    "import pandas as pd\n",
    "serie1 = pd.Series([3,5,7])\n",
    "print(serie1)\n",
    "print(serie1[1])\n",
    "#Se crea una serie a partir de dos series asignaturas y notas\n",
    "asignaturas = ['matematicas','historia','fisica','literatura']\n",
    "notas = [8,6,9,7]\n",
    "serie_notas_alumno = pd.Series(notas,index=asignaturas)\n",
    "print(serie_notas_alumno)\n",
    "#Se filtra la serie para aquellos registros con notas mayor e igual a 8\n",
    "print(serie_notas_alumno[serie_notas_alumno >= 8])\n",
    "#Se asigna el nombre a la serie: 'Notas de Alumno'\n",
    "serie_notas_alumno.name = 'Notas de Alumno'\n",
    "print(serie_notas_alumno)\n",
    "#Se asigna el nombre a la serie: 'Asignaturas de Alumno'\n",
    "serie_notas_alumno.index.name = 'Asignaturas de Alumno'\n",
    "print(serie_notas_alumno)\n",
    "#La serie se convierte a un diccionario\n",
    "diccionario = serie_notas_alumno.to_dict()\n",
    "print(diccionario)\n",
    "#El diccionario se convierte a una serie\n",
    "serie = pd.Series(diccionario)\n",
    "print(serie)\n",
    "#Se crea una serie a partir de dos series asignaturas y notas\n",
    "asignaturas = ['matematicas','historia','fisica','literatura']\n",
    "notas_alumno2 = [7,8,5,9]\n",
    "serie_notas_alumno2 = pd.Series(notas_alumno2,index=asignaturas)\n",
    "print(serie_notas_alumno2)\n",
    "#Se obtiene el promedio de los valores de las series\n",
    "serie_notas_clase = (serie_notas_alumno + serie_notas_alumno2)/2\n",
    "print(serie_notas_clase)"
   ]
  },
  {
   "cell_type": "code",
   "execution_count": null,
   "metadata": {},
   "outputs": [],
   "source": [
    "###################Dataframe\n",
    "import pandas as pd\n",
    "import webbrowser\n",
    "website = 'https://es.wikipedia.org/wiki/Anexo:Campeones_de_la_NBA'\n",
    "webbrowser.open(website)"
   ]
  },
  {
   "cell_type": "code",
   "execution_count": null,
   "metadata": {},
   "outputs": [],
   "source": [
    "#Para esto copiar del navegador abierto el contenido del cuadro \"Campeones de la NBA\" de la cabecera en adelante\n",
    "dataframe_nba = pd.read_clipboard()\n",
    "print(dataframe_nba)"
   ]
  },
  {
   "cell_type": "code",
   "execution_count": null,
   "metadata": {},
   "outputs": [],
   "source": [
    "#Mostramos las columnas del dataframe\n",
    "print(dataframe_nba.columns)\n",
    "#Mostramos los datos de la columna: 'Campeón del Oeste'\n",
    "print(dataframe_nba['Campeón del Oeste'])\n",
    "#Mostramos la fila de la posición 5 (La primera posicion es la 0)\n",
    "print(dataframe_nba.loc[5])\n",
    "#Se muestran las 5 primeras filas del dataframe (Por defecto)\n",
    "print(dataframe_nba.head())\n",
    "#print(dataframe_nba.head(n)) Si ponemos un valor \"n\" indicamos la cantidad de los registros requeridos\n",
    "#Se muestran las 5 ultimas filas del dataframe (Por defecto)\n",
    "print(dataframe_nba.tail())\n",
    "#print(dataframe_nba.tail(n)) Si ponemos un valor \"n\" indicamos la cantidad de los registros requeridos"
   ]
  },
  {
   "cell_type": "code",
   "execution_count": null,
   "metadata": {},
   "outputs": [],
   "source": [
    "lista_asignaturas = ['matematicas','historia','fisica']\n",
    "lista_notas = [8,7,9]\n",
    "diccionario = {'Asiganuras':lista_asignaturas, 'Notas':lista_notas}\n",
    "print(diccionario)\n",
    "dataframe_notas = pd.DataFrame(diccionario)\n",
    "print(dataframe_notas)"
   ]
  }
 ]
}