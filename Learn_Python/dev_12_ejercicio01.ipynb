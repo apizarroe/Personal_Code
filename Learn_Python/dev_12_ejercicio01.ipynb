{
 "metadata": {
  "language_info": {
   "codemirror_mode": {
    "name": "ipython",
    "version": 3
   },
   "file_extension": ".py",
   "mimetype": "text/x-python",
   "name": "python",
   "nbconvert_exporter": "python",
   "pygments_lexer": "ipython3",
   "version": "3.6.8-final"
  },
  "orig_nbformat": 2,
  "kernelspec": {
   "name": "python3",
   "display_name": "Python 3"
  }
 },
 "nbformat": 4,
 "nbformat_minor": 2,
 "cells": [
  {
   "cell_type": "code",
   "execution_count": null,
   "metadata": {},
   "outputs": [],
   "source": [
    "###################Ejercicio\n",
    "#Crear el diccionario de \"frutas\"\n",
    "#frutas = {\"manzana\":\"apple\",\"naranja\":\"orange\",\"platano\":\"banana\",\"limon\":\"lemon\"}\n",
    "#\n",
    "#Grabar esta estructura de datos \"frutas\" en un fichero binario \"fichero.pckl\"\n",
    "#Ya que en un fichero de texto, solo se guardan caracteres, pero no se pueden guardar estas estructuras\n",
    "#\n",
    "#Recuperar esta estructura de datos del fichero \"fichero.pckl\"\n",
    "#Verificar que sigue siendo un diccionario, ejecutando el metodo .values()"
   ]
  },
  {
   "cell_type": "code",
   "execution_count": null,
   "metadata": {},
   "outputs": [],
   "source": [
    "import pickle\n",
    "frutas = {\"manzana\":\"apple\",\"naranja\":\"orange\",\"platano\":\"banana\",\"limon\":\"lemon\"}\n",
    "fichero = open(\"dev_12_ejercicio_fichero_frutas.pckl\",\"wb\")\n",
    "pickle.dump(frutas,fichero)\n",
    "fichero.close()\n",
    "\n",
    "fichero = open(\"dev_12_ejercicio_fichero_frutas.pckl\",\"rb\")\n",
    "diccionario_fichero = pickle.load(fichero)\n",
    "print(diccionario_fichero)\n",
    "fichero.close()\n",
    "\n",
    "diccionario_fichero.values()"
   ]
  }
 ]
}