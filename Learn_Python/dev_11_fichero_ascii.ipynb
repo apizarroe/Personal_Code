{
 "metadata": {
  "language_info": {
   "codemirror_mode": {
    "name": "ipython",
    "version": 3
   },
   "file_extension": ".py",
   "mimetype": "text/x-python",
   "name": "python",
   "nbconvert_exporter": "python",
   "pygments_lexer": "ipython3",
   "version": "3.8.10"
  },
  "orig_nbformat": 2,
  "kernelspec": {
   "name": "python3",
   "display_name": "Python 3.8.10 64-bit"
  },
  "interpreter": {
   "hash": "916dbcbb3f70747c44a77c7bcd40155683ae19c65e1c03b4aa3499c5328201f1"
  }
 },
 "nbformat": 4,
 "nbformat_minor": 2,
 "cells": [
  {
   "cell_type": "code",
   "execution_count": null,
   "source": [
    "###################Ficheros Texto\n",
    "#Inicializamos el fichero de prueba (Abajo se explica esta función)\n",
    "fichero = open(\"dev_11_fichero_para_leer.txt\",\"wt\")\n",
    "texto_del_fichero = \"Esto es un fichero de ejemplo,\\nque tiene 2 líneas de texto\"\n",
    "texto_del_fichero = texto_del_fichero\n",
    "fichero.write(texto_del_fichero)\n",
    "fichero.close()"
   ],
   "outputs": [],
   "metadata": {}
  },
  {
   "cell_type": "code",
   "execution_count": null,
   "source": [
    "#Leer el fichero de texto\n",
    "#abrimos el fichero en modo lectura - texto\n",
    "fichero = open(\"dev_11_fichero_para_leer.txt\",\"rt\")\n",
    "#Esto es para leer un fichero de texto, controlando los caracteres extaños.\n",
    "datos_fichero = fichero.read()\n",
    "print(datos_fichero)\n",
    "fichero.close()"
   ],
   "outputs": [],
   "metadata": {}
  },
  {
   "cell_type": "code",
   "execution_count": null,
   "source": [
    "#Grabar un fichero de texto\n",
    "#abrimos el fichero en modo escritura - texto\n",
    "fichero = open(\"dev_11_fichero_para_grabar.txt\",\"wt\")\n",
    "texto_del_fichero = \"Hola, esta es la línea que vamos a grabar en el fichero de texto \\nEsto es un salto de línea\"\n",
    "texto_del_fichero = texto_del_fichero.encode(\"utf-8\").decode(\"utf-8\")\n",
    "#Esto es para escribir en un fichero de texto.\n",
    "fichero.write(texto_del_fichero)\n",
    "fichero.close()"
   ],
   "outputs": [],
   "metadata": {}
  },
  {
   "cell_type": "code",
   "execution_count": null,
   "source": [
    "#Incluir datos ficheros\n",
    "fichero = open(\"dev_11_fichero_para_leer.txt\",\"at\")\n",
    "cadena_para_incluir = \"\\nEsta es la tercera fila del fichero. Revisión\"\n",
    "cadena_para_incluir = cadena_para_incluir\n",
    "fichero.write(cadena_para_incluir)\n",
    "fichero.close()"
   ],
   "outputs": [],
   "metadata": {}
  },
  {
   "cell_type": "code",
   "execution_count": null,
   "source": [
    "#Borra Fichero\n",
    "import os\n",
    "os.remove(\"dev_11_fichero_para_leer.txt\")"
   ],
   "outputs": [],
   "metadata": {}
  }
 ]
}