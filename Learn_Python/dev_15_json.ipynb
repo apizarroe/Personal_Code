{
 "metadata": {
  "language_info": {
   "codemirror_mode": {
    "name": "ipython",
    "version": 3
   },
   "file_extension": ".py",
   "mimetype": "text/x-python",
   "name": "python",
   "nbconvert_exporter": "python",
   "pygments_lexer": "ipython3",
   "version": "3.6.8-final"
  },
  "orig_nbformat": 2,
  "kernelspec": {
   "name": "python3",
   "display_name": "Python 3"
  }
 },
 "nbformat": 4,
 "nbformat_minor": 2,
 "cells": [
  {
   "cell_type": "code",
   "execution_count": null,
   "metadata": {},
   "outputs": [],
   "source": [
    "###################JSON\n",
    "#Convertir datos de un diccionario Python a una esrtuctura JSON\n",
    "producto1 = {\"nombre\":\"silla\", \"color\":\"blanco\", \"precio\":80}\n",
    "import json\n",
    "estructura_json = json.dumps(producto1)\n",
    "print(estructura_json)\n",
    "#Muestra error puesto que no es un diccionario, si no un json\n",
    "#estructura_json[\"nombre\"]\n",
    "#Es una cadena de texto y se puede acceder a las posiciones\n",
    "print(estructura_json[0])\n",
    "print(producto1[\"nombre\"])\n",
    "print(type(estructura_json))\n",
    "\n",
    "#Convertir una estructura JSON en un diccionario en Python\n",
    "producto2 = json.loads(estructura_json)\n",
    "print(producto2[\"precio\"])\n",
    "print(type(producto2))"
   ]
  },
  {
   "cell_type": "code",
   "execution_count": null,
   "metadata": {},
   "outputs": [],
   "source": []
  },
  {
   "cell_type": "code",
   "execution_count": null,
   "metadata": {},
   "outputs": [],
   "source": []
  }
 ]
}