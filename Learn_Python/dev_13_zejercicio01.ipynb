{
 "metadata": {
  "language_info": {
   "codemirror_mode": {
    "name": "ipython",
    "version": 3
   },
   "file_extension": ".py",
   "mimetype": "text/x-python",
   "name": "python",
   "nbconvert_exporter": "python",
   "pygments_lexer": "ipython3",
   "version": "3.8.10"
  },
  "orig_nbformat": 2,
  "kernelspec": {
   "name": "python3",
   "display_name": "Python 3.8.10 64-bit"
  },
  "interpreter": {
   "hash": "916dbcbb3f70747c44a77c7bcd40155683ae19c65e1c03b4aa3499c5328201f1"
  }
 },
 "nbformat": 4,
 "nbformat_minor": 2,
 "cells": [
  {
   "cell_type": "code",
   "execution_count": null,
   "source": [
    "###################Ejercicio\n",
    "#Crear la función \"operación\" que dados 3 números, divida el primer número entre la resta de los otros dos numeros\n",
    "#\n",
    "#Utilizar la funcion creada con los numeros 5,4,2\n",
    "#Utilizar la funcion creada con los numeros 6,3,3\n",
    "#\n",
    "#Utilizar el bloque try... except para controlar cualquier posible error"
   ],
   "outputs": [],
   "metadata": {}
  },
  {
   "cell_type": "code",
   "execution_count": null,
   "source": [
    "def operacion(num1, num2, num3):\n",
    "    try:\n",
    "        resta = num2-num3\n",
    "        resultado =  num1/resta\n",
    "        return resultado\n",
    "    except ZeroDivisionError:\n",
    "        return \"Division entre 0 invalida\"\n",
    "\n",
    "resultado1 = operacion(5,4,2)\n",
    "print(\"El resutado de la primera operacion es: {}\".format(resultado1))\n",
    "\n",
    "resultado2 = operacion(6,3,3)\n",
    "print(\"El resutado de la primera operacion es: {}\".format(resultado2))"
   ],
   "outputs": [],
   "metadata": {}
  }
 ]
}