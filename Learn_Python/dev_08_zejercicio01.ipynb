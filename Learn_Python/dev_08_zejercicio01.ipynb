{
 "metadata": {
  "language_info": {
   "codemirror_mode": {
    "name": "ipython",
    "version": 3
   },
   "file_extension": ".py",
   "mimetype": "text/x-python",
   "name": "python",
   "nbconvert_exporter": "python",
   "pygments_lexer": "ipython3",
   "version": "3.8.10"
  },
  "orig_nbformat": 2,
  "kernelspec": {
   "name": "python3",
   "display_name": "Python 3.8.10 64-bit"
  },
  "interpreter": {
   "hash": "916dbcbb3f70747c44a77c7bcd40155683ae19c65e1c03b4aa3499c5328201f1"
  }
 },
 "nbformat": 4,
 "nbformat_minor": 2,
 "cells": [
  {
   "cell_type": "code",
   "execution_count": null,
   "source": [
    "###################Ejercicio\n",
    "#Crear una clase \"Coche\" que tenga los atributos:\n",
    "#marca, color, combustible y cilindrada\n",
    "#\n",
    "#Crear la funcion \"__init__\" que asigna los parametros de la clase a los attributos de la clase\n",
    "#\n",
    "#Crear otra funcion \"mostrar_caracteristicas\" que mediante print muestre por pantalla\n",
    "#las caracteristicas (o atributos) que tiene el coche\n",
    "#\n",
    "#Crear un objeto \"coche1\" de la clase \"Coche\" con los atributos \"Opel\",\"rojo\",\"gasolina\",\"1.6\"\n",
    "#\n",
    "#Ejecutar la funcion \"mostrar_caracteristicas\" del objeto \"coche1\""
   ],
   "outputs": [],
   "metadata": {}
  },
  {
   "cell_type": "code",
   "execution_count": null,
   "source": [
    "class Coche:\n",
    "    def __init__(self,marca,color,combustible,cilindrada):\n",
    "        self.marca = marca\n",
    "        self.color = color\n",
    "        self.combustible = combustible\n",
    "        self.cilindrada = cilindrada\n",
    "    \n",
    "    def mostrar_caracteristicas(self):\n",
    "        print(\"Este coche es de la marca {} de color {} de {} y una cilindrada de {}\".format(self.marca,self.color,self.combustible,self.cilindrada))\n",
    "\n",
    "coche1 = Coche(\"Opel\",\"rojo\",\"gasolina\",\"1.6\")\n",
    "coche1.mostrar_caracteristicas()"
   ],
   "outputs": [],
   "metadata": {}
  },
  {
   "cell_type": "code",
   "execution_count": null,
   "source": [
    "###################Ejercicio\n",
    "#Crear una funcion lamba que calcule la media de 3 notas"
   ],
   "outputs": [],
   "metadata": {}
  },
  {
   "cell_type": "code",
   "execution_count": null,
   "source": [
    "resultado = lambda nota1,nota2,nota3: (nota1 + nota2 + nota3)/3\n",
    "print(resultado(10,20,40))"
   ],
   "outputs": [],
   "metadata": {}
  }
 ]
}