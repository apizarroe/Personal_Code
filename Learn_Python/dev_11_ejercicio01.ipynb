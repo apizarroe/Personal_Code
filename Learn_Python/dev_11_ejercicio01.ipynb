{
 "metadata": {
  "language_info": {
   "codemirror_mode": {
    "name": "ipython",
    "version": 3
   },
   "file_extension": ".py",
   "mimetype": "text/x-python",
   "name": "python",
   "nbconvert_exporter": "python",
   "pygments_lexer": "ipython3",
   "version": 3
  },
  "orig_nbformat": 2
 },
 "nbformat": 4,
 "nbformat_minor": 2,
 "cells": [
  {
   "cell_type": "code",
   "execution_count": null,
   "metadata": {},
   "outputs": [],
   "source": [
    "###################Ejercicio\n",
    "#Crear el modulo \"moduloficheros.py\"\n",
    "#   Crear una clase \"Fichero\"\n",
    "#   Crear la funcion \"leer_fichero\" para leer desde un fichero de texto\n",
    "#   Crear la funcion \"grabar_fichero\" para crear un fichero de texto\n",
    "#   Crear la funcion \"incluir_fichero\" para incluir datos al final de un fichero de texto\n",
    "#\n",
    "#Crear un programa \"programa1.py\"\n",
    "#   Crear el objeto \"fichero\" de la clase \"Fichero\" del modulo \"moduloficheros.py\"\n",
    "#   Utilizar el metodo \"grabar_fichero\" del objeto \"fichero\" para crear un nuevo fichero de texto\n",
    "#   Utilizar el metodo \"incluir_fichero\" para incorporar mas datos al final del fichero\n",
    "#   Utilizar el metodo \"leer_fichero\" para ver todo el contenido del fichero\n",
    "#\n",
    "#Ejecutar el programa \"programa1.py\" desde la terminal de comandos"
   ]
  }
 ]
}