{
 "metadata": {
  "language_info": {
   "codemirror_mode": {
    "name": "ipython",
    "version": 3
   },
   "file_extension": ".py",
   "mimetype": "text/x-python",
   "name": "python",
   "nbconvert_exporter": "python",
   "pygments_lexer": "ipython3",
   "version": "3.8.10"
  },
  "orig_nbformat": 2,
  "kernelspec": {
   "name": "python3",
   "display_name": "Python 3.8.10 64-bit"
  },
  "interpreter": {
   "hash": "916dbcbb3f70747c44a77c7bcd40155683ae19c65e1c03b4aa3499c5328201f1"
  }
 },
 "nbformat": 4,
 "nbformat_minor": 2,
 "cells": [
  {
   "cell_type": "code",
   "execution_count": null,
   "source": [
    "###################Pip\n",
    "import camelcase\n",
    "camel = camelcase.CamelCase()\n",
    "\n",
    "texto = \"mi nombre es antonio\"\n",
    "print(camel.hump(texto))\n",
    "\n",
    "text1 = \"this is a sentence that needs CamelCasing\"\n",
    "print(camel.hump(text1))\n",
    "\n",
    "text2 = \"mi nombre es antonio\"\n",
    "camel = camelcase.CamelCase(\"mi\",\"es\")\n",
    "print(camel.hump(text2))"
   ],
   "outputs": [],
   "metadata": {}
  }
 ]
}