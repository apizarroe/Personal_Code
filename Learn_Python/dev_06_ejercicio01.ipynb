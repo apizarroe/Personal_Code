{
 "metadata": {
  "language_info": {
   "codemirror_mode": {
    "name": "ipython",
    "version": 3
   },
   "file_extension": ".py",
   "mimetype": "text/x-python",
   "name": "python",
   "nbconvert_exporter": "python",
   "pygments_lexer": "ipython3",
   "version": "3.6.8-final"
  },
  "orig_nbformat": 2,
  "kernelspec": {
   "name": "python3",
   "display_name": "Python 3"
  }
 },
 "nbformat": 4,
 "nbformat_minor": 2,
 "cells": [
  {
   "cell_type": "code",
   "execution_count": null,
   "metadata": {},
   "outputs": [],
   "source": [
    "###################Ejercicio\n",
    "#Dada la siguiente lista = [1,2,5,25,33,56,75,21,56,89,43,13,62,24]\n",
    "#Mostrar mediante el metodo \"print\" y el operador \"in\" , si el numero 21 esta en la lista"
   ]
  },
  {
   "cell_type": "code",
   "execution_count": null,
   "metadata": {},
   "outputs": [],
   "source": [
    "lista = [1,2,5,25,33,56,75,21,56,89,43,13,62,24]\n",
    "numero = 21\n",
    "resultado = str(numero in lista)\n",
    "print(\"El numero 21 se encuentra en la lista? : \" + resultado)"
   ]
  },
  {
   "cell_type": "code",
   "execution_count": null,
   "metadata": {},
   "outputs": [],
   "source": [
    "###################Ejercicio\n",
    "#1.Crear una variable \"tupla\" que sea una tupla de los siguientes nombres: Antonio, Pedro y Maria\n",
    "#2.Mostrar el valor de la variable \"tupla\"\n",
    "#3.Recoger un dato por teclado ya almacenarlo en la variable \"dato\"\n",
    "#4.Si el valor de \"dato\" está dentro de los valores de la variable \"tupla\", mostrar \"Si\"\n",
    "#5.Si el valor de \"dato\" no está dentro de los valores de la variable \"tupla\", mostrar \"No\""
   ]
  },
  {
   "cell_type": "code",
   "execution_count": null,
   "metadata": {},
   "outputs": [],
   "source": [
    "tupla = (\"Antonio\", \"Pedro\", \"Maria\")\n",
    "print(tupla)\n",
    "dato = input()\n",
    "if dato in tupla:\n",
    "    print(\"Si\")\n",
    "else:\n",
    "    print(\"No\")"
   ]
  },
  {
   "cell_type": "code",
   "execution_count": null,
   "metadata": {},
   "outputs": [],
   "source": [
    "###################Ejercicio\n",
    "#1.Crear una variable \"conjunto\" que sea un conjunto de los valores 1,2,3,4 y 5\n",
    "#2.Mostrar el valor de la variable \"conjunto\"\n",
    "#3.Añadir los numeros 6,7,8 y 9 \n",
    "#4.Mostrar ahora el valor de la variable \"conjunto\"\n",
    "#5.Eliminar el numero 9 de la variable \"conjunto\"\n",
    "#6.Mostrar ahora el valor de la variable \"conjunto\"\n",
    "#7.Verificar que tipo de dato es la variable \"conjunto\" mediante type()"
   ]
  },
  {
   "cell_type": "code",
   "execution_count": null,
   "metadata": {},
   "outputs": [],
   "source": [
    "conjunto = {1,2,3,4,5}\n",
    "print(conjunto)\n",
    "conjunto.add(6)\n",
    "conjunto.add(7)\n",
    "conjunto.add(8)\n",
    "conjunto.add(9)\n",
    "print(conjunto)\n",
    "conjunto.remove(9)\n",
    "print(conjunto)\n",
    "print(type(conjunto))"
   ]
  },
  {
   "cell_type": "code",
   "execution_count": null,
   "metadata": {},
   "outputs": [],
   "source": [
    "###################Ejercicio\n",
    "#1.Crear una variable \"diccionario\" con los pares de valores siguientes\n",
    "#   clave = uno     valor = one\n",
    "#   clave = dos     valor = two\n",
    "#   clave = tres    valor = three\n",
    "#2.Mostrar en pantalla el valor de la variable diccionario\n",
    "#3.Añadir un nuevo elemento al diccionario\n",
    "#   clave = cuatro  valor= four\n",
    "#4.Mostrar ahora el valor del diccionario\n",
    "#5.Recogemos un valor introducido por teclado y almacenarlo en \"dato\"\n",
    "#6.Utilizar \"dato\" como clave del diccionario para recuperar su valor"
   ]
  },
  {
   "cell_type": "code",
   "execution_count": null,
   "metadata": {},
   "outputs": [],
   "source": [
    "diccionario = {\"uno\":\"one\",\"dos\":\"two\",\"tres\":\"three\"}\n",
    "print(diccionario)\n",
    "diccionario[\"cuatro\"] = \"four\"\n",
    "print(diccionario)\n",
    "dato = input()\n",
    "print(diccionario[dato])"
   ]
  }
 ]
}