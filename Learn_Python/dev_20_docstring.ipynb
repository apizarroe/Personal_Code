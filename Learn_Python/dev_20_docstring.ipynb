{
 "metadata": {
  "language_info": {
   "codemirror_mode": {
    "name": "ipython",
    "version": 3
   },
   "file_extension": ".py",
   "mimetype": "text/x-python",
   "name": "python",
   "nbconvert_exporter": "python",
   "pygments_lexer": "ipython3",
   "version": "3.6.8-final"
  },
  "orig_nbformat": 2,
  "kernelspec": {
   "name": "python3",
   "display_name": "Python 3"
  }
 },
 "nbformat": 4,
 "nbformat_minor": 2,
 "cells": [
  {
   "cell_type": "code",
   "execution_count": null,
   "metadata": {},
   "outputs": [],
   "source": [
    "###################Docstrings - cadenas para documentación\n",
    "def saludar(nombre):\n",
    "    \"\"\"\n",
    "    Esto será un comentario de la función saludar.\n",
    "    Esta función recibirá como parámetro una cadena con el nombre e\n",
    "    imprimirá por pantalla un saludo con el nombre concatenado\n",
    "    \"\"\"\n",
    "    print(\"Buenos dias \" + nombre)\n",
    "\n",
    "saludar(\"Antonio\")"
   ]
  },
  {
   "cell_type": "code",
   "execution_count": null,
   "metadata": {},
   "outputs": [],
   "source": [
    "help(saludar)"
   ]
  },
  {
   "cell_type": "code",
   "execution_count": null,
   "metadata": {},
   "outputs": [],
   "source": [
    "class Saludos:\n",
    "    \"\"\"\n",
    "    Esta clase tendrá dos funciones buenos_dias y adios\n",
    "    Ambas funciones recibirán como parametro un nombre\n",
    "    \"\"\"\n",
    "    def buenos_dias(self,nombre):\n",
    "        \"\"\" Esta función sirve para decir buenos dias a una persona \"\"\"\n",
    "        print(\"Buenos dias {}\".format(nombre))\n",
    "    def adios(self,nombre):\n",
    "        \"\"\" Esta funcion dice adios a una persona \"\"\"\n",
    "        print(\"Adios {}\".format(nombre))\n",
    "\n",
    "saludo = Saludos()\n",
    "saludo.buenos_dias(\"Antonio\")"
   ]
  },
  {
   "cell_type": "code",
   "execution_count": null,
   "metadata": {},
   "outputs": [],
   "source": [
    "help(Saludos)"
   ]
  },
  {
   "cell_type": "code",
   "execution_count": null,
   "metadata": {},
   "outputs": [],
   "source": [
    "help(len)"
   ]
  }
 ]
}