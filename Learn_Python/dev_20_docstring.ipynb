{
 "metadata": {
  "language_info": {
   "codemirror_mode": {
    "name": "ipython",
    "version": 3
   },
   "file_extension": ".py",
   "mimetype": "text/x-python",
   "name": "python",
   "nbconvert_exporter": "python",
   "pygments_lexer": "ipython3",
   "version": "3.8.10"
  },
  "orig_nbformat": 2,
  "kernelspec": {
   "name": "python3",
   "display_name": "Python 3.8.10 64-bit"
  },
  "interpreter": {
   "hash": "916dbcbb3f70747c44a77c7bcd40155683ae19c65e1c03b4aa3499c5328201f1"
  }
 },
 "nbformat": 4,
 "nbformat_minor": 2,
 "cells": [
  {
   "cell_type": "code",
   "execution_count": null,
   "source": [
    "###################Docstrings - cadenas para documentación\n",
    "def saludar(nombre):\n",
    "    \"\"\"\n",
    "    Esto será un comentario de la función saludar.\n",
    "    Esta función recibirá como parámetro una cadena con el nombre e\n",
    "    imprimirá por pantalla un saludo con el nombre concatenado\n",
    "    \"\"\"\n",
    "    print(\"Buenos dias \" + nombre)\n",
    "\n",
    "saludar(\"Antonio\")"
   ],
   "outputs": [],
   "metadata": {}
  },
  {
   "cell_type": "code",
   "execution_count": null,
   "source": [
    "help(saludar)"
   ],
   "outputs": [],
   "metadata": {}
  },
  {
   "cell_type": "code",
   "execution_count": null,
   "source": [
    "class Saludos:\n",
    "    \"\"\"\n",
    "    Esta clase tendrá dos funciones buenos_dias y adios\n",
    "    Ambas funciones recibirán como parametro un nombre\n",
    "    \"\"\"\n",
    "    def buenos_dias(self,nombre):\n",
    "        \"\"\" Esta función sirve para decir buenos dias a una persona \"\"\"\n",
    "        print(\"Buenos dias {}\".format(nombre))\n",
    "    def adios(self,nombre):\n",
    "        \"\"\" Esta funcion dice adios a una persona \"\"\"\n",
    "        print(\"Adios {}\".format(nombre))\n",
    "\n",
    "saludo = Saludos()\n",
    "saludo.buenos_dias(\"Antonio\")"
   ],
   "outputs": [],
   "metadata": {}
  },
  {
   "cell_type": "code",
   "execution_count": null,
   "source": [
    "help(Saludos)"
   ],
   "outputs": [],
   "metadata": {}
  },
  {
   "cell_type": "code",
   "execution_count": null,
   "source": [
    "help(len)"
   ],
   "outputs": [],
   "metadata": {}
  }
 ]
}