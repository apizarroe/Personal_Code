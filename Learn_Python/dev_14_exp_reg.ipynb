{
 "metadata": {
  "language_info": {
   "codemirror_mode": {
    "name": "ipython",
    "version": 3
   },
   "file_extension": ".py",
   "mimetype": "text/x-python",
   "name": "python",
   "nbconvert_exporter": "python",
   "pygments_lexer": "ipython3",
   "version": "3.8.10"
  },
  "orig_nbformat": 2,
  "kernelspec": {
   "name": "python3",
   "display_name": "Python 3.8.10 64-bit"
  },
  "interpreter": {
   "hash": "916dbcbb3f70747c44a77c7bcd40155683ae19c65e1c03b4aa3499c5328201f1"
  }
 },
 "nbformat": 4,
 "nbformat_minor": 2,
 "cells": [
  {
   "cell_type": "code",
   "execution_count": null,
   "source": [
    "###################Expresiones regulares (search, findall, split, sub)\n",
    "#search\n",
    "texto = \"Hola, mi nombre es Antonio\"\n",
    "\n",
    "import re\n",
    "#En caso de encontrar la cadena, devuelve: <re.Match object; span=(9, 15), match='nombre'>\n",
    "variable1 = re.search(\"nombre\",texto)\n",
    "print(variable1)\n",
    "#En caso de no encontrar la cadena, no devulve nada\n",
    "variable2 = re.search(\"adios\",texto)\n",
    "print(variable2)\n",
    "\n",
    "#Una pequeña forma de usar el metodo search\n",
    "resultado = re.search(\"nombre\",texto)\n",
    "if(resultado):\n",
    "    print(\"Cadena encontrada\")\n",
    "else:\n",
    "    print(\"Cadena no encontrada\")\n",
    "\n",
    "#Busca si hay una linea que termine en Antonio\n",
    "variable3 = re.search(\"Antonio$\",texto) #Te devuelve la posicion de la cadena, en caso se cumpla la condicion\n",
    "print(variable3)\n",
    "#Busca si hay una linea que inicie en Hola\n",
    "variable4 = re.search(\"^Hola\",texto) #Te devuelve la posicion de la cadena, en caso se cumpla la condicion\n",
    "print(variable4)\n",
    "#Busca una cadena que inicie en mi y termine en es, sim importar los caracteres dentro\n",
    "variable5 = re.search(\"nom.*io\",texto)\n",
    "print(variable5)\n",
    "\n",
    "#findall\n",
    "textoA = \"\"\"\n",
    "El coche de Luis es rojo,\n",
    "el coche de Antonio es blanco,\n",
    "y el coche de Maria es rojo\n",
    "\"\"\"\n",
    "variable6 = re.findall(\"coche.*rojo\",textoA)\n",
    "print(variable6)\n",
    "variable7 = re.search(\"coche.*rojo\",textoA)\n",
    "print(variable7)\n",
    "\n",
    "#split\n",
    "texto = \"La silla es blanca y vale 80\"\n",
    "variable8 = re.split(\"\\s\",texto)\n",
    "print(variable8)\n",
    "variable10 = re.split(\"\\s\",textoA)\n",
    "print(variable10)\n",
    "\n",
    "#sub\n",
    "texto =  \"La silla es blanca y vale 80\"\n",
    "variable9 = re.sub(\"blanca\",\"roja\",texto)\n",
    "print(variable9)"
   ],
   "outputs": [],
   "metadata": {}
  }
 ]
}