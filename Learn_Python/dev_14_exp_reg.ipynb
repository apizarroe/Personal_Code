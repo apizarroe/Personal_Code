{
 "metadata": {
  "language_info": {
   "codemirror_mode": {
    "name": "ipython",
    "version": 3
   },
   "file_extension": ".py",
   "mimetype": "text/x-python",
   "name": "python",
   "nbconvert_exporter": "python",
   "pygments_lexer": "ipython3",
   "version": "3.6.8-final"
  },
  "orig_nbformat": 2,
  "kernelspec": {
   "name": "python3",
   "display_name": "Python 3"
  }
 },
 "nbformat": 4,
 "nbformat_minor": 2,
 "cells": [
  {
   "cell_type": "code",
   "execution_count": null,
   "metadata": {},
   "outputs": [],
   "source": [
    "###################Expresiones regulares (search, findall, split, sub)\n",
    "#search\n",
    "texto = \"Hola, mi nombre es Antonio\"\n",
    "\n",
    "import re\n",
    "#En caso de encontrar la cadena, devuelve: <re.Match object; span=(9, 15), match='nombre'>\n",
    "variable1 = re.search(\"nombre\",texto)\n",
    "#En caso de no encontrar la cadena, no devulve nada\n",
    "variable2 = re.search(\"adios\",texto)\n",
    "\n",
    "#Una pequeña forma de usar el metodo search\n",
    "resultado = re.search(\"nombre\",texto)\n",
    "if(resultado):\n",
    "    print(\"Cadena encontrada\")\n",
    "else:\n",
    "    print(\"Cadena no encontrada\")\n",
    "\n",
    "#Busca si hay una linea que termine en Antonio\n",
    "variable3 = re.search(\"Antonio$\",texto)\n",
    "#Busca si hay una linea que inicie en Hola\n",
    "variable4 = re.search(\"^Hola\",texto)\n",
    "#Busca una cadena que inicie en mi y termine en es, sim importar los caracteres dentro\n",
    "variable5 = re.search(\"mi.*es\",texto)\n",
    "\n",
    "#findall\n",
    "texto = \"\"\"\n",
    "El coche de Luis es rojo,\n",
    "el coche de Antonio es blanco,\n",
    "y el coche de Maria es rojo\n",
    "\"\"\"\n",
    "variable6 = re.findall(\"coche.*rojo\",texto)\n",
    "variable7 = re.search(\"coche.*rojo\",texto)\n",
    "\n",
    "#split\n",
    "texto = \"La silla es blanca y vale 80\"\n",
    "variable8 = re.split(\"\\s\",texto)\n",
    "\n",
    "#sub\n",
    "texto =  \"La silla es blanca y vale 80\"\n",
    "variable9 = re.sub(\"blanca\",\"roja\",texto)"
   ]
  }
 ]
}