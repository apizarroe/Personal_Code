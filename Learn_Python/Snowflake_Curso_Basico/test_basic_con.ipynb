{
 "cells": [
  {
   "cell_type": "code",
   "execution_count": 1,
   "source": [
    "#!/usr/bin/env python\n",
    "\n",
    "#TEST DE CONEXION A BASE DE DATOS\n",
    "\n",
    "import snowflake.connector\n",
    "import configparser\n",
    "\n",
    "config = configparser.ConfigParser()\n",
    "config.read('/home/apizarro/Desarrollo/Personal_Code/Learn_Python/Snowflake_Curso_Basico/config.ini')\n",
    "\n",
    "# Gets the version\n",
    "ctx = snowflake.connector.connect(\n",
    "    user = config.get('varlogin','user'),\n",
    "    password = config.get('varlogin','password'),\n",
    "    account = config.get('varlogin','account')\n",
    "    )\n",
    "cs = ctx.cursor()\n",
    "try:\n",
    "    #Se obtiene la version de Snowflake\n",
    "    cs.execute(\"SELECT current_version()\")\n",
    "    one_row = cs.fetchone()\n",
    "    print(one_row[0])\n",
    "finally:\n",
    "    cs.close()\n",
    "ctx.close()"
   ],
   "outputs": [
    {
     "output_type": "stream",
     "name": "stdout",
     "text": [
      "5.35.3\n"
     ]
    }
   ],
   "metadata": {}
  },
  {
   "cell_type": "code",
   "execution_count": 4,
   "source": [
    "#!/usr/bin/env python\n",
    "\n",
    "#CREACION DE WAREHOUSE, DATABASE Y SCHEMA\n",
    "\n",
    "import snowflake.connector\n",
    "import configparser\n",
    "\n",
    "config = configparser.ConfigParser()\n",
    "config.read('/home/apizarro/Desarrollo/Personal_Code/Learn_Python/Snowflake_Curso_Basico/config.ini')\n",
    "\n",
    "# Gets the version\n",
    "ctx = snowflake.connector.connect(\n",
    "    user = config.get('varlogin','user'),\n",
    "    password = config.get('varlogin','password'),\n",
    "    account = config.get('varlogin','account')\n",
    "    )\n",
    "cs = ctx.cursor()\n",
    "try:\n",
    "    #Se crea un warehouse llamado tiny_warehouse_mg de tamaño 'X-SMALL' \n",
    "    cs.execute(\"CREATE WAREHOUSE IF NOT EXISTS tiny_warehouse_mg \\\n",
    "        with warehouse_size='X-SMALL' auto_suspend = 180 \\\n",
    "        auto_resume = true initially_suspended=true;\")\n",
    "    ctx.commit\n",
    "    #Se usa el warehouse creado\n",
    "    cs.execute(\"USE WAREHOUSE tiny_warehouse_mg\")\n",
    "    #Se crea un database llamado testdb \n",
    "    cs.execute(\"CREATE DATABASE IF NOT EXISTS testdb\")\n",
    "    ctx.commit\n",
    "    #Se usa el database creado\n",
    "    cs.execute(\"USE DATABASE testdb\")\n",
    "    #Se crea un database llamado testdb \n",
    "    cs.execute(\"CREATE SCHEMA IF NOT EXISTS testschema\")\n",
    "    ctx.commit\n",
    "    #Se usa el database creado\n",
    "    cs.execute(\"USE SCHEMA testschema\")\n",
    "    #Se valida el uso de los objetos creados\n",
    "    cs.execute(\"select CURRENT_WAREHOUSE(), current_database(), current_schema()\")\n",
    "    datawarehouse = cs.fetchone()\n",
    "    print(\"El warehouse usado es: \", datawarehouse[0])\n",
    "    print(\"El database usado es: \", datawarehouse[1])\n",
    "    print(\"El schema usado es: \", datawarehouse[2])\n",
    "finally:\n",
    "    cs.close()\n",
    "ctx.close()"
   ],
   "outputs": [
    {
     "output_type": "stream",
     "name": "stdout",
     "text": [
      "El warehouse usado es:  TINY_WAREHOUSE_MG\n",
      "El database usado es:  TESTDB\n",
      "El schema usado es:  TESTSCHEMA\n"
     ]
    }
   ],
   "metadata": {}
  },
  {
   "cell_type": "code",
   "execution_count": 7,
   "source": [
    "#!/usr/bin/env python\n",
    "\n",
    "#CREACION DE TABLA\n",
    "\n",
    "import snowflake.connector\n",
    "import configparser\n",
    "\n",
    "config = configparser.ConfigParser()\n",
    "config.read('/home/apizarro/Desarrollo/Personal_Code/Learn_Python/Snowflake_Curso_Basico/config.ini')\n",
    "\n",
    "# Gets the version\n",
    "ctx = snowflake.connector.connect(\n",
    "    user = config.get('varlogin','user'),\n",
    "    password = config.get('varlogin','password'),\n",
    "    account = config.get('varlogin','account')\n",
    "    )\n",
    "cs = ctx.cursor()\n",
    "try:\n",
    "    cs.execute(\"USE WAREHOUSE tiny_warehouse_mg\")\n",
    "    cs.execute(\"USE DATABASE testdb\")\n",
    "    cs.execute(\"USE SCHEMA testschema\")\n",
    "    cs.execute(\"CREATE OR REPLACE TABLE test_table(col1 integer, col2 string)\")\n",
    "    ctx.commit\n",
    "finally:\n",
    "    cs.close()\n",
    "ctx.close()"
   ],
   "outputs": [],
   "metadata": {}
  },
  {
   "cell_type": "code",
   "execution_count": 8,
   "source": [
    "#!/usr/bin/env python\n",
    "\n",
    "#INSERCION DE DATOS DE TABLA\n",
    "\n",
    "import snowflake.connector\n",
    "import configparser\n",
    "\n",
    "config = configparser.ConfigParser()\n",
    "config.read('/home/apizarro/Desarrollo/Personal_Code/Learn_Python/Snowflake_Curso_Basico/config.ini')\n",
    "\n",
    "# Gets the version\n",
    "ctx = snowflake.connector.connect(\n",
    "    user = config.get('varlogin','user'),\n",
    "    password = config.get('varlogin','password'),\n",
    "    account = config.get('varlogin','account')\n",
    "    )\n",
    "cs = ctx.cursor()\n",
    "try:\n",
    "    cs.execute(\"USE WAREHOUSE tiny_warehouse_mg\")\n",
    "    cs.execute(\"USE DATABASE testdb\")\n",
    "    cs.execute(\"USE SCHEMA testschema\")\n",
    "    cs.execute(\"INSERT INTO test_table(col1, col2) \"\n",
    "    \"VALUES(123, 'test string1'),(456, 'test string2')\")\n",
    "    ctx.commit\n",
    "    #Se carga un archivo en la ruta de la tabla test_table, mediante @%test_table\n",
    "    #conn.cursor().execute(\"PUT file:///tmp/data/file* @%test_table\")\n",
    "    #Se cargan los registros desde la ruta a la tabla\n",
    "    #conn.cursor().execute(\"COPY INTO test_table from @%test_table\")\n",
    "finally:\n",
    "    cs.close()\n",
    "ctx.close()"
   ],
   "outputs": [],
   "metadata": {}
  },
  {
   "cell_type": "code",
   "execution_count": 15,
   "source": [
    "#!/usr/bin/env python\n",
    "\n",
    "#INSERCION DE DATOS DE TABLA\n",
    "\n",
    "import snowflake.connector\n",
    "import configparser\n",
    "\n",
    "config = configparser.ConfigParser()\n",
    "config.read('/home/apizarro/Desarrollo/Personal_Code/Learn_Python/Snowflake_Curso_Basico/config.ini')\n",
    "\n",
    "# Gets the version\n",
    "ctx = snowflake.connector.connect(\n",
    "    user = config.get('varlogin','user'),\n",
    "    password = config.get('varlogin','password'),\n",
    "    account = config.get('varlogin','account')\n",
    "    )\n",
    "cs = ctx.cursor()\n",
    "try:\n",
    "    cs.execute(\"USE WAREHOUSE tiny_warehouse_mg\")\n",
    "    cs.execute(\"USE DATABASE testdb\")\n",
    "    cs.execute(\"USE SCHEMA testschema\")\n",
    "    #Prueba de obtencion de un registro\n",
    "    print(\"Prueba de un registro\")\n",
    "    col1, col2 = cs.execute(\"SELECT col1, col2 FROM test_table\").fetchone()\n",
    "    print('{0}, {1}'.format(col1, col2))\n",
    "    #Prueba de obtencion de varios registros\n",
    "    print(\"Prueba de varios registros\")\n",
    "    for (col1, col2) in cs.execute(\"SELECT col1, col2 FROM test_table\"):\n",
    "\t    print('{0}, {1}'.format(col1, col2))\n",
    "finally:\n",
    "    cs.close()\n",
    "ctx.close()"
   ],
   "outputs": [
    {
     "output_type": "stream",
     "name": "stdout",
     "text": [
      "Prueba de un registro\n",
      "123, test string1\n",
      "Prueba de varios registros\n",
      "123, test string1\n",
      "456, test string2\n"
     ]
    }
   ],
   "metadata": {}
  }
 ],
 "metadata": {
  "orig_nbformat": 4,
  "language_info": {
   "name": "python",
   "version": "3.8.10",
   "mimetype": "text/x-python",
   "codemirror_mode": {
    "name": "ipython",
    "version": 3
   },
   "pygments_lexer": "ipython3",
   "nbconvert_exporter": "python",
   "file_extension": ".py"
  },
  "kernelspec": {
   "name": "python3",
   "display_name": "Python 3.8.10 64-bit"
  },
  "interpreter": {
   "hash": "916dbcbb3f70747c44a77c7bcd40155683ae19c65e1c03b4aa3499c5328201f1"
  }
 },
 "nbformat": 4,
 "nbformat_minor": 2
}