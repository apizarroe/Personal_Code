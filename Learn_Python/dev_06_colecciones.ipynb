{
 "metadata": {
  "language_info": {
   "codemirror_mode": {
    "name": "ipython",
    "version": 3
   },
   "file_extension": ".py",
   "mimetype": "text/x-python",
   "name": "python",
   "nbconvert_exporter": "python",
   "pygments_lexer": "ipython3",
   "version": 3
  },
  "orig_nbformat": 2
 },
 "nbformat": 4,
 "nbformat_minor": 2,
 "cells": [
  {
   "cell_type": "code",
   "execution_count": null,
   "metadata": {},
   "outputs": [],
   "source": [
    "###################Listas\n",
    "colores = [\"rojo\",\"amarillo\",\"verde\"]\n",
    "colores\n",
    "colores[0]\n",
    "colores[1]\n",
    "colores[1] = \"azul\"\n",
    "colores\n",
    "#muestra la longitud de la lista\n",
    "len(colores)\n",
    "#agregamos un objeto a la lista\n",
    "colores.append(\"naranja\")\n",
    "colores\n",
    "#removemos un objeto a la lista\n",
    "colores.remove(\"rojo\")\n",
    "colores\n",
    "#recorremos las lita imprimiendo cada valor\n",
    "for color in colores:\n",
    "    print(color)\n",
    "colores.clear"
   ]
  },
  {
   "cell_type": "code",
   "execution_count": null,
   "metadata": {},
   "outputs": [],
   "source": [
    "###################Tuplas (Coleccion de elementos ordenada no alterable)\n",
    "tupla_colores = (\"rojo\",\"verde\",\"amarillo\")\n",
    "tupla_colores\n",
    "for color in tupla_colores:\n",
    "    print(color)\n",
    "tupla_colores[2]\n",
    "len(tupla_colores)"
   ]
  },
  {
   "cell_type": "code",
   "execution_count": null,
   "metadata": {},
   "outputs": [],
   "source": [
    "###################Conjuntos (Coleccion de elementos sin indice)\n",
    "conjunto_colores = {\"rojo\",\"verde\",\"azul\"}\n",
    "conjunto_colores\n",
    "for color in conjunto_colores:\n",
    "    print(color)\n",
    "#conjunto_colores[0] Mostrará error, no tiene indice\n",
    "conjunto_colores\n",
    "len(conjunto_colores)\n",
    "conjunto_colores.add(\"negro\")\n",
    "print(conjunto_colores)\n",
    "conjunto_colores.remove(\"verde\")\n",
    "print(conjunto_colores)"
   ]
  },
  {
   "cell_type": "code",
   "execution_count": null,
   "metadata": {},
   "outputs": [],
   "source": [
    "###################Diccionarios (Coleccion de elementos indexados, no ordenados y modificables)\n",
    "diccionario_colores = {\"red\":\"rojo\", \"blue\":\"azul\", \"yellow\":\"amarillo\"}\n",
    "diccionario_colores\n",
    "diccionario_colores[\"red\"]\n",
    "valor = diccionario_colores[\"yellow\"]\n",
    "valor\n",
    "#Agregamos un valor al diccionario\n",
    "diccionario_colores[\"black\"] = \"negro\"\n",
    "diccionario_colores\n",
    "#Removemos un valor al diccionario, mostrando el valor eliminado\n",
    "diccionario_colores.pop(\"yellow\")\n",
    "diccionario_colores\n",
    "#Removemos un valor al diccionario, sin mostrar el valor eliminado\n",
    "del(diccionario_colores[\"black\"])\n",
    "diccionario_colores\n",
    "print (diccionario_colores)\n",
    "for color in diccionario_colores:\n",
    "    print(color)\n",
    "#recorremos las lita imprimiendo cada par de valores\n",
    "for clave,valor in diccionario_colores.items():\n",
    "    print(clave,valor)"
   ]
  }
 ]
}