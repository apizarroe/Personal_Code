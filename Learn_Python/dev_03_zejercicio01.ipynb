{
 "metadata": {
  "language_info": {
   "codemirror_mode": {
    "name": "ipython",
    "version": 3
   },
   "file_extension": ".py",
   "mimetype": "text/x-python",
   "name": "python",
   "nbconvert_exporter": "python",
   "pygments_lexer": "ipython3",
   "version": "3.8.10"
  },
  "orig_nbformat": 2,
  "kernelspec": {
   "name": "python3",
   "display_name": "Python 3.8.10 64-bit"
  },
  "interpreter": {
   "hash": "916dbcbb3f70747c44a77c7bcd40155683ae19c65e1c03b4aa3499c5328201f1"
  }
 },
 "nbformat": 4,
 "nbformat_minor": 2,
 "cells": [
  {
   "cell_type": "code",
   "execution_count": null,
   "source": [
    "###################Ejercicio\n",
    "#1.Imprime por pantalla el texto \"Introduce el primer numero\"\n",
    "#2.Crear la variable \"dato1\" con el primer valor introducido en el paso anterior.\n",
    "#3.Imprime por pantalla el texto \"Introduce el segundo numero\"\n",
    "#4.Crear la variable \"dato2\" con el primer valor introducido en el paso anterior.\n",
    "#5.Convertir la variable \"dato1\" en una variable numerica denominada \"numero1\"\n",
    "#6.Convertir la variable \"dato2\" en una variable numerica denominada \"numero2\"\n",
    "#7.Crear la variable \"suma\" con la suma de \"numero1\" y \"numero2\"\n",
    "#8.Convertir la variable \"suma\" en una variable de texto denominada \"strSuma\"\n",
    "#9.Crear la variable \"resultado\" con la concatenacion de \"La suma es \" y \"strSuma\"\n",
    "#10.Imprimir el valor de resultado"
   ],
   "outputs": [],
   "metadata": {}
  },
  {
   "cell_type": "code",
   "execution_count": null,
   "source": [
    "print(\"Introduce el primer numero\")\n",
    "dato1 =  input()\n",
    "print(\"Introduce el segundo numero\")\n",
    "dato2 =  input()\n",
    "numero1 = int(dato1)\n",
    "numero2 = int(dato2)\n",
    "suma = numero1 + numero2\n",
    "strSuma = str(suma)\n",
    "resultado = \"La suma es \" + strSuma\n",
    "print(resultado)"
   ],
   "outputs": [],
   "metadata": {}
  }
 ]
}