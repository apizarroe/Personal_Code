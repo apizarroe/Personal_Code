{
 "metadata": {
  "language_info": {
   "codemirror_mode": {
    "name": "ipython",
    "version": 3
   },
   "file_extension": ".py",
   "mimetype": "text/x-python",
   "name": "python",
   "nbconvert_exporter": "python",
   "pygments_lexer": "ipython3",
   "version": "3.6.8-final"
  },
  "orig_nbformat": 2,
  "kernelspec": {
   "name": "python3",
   "display_name": "Python 3"
  }
 },
 "nbformat": 4,
 "nbformat_minor": 2,
 "cells": [
  {
   "cell_type": "code",
   "execution_count": null,
   "metadata": {},
   "outputs": [],
   "source": [
    "###################Ejercicio\n",
    "#Crear una base de datos \"basededatos.db\"\n",
    "#Crear una tabla \"productos\" con 3 campos\n",
    "    #id: Identificador del tipo numerico\n",
    "    #nombre: Nombre del producto del tipo texto\n",
    "    #precio: Precio del producto del tipo numérico\n",
    "\n",
    "#Insertar 3 productos en la tabla \"productos\"\n",
    "    #1,\"Impresora\",300\n",
    "    #2,\"Raton\",20\n",
    "    #3,\"Ordenador\",600\n",
    "\n",
    "#Consutar los productos de la tabla \"productos\"\n",
    "#Cerrar la base de datos \"basededatos.db\""
   ]
  },
  {
   "cell_type": "code",
   "execution_count": null,
   "metadata": {},
   "outputs": [],
   "source": [
    "import sqlite3\n",
    "\n",
    "conexion = sqlite3.connect(\"basededatos.db\")\n",
    "\n",
    "cursor = conexion.cursor()\n",
    "cursor.execute(\"DROP TABLE PRODUCTOS\")\n",
    "cursor.execute(\"CREATE TABLE PRODUCTOS (id INTEGER, nombre TEXT, precio NUMERIC)\")\n",
    "conexion.commit()\n",
    "cursor.close()\n",
    "\n",
    "lista_productos = [(1,\"Impresora\",300),(2,\"Raton\",20),(3,\"Ordenador\",600)]\n",
    "cursor = conexion.cursor()\n",
    "cursor.executemany(\"INSERT INTO PRODUCTOS VALUES (?,?,?)\",lista_productos)\n",
    "conexion.commit()\n",
    "cursor.close()\n",
    "\n",
    "cursor = conexion.cursor()\n",
    "cursor.execute(\"SELECT * FROM PRODUCTOS\")\n",
    "productos = cursor.fetchall()\n",
    "for producto in productos:\n",
    "    print(producto)\n",
    "cursor.close()\n",
    "\n",
    "conexion.close()"
   ]
  }
 ]
}