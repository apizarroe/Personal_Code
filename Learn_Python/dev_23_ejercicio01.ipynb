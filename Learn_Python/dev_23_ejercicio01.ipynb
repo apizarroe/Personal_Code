{
 "metadata": {
  "language_info": {
   "codemirror_mode": {
    "name": "ipython",
    "version": 3
   },
   "file_extension": ".py",
   "mimetype": "text/x-python",
   "name": "python",
   "nbconvert_exporter": "python",
   "pygments_lexer": "ipython3",
   "version": "3.6.8-final"
  },
  "orig_nbformat": 2,
  "kernelspec": {
   "name": "python3",
   "display_name": "Python 3"
  }
 },
 "nbformat": 4,
 "nbformat_minor": 2,
 "cells": [
  {
   "cell_type": "code",
   "execution_count": null,
   "metadata": {},
   "outputs": [],
   "source": [
    "###################Ejercicio\n",
    "#Crear la función \"primos\" que será una función generada de números primos entre 0 y el 100\n",
    "#Esta es la lista de números primos entre 0 y 100\n",
    "#numeros_primos = [2,3,5,7,11,13,17,19,23,29,31,41,43,47,53,59,61,67,71,73,79,83,89,97]\n",
    "\n",
    "#Utilizar la función generadora para mostrar por pantalla numeros primos menores de 50"
   ]
  },
  {
   "cell_type": "code",
   "execution_count": null,
   "metadata": {},
   "outputs": [],
   "source": [
    "numeros_primos = [2,3,5,7,11,13,17,19,23,29,31,41,43,47,53,59,61,67,71,73,79,83,89,97]\n",
    "\n",
    "def primos(maximo):\n",
    "    for numero in range(maximo):\n",
    "        if(numero in numeros_primos):\n",
    "            yield numero\n",
    "        if(numero > 100):\n",
    "            break\n",
    "\n",
    "maximo = 50\n",
    "for numero in primos(maximo):\n",
    "    print(numero)"
   ]
  },
  {
   "cell_type": "code",
   "execution_count": null,
   "metadata": {},
   "outputs": [],
   "source": [
    "###################Ejercicio\n",
    "#A partir de la lista \"numeros\" que contiene numeros del 1 al 10, obtener mediante filter\n",
    "#una lista denominada \"pares\" con los números pares de la lista \"numeros\""
   ]
  },
  {
   "cell_type": "code",
   "execution_count": null,
   "metadata": {},
   "outputs": [],
   "source": [
    "lista = [1,2,3,4,5,6,7,8,9,10]\n",
    "\n",
    "def par(numero):\n",
    "    if(numero % 2 == 0):\n",
    "        return True\n",
    "    else:\n",
    "        return False\n",
    "\n",
    "resultado = filter(par, lista)\n",
    "pares = list(resultado)\n",
    "print(pares)"
   ]
  },
  {
   "cell_type": "code",
   "execution_count": null,
   "metadata": {},
   "outputs": [],
   "source": [
    "###################Ejercicio\n",
    "#A partir de la lista de numeros del 1 al 10,\n",
    "#obtener una nueva lista con todos los elementos incrementados en 10 unidades"
   ]
  },
  {
   "cell_type": "code",
   "execution_count": null,
   "metadata": {},
   "outputs": [],
   "source": [
    "lista = [1,2,3,4,5,6,7,8,9,10]\n",
    "\n",
    "def incremento(numero):\n",
    "    resultado = numero + 10\n",
    "    return resultado\n",
    "\n",
    "resultado = map(incremento,lista)\n",
    "numeros = list(resultado)\n",
    "print(numeros)"
   ]
  }
 ]
}