{
 "metadata": {
  "language_info": {
   "codemirror_mode": {
    "name": "ipython",
    "version": 3
   },
   "file_extension": ".py",
   "mimetype": "text/x-python",
   "name": "python",
   "nbconvert_exporter": "python",
   "pygments_lexer": "ipython3",
   "version": "3.6.8-final"
  },
  "orig_nbformat": 2,
  "kernelspec": {
   "name": "python3",
   "display_name": "Python 3"
  }
 },
 "nbformat": 4,
 "nbformat_minor": 2,
 "cells": [
  {
   "cell_type": "code",
   "execution_count": null,
   "metadata": {},
   "outputs": [],
   "source": [
    "###################Ejercicio\n",
    "#Crear la función \"primos\" que será una función generada de números primos entre 0 y el 100\n",
    "#Esta es la lista de números primos entre 0 y 100\n",
    "#numeros_primos = [2,3,5,7,11,13,17,19,23,29,31,41,43,47,53,59,61,67,71,73,79,83,89,97]\n",
    "\n",
    "#Utilizar la función generadora para mostrar por pantalla numeros primos menores de 50"
   ]
  },
  {
   "cell_type": "code",
   "execution_count": null,
   "metadata": {},
   "outputs": [],
   "source": [
    "numeros_primos = [2,3,5,7,11,13,17,19,23,29,31,41,43,47,53,59,61,67,71,73,79,83,89,97]\n",
    "\n",
    "def primos(maximo):\n",
    "    for numero in range(maximo):\n",
    "        if(numero in numeros_primos):\n",
    "            yield numero\n",
    "        if(numero > 100):\n",
    "            break\n",
    "\n",
    "maximo = 50\n",
    "for numero in primos(maximo):\n",
    "    print(numero)"
   ]
  }
 ]
}