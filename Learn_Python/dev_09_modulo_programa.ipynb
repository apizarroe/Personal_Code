{
 "metadata": {
  "language_info": {
   "codemirror_mode": {
    "name": "ipython",
    "version": 3
   },
   "file_extension": ".py",
   "mimetype": "text/x-python",
   "name": "python",
   "nbconvert_exporter": "python",
   "pygments_lexer": "ipython3",
   "version": "3.6.8-final"
  },
  "orig_nbformat": 2,
  "kernelspec": {
   "name": "python3",
   "display_name": "Python 3"
  }
 },
 "nbformat": 4,
 "nbformat_minor": 2,
 "cells": [
  {
   "cell_type": "code",
   "execution_count": null,
   "metadata": {},
   "outputs": [],
   "source": [
    "#Modulo que invoca a modulo1\n",
    "#Para el funcionamiento de este programa se requiere que este en la misma ruta que\n",
    "#el modulo a invocar, yo lo ejecute con \"python dev_10_modulos.py\".\n",
    "import dev_09_modulo1\n",
    "\n",
    "dev_09_modulo1.saludar(\"Antonio\") \n",
    "nombre = \"Luis\"\n",
    "dev_09_modulo1.saludar(nombre)"
   ]
  },
  {
   "cell_type": "code",
   "execution_count": null,
   "metadata": {},
   "outputs": [],
   "source": [
    "#Trabajando con modulos, se importa solo la función despedirse del modulo1\n",
    "#from dev_09_modulo1 import despedirse\n",
    "\n",
    "#Trabajando con modulos, la funcion despedirse con un alias \"adios\"\n",
    "from dev_09_modulo1 import despedirse as adios\n",
    "\n",
    "minombre = \"Antonio\"\n",
    "#despedirse(minombre)\n",
    "adios(minombre)"
   ]
  }
 ]
}