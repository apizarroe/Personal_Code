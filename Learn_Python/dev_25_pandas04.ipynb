{
 "metadata": {
  "language_info": {
   "codemirror_mode": {
    "name": "ipython",
    "version": 3
   },
   "file_extension": ".py",
   "mimetype": "text/x-python",
   "name": "python",
   "nbconvert_exporter": "python",
   "pygments_lexer": "ipython3",
   "version": "3.8.10"
  },
  "orig_nbformat": 2,
  "kernelspec": {
   "name": "python3",
   "display_name": "Python 3.8.10 64-bit"
  },
  "interpreter": {
   "hash": "916dbcbb3f70747c44a77c7bcd40155683ae19c65e1c03b4aa3499c5328201f1"
  }
 },
 "nbformat": 4,
 "nbformat_minor": 2,
 "cells": [
  {
   "cell_type": "code",
   "execution_count": null,
   "source": [
    "###################Estadisticas de dataframes\n",
    "import pandas as pd\n",
    "import numpy as np\n",
    "array = np.array([[1,8,3],[5,6,7]])\n",
    "dataframe = pd.DataFrame(array, index=['a','b'], columns=list('123'))\n",
    "print(dataframe)\n",
    "#Se suman por columnas del dataframe\n",
    "print(dataframe.sum())\n",
    "#Se suman por filas del dataframe\n",
    "print(dataframe.sum(axis=1))\n",
    "#Se calcula el minimo por columnas del dataframe\n",
    "print(dataframe.min())\n",
    "#Se calcula el minimo por filas del dataframe\n",
    "print(dataframe.max(axis=1))\n",
    "#Se calcula el minimo valor de la columna, se retorna el valor de la columna\n",
    "print(dataframe.idxmin())\n",
    "#Se hace un cuadro estadistico en base a los datos del dataframe\n",
    "print(dataframe.describe())"
   ],
   "outputs": [],
   "metadata": {}
  },
  {
   "cell_type": "code",
   "execution_count": null,
   "source": [
    "###################Valores nulos - NaN\n",
    "import pandas as pd\n",
    "import numpy as np\n",
    "lista_valores = ['1','2',np.NaN,'4']\n",
    "print(lista_valores)\n",
    "serie = pd.Series(lista_valores, index=list('abcd'))\n",
    "#Se muestra que campos tienen el valor de null (True/False)\n",
    "print(serie.isnull())\n",
    "#Se hace drop de los valores con null\n",
    "serie = serie.dropna()\n",
    "print(serie)\n",
    "lista_valores = [[1,2,3],[4,np.nan,5],[6,7,np.nan]]\n",
    "lista_indices = list('123')\n",
    "lista_columnas = list('abc')\n",
    "dataframe = pd.DataFrame(lista_valores, index=lista_indices, columns=lista_columnas)\n",
    "print(dataframe)\n",
    "#Se muestra que campos tienen el valor de null (True/False)\n",
    "print(dataframe.isnull())\n",
    "#Se hace drop de los valores con null (Se elimina la fila completa)\n",
    "print(dataframe.dropna())\n",
    "#Se rellena con '0' los campos con null\n",
    "print(dataframe.fillna(0))"
   ],
   "outputs": [],
   "metadata": {}
  },
  {
   "cell_type": "code",
   "execution_count": null,
   "source": [
    "###################Jerarquia en los indices\n",
    "import pandas as pd\n",
    "import numpy as np\n",
    "lista_valores = np.random.rand(6)\n",
    "print(lista_valores)\n",
    "lista_indices = [[1,1,1,2,2,2],['a','b','c','a','b','c']]\n",
    "#Se genera una serie con dos niveles de indice\n",
    "series = pd.Series(lista_valores, index=lista_indices)\n",
    "print(series)\n",
    "#Se selecciona los valores del indice '1'\n",
    "print(series[1])\n",
    "#Se selecciona el valore del indice '1''b'\n",
    "print(series[1]['b'])\n",
    "#Se transforma una serie en un dataframe\n",
    "dataframe = series.unstack()\n",
    "print(dataframe)\n",
    "lista_valores = np.arange(16).reshape(4,4)\n",
    "print(lista_valores)\n",
    "lista_indices = list('1234')\n",
    "lista_columnas = list('abcd')\n",
    "dataframe2 = pd.DataFrame(lista_valores, index=lista_indices, columns=lista_columnas)\n",
    "print(dataframe2)\n",
    "#Se transforma un dataframe en una serie de doble indice\n",
    "serie2 = dataframe2.stack()\n",
    "print(serie2)"
   ],
   "outputs": [],
   "metadata": {}
  }
 ]
}