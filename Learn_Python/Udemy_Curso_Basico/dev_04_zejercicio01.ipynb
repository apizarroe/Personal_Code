{
 "metadata": {
  "language_info": {
   "codemirror_mode": {
    "name": "ipython",
    "version": 3
   },
   "file_extension": ".py",
   "mimetype": "text/x-python",
   "name": "python",
   "nbconvert_exporter": "python",
   "pygments_lexer": "ipython3",
   "version": "3.8.10"
  },
  "orig_nbformat": 2,
  "kernelspec": {
   "name": "python3",
   "display_name": "Python 3.8.10 64-bit"
  },
  "interpreter": {
   "hash": "916dbcbb3f70747c44a77c7bcd40155683ae19c65e1c03b4aa3499c5328201f1"
  }
 },
 "nbformat": 4,
 "nbformat_minor": 2,
 "cells": [
  {
   "cell_type": "code",
   "execution_count": null,
   "source": [
    "###################Ejercicio\n",
    "#Crear una variable \"nota1\" que tenga el valor de 6\n",
    "#Crear otra variable \"nota2\" que tenga el valor de 4\n",
    "#Crear otra variable \"nota3\" que tenga el valor de 7\n",
    "#Crear otra variable \"nota_media\" que tenga el valor medio de las 3 notas anteriores\n",
    "#Crear otra variable \"nota_final\" que tenga el valor \"aprobado\" (mayor o igual a 5)"
   ],
   "outputs": [],
   "metadata": {}
  },
  {
   "cell_type": "code",
   "execution_count": null,
   "source": [
    "nota1 = 6\n",
    "nota2 = 4\n",
    "nota3 = 7\n",
    "nota_media = (nota1 + nota2 + nota3)/3\n",
    "nota_final = \"\"\n",
    "if(nota_media >= 5):\n",
    "    nota_final = \"aprobado\"\n",
    "else:\n",
    "    nota_final = \"desaprobado\"\n",
    "print(nota_final)"
   ],
   "outputs": [],
   "metadata": {}
  },
  {
   "cell_type": "code",
   "execution_count": null,
   "source": [
    "###################Ejercicio\n",
    "#1.Crear una variable \"minimo\" con el valor de 20\n",
    "#2.Crear una variable \"maximo\" con el valor de 500\n",
    "#3.Recoge un valor del teclado y almacénalo en la variable \"dato\"\n",
    "#4.Convierte la variable \"dato\" en un número y almacenalo en la variable \"numero\"\n",
    "#5.Si el \"numero\" es menor que el valor de \"minimo\", mostrar el texto \"Valor bajo\"\n",
    "#6.Si el \"numero\" es mayor que el valor de \"maximo\", mostrar el texto \"Valor alto\"\n",
    "#7.Si el \"numero\" está entre el valor de \"minimo\" y \"maximo\", mostrar \"Valor medio\""
   ],
   "outputs": [],
   "metadata": {}
  },
  {
   "cell_type": "code",
   "execution_count": null,
   "source": [
    "minimo = 20\n",
    "maximo = 500\n",
    "dato = input()\n",
    "numero = int(dato)\n",
    "if (numero < minimo):\n",
    "    print(\"Valor bajo\")\n",
    "elif (numero > maximo):\n",
    "    print(\"Valor alto\")\n",
    "else:\n",
    "    print(\"Valor medio\")"
   ],
   "outputs": [],
   "metadata": {}
  },
  {
   "cell_type": "code",
   "execution_count": null,
   "source": [
    "###################Ejercicio\n",
    "#1.Crear una variable \"numeros\" con la lista de los números del 1 a 10 (ambos incluidos)\n",
    "#2.Mostrar el valor de la variable \"numeros\"\n",
    "#3.Recoger un dato del teclado y almacernarlo en la variable \"dato\"\n",
    "#4.Convertir \"dato\" en numerico y almacernarlo en la variable \"numero\"\n",
    "#5.Si el valor de \"numero\" esta en la lista de numero, mostrar el mensaje \"Si\"\n",
    "#6.Si el numero introducido no esta en la lista de numeros, mostrar el mensaje \"No\""
   ],
   "outputs": [],
   "metadata": {}
  },
  {
   "cell_type": "code",
   "execution_count": null,
   "source": [
    "numeros = [1,2,3,4,5,6,7,8,9,10]\n",
    "print(numeros)\n",
    "dato = input()\n",
    "numero = int(dato)\n",
    "flag = 0\n",
    "for entero in numeros:\n",
    "    if numero == entero:\n",
    "        flag = 1\n",
    "        break\n",
    "    else:\n",
    "        flag = 0\n",
    "\n",
    "if (flag == 0):\n",
    "    print(\"No\")\n",
    "else:\n",
    "    print(\"Si\")"
   ],
   "outputs": [],
   "metadata": {}
  }
 ]
}