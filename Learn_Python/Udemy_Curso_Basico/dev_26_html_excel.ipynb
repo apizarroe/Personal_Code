{
 "cells": [
  {
   "cell_type": "code",
   "execution_count": null,
   "metadata": {},
   "outputs": [],
   "source": [
    "###################HTML con Python\n",
    "import pandas as pd\n",
    "url = 'https://es.wikipedia.org/wiki/Anexo:Finales_de_la_Copa_Mundial_de_F%C3%BAtbol'\n",
    "dataframe = pd.io.html.read_html(url)\n",
    "#Se muestra un arreglo donde la posicion 0 contiene toda la data requerida \n",
    "# print(dataframe) \n",
    "dataframe_futbol = dataframe[0]\n",
    "print(dataframe_futbol)\n",
    "#Se modifica el nombre de las columnas en caso de ser necesario \n",
    "dict(dataframe_futbol.loc[0])\n",
    "dataframe_futbol = dataframe_futbol.rename(columns=dict(dataframe_futbol.loc[0]))\n",
    "#Se borra la columna Notas\n",
    "dataframe_futbol = dataframe_futbol.drop('Notas',axis=1).drop(labels=0,axis=0)\n",
    "print(dataframe_futbol)"
   ]
  },
  {
   "cell_type": "code",
   "execution_count": null,
   "metadata": {},
   "outputs": [],
   "source": [
    "###################Ficheros formato Excel\n",
    "import pandas as pd\n",
    "fichero_excel = pd.ExcelFile('dev_26_ficheroexcel.xlsx')\n",
    "misdatosexcel = fichero_excel.parse(\"Hoja 1\")\n",
    "print(misdatosexcel)"
   ]
  }
 ],
 "metadata": {
  "kernelspec": {
   "display_name": "Python 3",
   "language": "python",
   "name": "python3"
  },
  "language_info": {
   "codemirror_mode": {
    "name": "ipython",
    "version": 3
   },
   "file_extension": ".py",
   "mimetype": "text/x-python",
   "name": "python",
   "nbconvert_exporter": "python",
   "pygments_lexer": "ipython3",
   "version": "3.6.3"
  }
 },
 "nbformat": 4,
 "nbformat_minor": 2
}
