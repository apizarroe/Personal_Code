{
 "metadata": {
  "language_info": {
   "codemirror_mode": {
    "name": "ipython",
    "version": 3
   },
   "file_extension": ".py",
   "mimetype": "text/x-python",
   "name": "python",
   "nbconvert_exporter": "python",
   "pygments_lexer": "ipython3",
   "version": "3.6.8-final"
  },
  "orig_nbformat": 2,
  "kernelspec": {
   "name": "python3",
   "display_name": "Python 3"
  }
 },
 "nbformat": 4,
 "nbformat_minor": 2,
 "cells": [
  {
   "cell_type": "code",
   "execution_count": null,
   "metadata": {},
   "outputs": [],
   "source": [
    "\n",
    "#Leer el fichero adjunto \"poblacion.xlsx\" y carga los datos en un dataframe\n",
    "#Con esos datos, visualizar cual es la ciudad más poblada de America\n",
    "#Leer el fichero adjunto \"poblacion.csv\" y carga los datos en un dataframe \n",
    "#Con esos datos, visualizar cual es la ciudad más poblada de Africa"
   ]
  },
  {
   "cell_type": "code",
   "execution_count": 8,
   "metadata": {},
   "outputs": [
    {
     "output_type": "stream",
     "name": "stdout",
     "text": [
      "Ciudad de México (22.577.000)\nEl Cairo (16.794.000)\n"
     ]
    }
   ],
   "source": [
    "import pandas as pd\n",
    "fichero_excel = pd.ExcelFile('D:\\\\apizarro\\\\GIT\\Personal_Code\\\\Learn_Python\\\\dev_26_poblacion.xlsx')\n",
    "misdatosexcel = fichero_excel.parse(\"Hoja 1\")\n",
    "print(misdatosexcel[\"Ciudad más poblada\"][3])\n",
    "fichero_csv = pd.read_csv('D:\\\\apizarro\\\\GIT\\Personal_Code\\\\Learn_Python\\\\dev_26_poblacion.csv')\n",
    "print(fichero_csv[\"Ciudad más poblada\"][1])"
   ]
  },
  {
   "cell_type": "code",
   "execution_count": 10,
   "metadata": {},
   "outputs": [
    {
     "output_type": "stream",
     "name": "stdout",
     "text": [
      "                Estado(forma oficial) Nombre común  \\\n0    República Islámica de Afganistán   Afganistán   \n1                República de Albania      Albania   \n2       República Federal de Alemania     Alemania   \n3               Principado de Andorra      Andorra   \n4                 República de Angola       Angola   \n..                                ...          ...   \n190   República Socialista de Vietnam      Vietnam   \n191                República de Yemen        Yemen   \n192               República de Yibuti       Yibuti   \n193               República de Zambia       Zambia   \n194             República de Zimbabue     Zimbabue   \n\n                                     Forma de gobierno       Capital(es)  \\\n0                  República islámica presidencialista             Kabul   \n1                              República parlamentaria            Tirana   \n2                              República parlamentaria            Berlín   \n3                             Monarquía constitucional  Andorra la Vieja   \n4                           República presidencialista            Luanda   \n..                                                 ...               ...   \n190                    Estado socialista unipartidista             Hanói   \n191  República presidencialista (Gobierno provisional)              Saná   \n192                             República presidencial  Ciudad de Yibuti   \n193                             República presidencial            Lusaka   \n194                             República presidencial            Harare   \n\n    Continente          Estatus ONU   Soberanía  \\\n0         Asia       Miembro (1946)  Reconocida   \n1       Europa       Miembro (1955)  Reconocida   \n2       Europa   Miembro (1973)[1]​  Reconocida   \n3       Europa       Miembro (1993)  Reconocida   \n4       África       Miembro (1976)  Reconocida   \n..         ...                  ...         ...   \n190       Asia       Miembro (1977)  Reconocida   \n191       Asia  Miembro (1947)[32]​  Reconocida   \n192     África       Miembro (1977)  Reconocida   \n193     África       Miembro (1964)  Reconocida   \n194     África       Miembro (1980)  Reconocida   \n\n                                                 Notas  Ubicación  \n0                                                  NaN        NaN  \n1                                                  NaN        NaN  \n2    Estado miembro de la Unión Europea. Alemania e...        NaN  \n3    Coprincipado con dos jefes de Estado, el presi...        NaN  \n4                                                  NaN        NaN  \n..                                                 ...        ...  \n190  Vietnam reclama la soberanía total de las isla...        NaN  \n191                                                NaN        NaN  \n192  Yibuti mantiene un conflicto fronterizo con Er...        NaN  \n193                                                NaN        NaN  \n194                                                NaN        NaN  \n\n[195 rows x 9 columns]\n"
     ]
    }
   ],
   "source": [
    "###################Ejercicio\n",
    "#Obtener la tabla de paises de la pagina https://es.wikipedia.org/wiki/Anexo:Pa%C3%ADses\n",
    "#Limpiar lo necesario para que los nombres de las columnas sean corrector\n",
    "import pandas as pd\n",
    "url = 'https://es.wikipedia.org/wiki/Anexo:Pa%C3%ADses'\n",
    "dataframe_paises = pd.io.html.read_html(url)\n",
    "dataframe_paises = dataframe_paises[0]\n",
    "print(dataframe_paises)"
   ]
  }
 ]
}