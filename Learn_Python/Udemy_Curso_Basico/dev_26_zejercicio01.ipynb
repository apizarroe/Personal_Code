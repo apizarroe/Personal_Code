{
 "cells": [
  {
   "cell_type": "code",
   "execution_count": null,
   "metadata": {},
   "outputs": [],
   "source": [
    "\n",
    "#Leer el fichero adjunto \"poblacion.xlsx\" y carga los datos en un dataframe\n",
    "#Con esos datos, visualizar cual es la ciudad más poblada de America\n",
    "#Leer el fichero adjunto \"poblacion.csv\" y carga los datos en un dataframe \n",
    "#Con esos datos, visualizar cual es la ciudad más poblada de Africa"
   ]
  },
  {
   "cell_type": "code",
   "execution_count": null,
   "metadata": {},
   "outputs": [],
   "source": [
    "import pandas as pd\n",
    "fichero_excel = pd.ExcelFile('D:\\\\apizarro\\\\GIT\\Personal_Code\\\\Learn_Python\\\\dev_26_poblacion.xlsx')\n",
    "misdatosexcel = fichero_excel.parse(\"Hoja 1\")\n",
    "print(misdatosexcel[\"Ciudad más poblada\"][3])\n",
    "fichero_csv = pd.read_csv('D:\\\\apizarro\\\\GIT\\Personal_Code\\\\Learn_Python\\\\dev_26_poblacion.csv')\n",
    "print(fichero_csv[\"Ciudad más poblada\"][1])"
   ]
  },
  {
   "cell_type": "code",
   "execution_count": null,
   "metadata": {},
   "outputs": [],
   "source": [
    "###################Ejercicio\n",
    "#Obtener la tabla de paises de la pagina https://es.wikipedia.org/wiki/Anexo:Pa%C3%ADses\n",
    "#Limpiar lo necesario para que los nombres de las columnas sean corrector\n",
    "import pandas as pd\n",
    "url = 'https://es.wikipedia.org/wiki/Anexo:Pa%C3%ADses'\n",
    "dataframe_paises = pd.io.html.read_html(url)\n",
    "dataframe_paises = dataframe_paises[0]\n",
    "print(dataframe_paises)"
   ]
  }
 ],
 "metadata": {
  "kernelspec": {
   "display_name": "Python 3",
   "name": "python3"
  },
  "language_info": {
   "codemirror_mode": {
    "name": "ipython",
    "version": 3
   },
   "file_extension": ".py",
   "mimetype": "text/x-python",
   "name": "python",
   "nbconvert_exporter": "python",
   "pygments_lexer": "ipython3",
   "version": "3.6.8-final"
  },
  "orig_nbformat": 2
 },
 "nbformat": 4,
 "nbformat_minor": 2
}
