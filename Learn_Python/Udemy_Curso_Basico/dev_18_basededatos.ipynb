{
 "metadata": {
  "language_info": {
   "codemirror_mode": {
    "name": "ipython",
    "version": 3
   },
   "file_extension": ".py",
   "mimetype": "text/x-python",
   "name": "python",
   "nbconvert_exporter": "python",
   "pygments_lexer": "ipython3",
   "version": "3.8.10"
  },
  "orig_nbformat": 2,
  "kernelspec": {
   "name": "python3",
   "display_name": "Python 3.8.10 64-bit"
  },
  "interpreter": {
   "hash": "916dbcbb3f70747c44a77c7bcd40155683ae19c65e1c03b4aa3499c5328201f1"
  }
 },
 "nbformat": 4,
 "nbformat_minor": 2,
 "cells": [
  {
   "cell_type": "code",
   "execution_count": null,
   "source": [
    "# SQLite - Sistema de gestión de base de datos relacionales\n",
    "import sqlite3\n",
    "conexion = sqlite3.connect(\"basededatos1.db\")\n",
    "\n",
    "conexion.close()"
   ],
   "outputs": [],
   "metadata": {}
  },
  {
   "cell_type": "code",
   "execution_count": null,
   "source": [
    "# SQLite - Crear una base de datos\n",
    "import sqlite3\n",
    "conexion = sqlite3.connect(\"basededatos1.db\")\n",
    "\n",
    "#Objeto para ejecutar sentencias SQL en la base de datos\n",
    "cursor = conexion.cursor()\n",
    "#Método para ejecutar sentencias\n",
    "#En caso exista la tabla creada\n",
    "cursor.execute(\"DROP TABLE PERSONAS\") #Para ejecutar una sentencia SQL se utiliza execute\n",
    "#Creacion de tabla PERSONAS\n",
    "cursor.execute(\"CREATE TABLE PERSONAS (nombre TEXT, apellido1 TEXT, apellido2 TEXT, edad INTEGER)\")\n",
    "#Ejecucion de Commit #Se hace siempre un commit al inserta, modificar o eliminar registros, tambien al crear objetos como tablas\n",
    "conexion.commit()\n",
    "\n",
    "conexion.close()"
   ],
   "outputs": [],
   "metadata": {}
  },
  {
   "cell_type": "code",
   "execution_count": null,
   "source": [
    "# SQLite - Insertar datos en nuestra tabla\n",
    "import sqlite3\n",
    "conexion = sqlite3.connect(\"basededatos1.db\")\n",
    "\n",
    "cursor = conexion.cursor()\n",
    "#Inserción de Valores en la tabla PERSONAS\n",
    "cursor.execute(\"INSERT INTO PERSONAS VALUES ('Antonio', 'Perez', 'Gomez', 35)\")\n",
    "conexion.commit()\n",
    "\n",
    "conexion.close()"
   ],
   "outputs": [],
   "metadata": {}
  },
  {
   "cell_type": "code",
   "execution_count": null,
   "source": [
    "# SQLite - Insertar datos en nuestra tabla\n",
    "import sqlite3\n",
    "conexion = sqlite3.connect(\"basededatos1.db\")\n",
    "\n",
    "cursor = conexion.cursor()\n",
    "#Se genera una lista de objetos (tuplas)\n",
    "lista_personas = [('Pedro','Rodriguez','Perez',26),('Maria','Lopez','Gomez',45),('Luis','Gonzales','Perez',46)]\n",
    "#Se invoca a la funcion executemany para la insercion de las tuplas en la base de datos\n",
    "cursor.executemany(\"INSERT INTO PERSONAS VALUES (?,?,?,?)\",lista_personas) #Se usa execute cuando se pasan argumentos\n",
    "conexion.commit()\n",
    "\n",
    "conexion.close()"
   ],
   "outputs": [],
   "metadata": {}
  },
  {
   "cell_type": "code",
   "execution_count": null,
   "source": [
    "# SQLite - Consultar datos en nuestra tabla\n",
    "import sqlite3\n",
    "conexion = sqlite3.connect(\"basededatos1.db\")\n",
    "\n",
    "cursor = conexion.cursor()\n",
    "#Se realiza un select a la tabla PERSONAS\n",
    "cursor.execute(\"SELECT * FROM PERSONAS\")\n",
    "#Con fetchall recogemos todas las filas de la tabla PERSONAS hacia una lista\n",
    "personas = cursor.fetchall()\n",
    "\n",
    "#Se recorre la lista para imprimir todos los objetos (tuplas) - Se utliza siempre cuando se hace SELECT\n",
    "for persona in personas:\n",
    "    #print(type(persona)) #El tipo es tuplas\n",
    "    print(persona)\n",
    "\n",
    "conexion.close()"
   ],
   "outputs": [],
   "metadata": {}
  },
  {
   "cell_type": "code",
   "execution_count": null,
   "source": [
    "# SQLite - Consultar datos en nuestra tabla\n",
    "import sqlite3\n",
    "conexion = sqlite3.connect(\"basededatos1.db\")\n",
    "\n",
    "cursor = conexion.cursor()\n",
    "#Se realiza un select a la tabla PERSONAS con filtro\n",
    "cursor.execute(\"SELECT * FROM PERSONAS WHERE edad > 40\")\n",
    "personas_seleccionadas = cursor.fetchall()\n",
    "for persona in personas_seleccionadas:\n",
    "    print(persona)\n",
    "\n",
    "conexion.close()"
   ],
   "outputs": [],
   "metadata": {}
  },
  {
   "cell_type": "code",
   "execution_count": null,
   "source": [
    "# SQLite - Consultar datos y ordenarlos por alguna columna\n",
    "import sqlite3\n",
    "conexion = sqlite3.connect(\"basededatos1.db\")\n",
    "\n",
    "cursor = conexion.cursor()\n",
    "#Se realiza un select a la tabla PERSONAS ordenadas por edad\n",
    "cursor.execute(\"SELECT * FROM PERSONAS ORDER BY edad\")\n",
    "lista_personas_ordenada = cursor.fetchall()\n",
    "for persona in lista_personas_ordenada:\n",
    "    print(persona)\n",
    "\n",
    "conexion.close()"
   ],
   "outputs": [],
   "metadata": {}
  },
  {
   "cell_type": "code",
   "execution_count": null,
   "source": [
    "# SQLite - Borrar datos de tabla\n",
    "import sqlite3\n",
    "conexion = sqlite3.connect(\"basededatos1.db\")\n",
    "\n",
    "cursor = conexion.cursor()\n",
    "#Se borran los registros con nombre = 'Luis'\n",
    "cursor.execute(\"DELETE FROM PERSONAS WHERE nombre = 'Luis'\")\n",
    "conexion.commit()\n",
    "\n",
    "conexion.close()"
   ],
   "outputs": [],
   "metadata": {}
  },
  {
   "cell_type": "code",
   "execution_count": null,
   "source": [
    "# SQLite - Actualizar datos en tabla\n",
    "import sqlite3\n",
    "conexion = sqlite3.connect(\"basededatos1.db\")\n",
    "\n",
    "cursor = conexion.cursor()\n",
    "#Se actualiza la edad para los registros con nombre = 'Antonio'\n",
    "cursor.execute(\"UPDATE PERSONAS SET edad = 30 WHERE nombre = 'Antonio'\")\n",
    "conexion.commit()\n",
    "\n",
    "cursor.execute(\"SELECT * FROM PERSONAS\")\n",
    "lista_personas_ordenada = cursor.fetchall()\n",
    "for persona in lista_personas_ordenada:\n",
    "    print(persona)\n",
    "\n",
    "conexion.close()"
   ],
   "outputs": [],
   "metadata": {}
  }
 ]
}