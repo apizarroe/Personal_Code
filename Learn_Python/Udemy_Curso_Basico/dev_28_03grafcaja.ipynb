{
 "cells": [
  {
   "cell_type": "code",
   "execution_count": 2,
   "metadata": {},
   "outputs": [
    {
     "name": "stdout",
     "output_type": "stream",
     "text": [
      "[ 1.8243147  -0.71922536 -0.56755516  1.49301697  1.04415609  0.37570404\n",
      "  1.1266752   1.28147455  1.36180865 -0.90423601  0.31474448 -0.33495988\n",
      "  1.17893508  0.46240046 -0.04739783  0.54889824 -0.44144637 -0.32203429\n",
      " -1.48285044 -0.84955801 -1.40818882  0.66599005 -0.21506562 -1.97810635\n",
      "  1.60828857 -1.8070049  -1.85511066 -0.20521358  1.19010265 -0.10167517\n",
      "  0.28225572 -1.69393315  0.71649369 -0.75811532  0.54752092  0.77494706\n",
      "  0.65242693  0.26503891  0.12018405  0.55717583  0.51117245  1.60313142\n",
      "  0.90038444  0.19790172 -0.39098216 -0.05850835 -0.22847191  0.42619378\n",
      "  0.25976541  0.84118521 -0.81987014  0.02706268  1.28801667 -1.03196525\n",
      "  1.42235685  1.3282132   2.28368956  0.83172146 -1.08239342  0.58717938\n",
      " -0.67147489  2.5523607  -0.51548036  0.01658149 -1.50919169  0.30510566\n",
      "  1.68140114 -1.42994953  1.49103216 -0.7108503  -0.7487571  -1.07868375\n",
      "  0.62937334  0.84455827  0.44065242  0.4608191  -0.28560337 -0.90242453\n",
      "  0.10736412  2.02133035  0.60702969 -0.57440813  0.04449132  0.79461385\n",
      "  1.21830156 -0.16941185 -1.08159925 -0.67118964 -0.81562977 -0.64480536\n",
      " -1.80386432 -0.98259593  0.48596097 -1.1927955   0.49862054 -0.66721886\n",
      " -0.10733128  0.38042065  0.80089848 -0.63709632]\n"
     ]
    }
   ],
   "source": [
    "###################Diagrama de Caja\n",
    "import pandas as pd\n",
    "import numpy as np\n",
    "import matplotlib as mpl\n",
    "import seaborn as sns\n",
    "\n",
    "%matplotlib inline\n",
    "datos = np.random.randn(100)\n",
    "print(datos)"
   ]
  },
  {
   "cell_type": "code",
   "execution_count": 3,
   "metadata": {},
   "outputs": [
    {
     "name": "stderr",
     "output_type": "stream",
     "text": [
      "/home/apizarro/.local/lib/python3.10/site-packages/seaborn/_decorators.py:36: FutureWarning: Pass the following variable as a keyword arg: x. From version 0.12, the only valid positional argument will be `data`, and passing other arguments without an explicit keyword will result in an error or misinterpretation.\n",
      "  warnings.warn(\n"
     ]
    },
    {
     "data": {
      "text/plain": [
       "<AxesSubplot:>"
      ]
     },
     "execution_count": 3,
     "metadata": {},
     "output_type": "execute_result"
    },
    {
     "data": {
      "image/png": "[encoded data removed]",
      "text/plain": [
       "<Figure size 432x288 with 1 Axes>"
      ]
     },
     "metadata": {
      "needs_background": "light"
     },
     "output_type": "display_data"
    }
   ],
   "source": [
    "sns.boxplot(datos)"
   ]
  }
 ],
 "metadata": {
  "interpreter": {
   "hash": "916dbcbb3f70747c44a77c7bcd40155683ae19c65e1c03b4aa3499c5328201f1"
  },
  "kernelspec": {
   "display_name": "Python 3.10.4 64-bit",
   "language": "python",
   "name": "python3"
  },
  "language_info": {
   "codemirror_mode": {
    "name": "ipython",
    "version": 3
   },
   "file_extension": ".py",
   "mimetype": "text/x-python",
   "name": "python",
   "nbconvert_exporter": "python",
   "pygments_lexer": "ipython3",
   "version": "3.10.4"
  },
  "orig_nbformat": 4
 },
 "nbformat": 4,
 "nbformat_minor": 2
}
