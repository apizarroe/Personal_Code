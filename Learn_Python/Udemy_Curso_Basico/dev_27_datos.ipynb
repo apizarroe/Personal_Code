{
 "cells": [
  {
   "cell_type": "code",
   "execution_count": 1,
   "metadata": {},
   "outputs": [
    {
     "name": "stdout",
     "output_type": "stream",
     "text": [
      "  c1 clave c2\n",
      "0  2     b  5\n",
      "1  3     c  4\n",
      "  c1 clave   c2\n",
      "0  1     a  NaN\n",
      "1  2     b    5\n",
      "2  3     c    4\n",
      "    c1 clave c2\n",
      "0    2     b  5\n",
      "1    3     c  4\n",
      "2  NaN     e  6\n",
      "    c1 clave   c2\n",
      "0    1     a  NaN\n",
      "1    2     b    5\n",
      "2    3     c    4\n",
      "3  NaN     e    6\n"
     ]
    }
   ],
   "source": [
    "###################Join de DataFrames\n",
    "import pandas as pd\n",
    "dataframe1 = pd.DataFrame({'c1':['1','2','3'],'clave':['a','b','c']})\n",
    "dataframe2 = pd.DataFrame({'c2':['4','5','6'],'clave':['c','b','e']})\n",
    "dataframe3 = pd.DataFrame.merge(dataframe1,dataframe2)\n",
    "#Es equivalente a dataframe3 = pd.DataFrame.merge(dataframe1,dataframe2,on='clave')\n",
    "print(dataframe3)\n",
    "dataframe4 = pd.DataFrame.merge(dataframe1,dataframe2,on='clave',how='left')\n",
    "print(dataframe4)\n",
    "dataframe4 = pd.DataFrame.merge(dataframe1,dataframe2,on='clave',how='right')\n",
    "print(dataframe4)\n",
    "dataframe4 = pd.DataFrame.merge(dataframe1,dataframe2,on='clave',how='outer')\n",
    "print(dataframe4)"
   ]
  },
  {
   "cell_type": "code",
   "execution_count": null,
   "metadata": {
    "collapsed": true
   },
   "outputs": [],
   "source": [
    "###################Concatenación de arrays, series y dataframes\n",
    "import pandas as pd\n",
    "import numpy as np\n",
    "#Concatenar Arrays\n",
    "array1 = np.arange(9).reshape(3,3)\n",
    "print(np.concatenate([array1,array1]))\n",
    "print(np.concatenate([array1,array1],axis=1))\n",
    "#Concatenar Series\n",
    "serie1 = pd.Series([1,2,3], index=['a','b','c'])\n",
    "serie2 = pd.Series([4,5,6], index=['d','e','f'])\n",
    "print(pd.concat([serie1,serie2]))\n",
    "print(pd.concat([serie1,serie2], keys=['serie1','serie2']))\n",
    "#Concatenar Dataframes\n",
    "dataframe1 = pd.DataFrame(np.random.rand(3,3),columns=['a','b','c'])\n",
    "dataframe2 = pd.DataFrame(np.random.rand(2,3),columns=['a','b','c'])\n",
    "dataframe3 = pd.concat([dataframe1,dataframe2])\n",
    "print(dataframe3)\n",
    "dataframe3 = pd.concat([dataframe1,dataframe2], ignore_index=True)  \n",
    "print(dataframe3)"
   ]
  }
 ],
 "metadata": {
  "kernelspec": {
   "display_name": "Python 3",
   "language": "python",
   "name": "python3"
  },
  "language_info": {
   "codemirror_mode": {
    "name": "ipython",
    "version": 3
   },
   "file_extension": ".py",
   "mimetype": "text/x-python",
   "name": "python",
   "nbconvert_exporter": "python",
   "pygments_lexer": "ipython3",
   "version": "3.6.3"
  }
 },
 "nbformat": 4,
 "nbformat_minor": 2
}
