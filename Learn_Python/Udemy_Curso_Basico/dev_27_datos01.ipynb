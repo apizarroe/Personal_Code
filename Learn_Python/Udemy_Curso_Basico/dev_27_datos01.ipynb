{
 "cells": [
  {
   "cell_type": "code",
   "execution_count": null,
   "metadata": {},
   "outputs": [],
   "source": [
    "###################Join de DataFrames\n",
    "import pandas as pd\n",
    "dataframe1 = pd.DataFrame({'c1':['1','2','3'],'clave':['a','b','c']})\n",
    "dataframe2 = pd.DataFrame({'c2':['4','5','6'],'clave':['c','b','e']})\n",
    "dataframe3 = pd.DataFrame.merge(dataframe1,dataframe2) #Es equivalente al how = 'inner'\n",
    "#Es equivalente a dataframe3 = pd.DataFrame.merge(dataframe1,dataframe2,on='clave')\n",
    "print(dataframe3)\n",
    "#Left Join\n",
    "dataframe4 = pd.DataFrame.merge(dataframe1,dataframe2,on='clave',how='left')\n",
    "print(dataframe4)\n",
    "#Right Join\n",
    "dataframe4 = pd.DataFrame.merge(dataframe1,dataframe2,on='clave',how='right')\n",
    "print(dataframe4)\n",
    "#Outer Join\n",
    "dataframe4 = pd.DataFrame.merge(dataframe1,dataframe2,on='clave',how='outer')\n",
    "print(dataframe4)\n",
    "#Inner Join\n",
    "dataframe4 = pd.DataFrame.merge(dataframe1,dataframe2,on='clave',how='inner')\n",
    "print(dataframe4)"
   ]
  },
  {
   "cell_type": "code",
   "execution_count": null,
   "metadata": {
    "collapsed": true
   },
   "outputs": [],
   "source": [
    "###################Concatenación de arrays, series y dataframes\n",
    "import pandas as pd\n",
    "import numpy as np\n",
    "#Concatenar Arrays\n",
    "array1 = np.arange(9).reshape(3,3)\n",
    "#Concatenar en vertical\n",
    "print(np.concatenate([array1,array1]))\n",
    "#Concatenar en horizontal\n",
    "print(np.concatenate([array1,array1],axis=1))\n",
    "\n",
    "#Concatenar Series\n",
    "serie1 = pd.Series([1,2,3], index=['a','b','c'])\n",
    "serie2 = pd.Series([4,5,6], index=['d','e','f'])\n",
    "#Concatenar en vertical\n",
    "print(pd.concat([serie1,serie2]))\n",
    "#Concatenar en vertical asignando llaves\n",
    "print(pd.concat([serie1,serie2], keys=['serie1','serie2']))\n",
    "\n",
    "#Concatenar Dataframes\n",
    "dataframe1 = pd.DataFrame(np.random.rand(3,3),columns=['a','b','c'])\n",
    "dataframe2 = pd.DataFrame(np.random.rand(2,3),columns=['a','b','c'])\n",
    "#Se comporta como union de conjuntos, respeta indices de cada grupo\n",
    "dataframe3 = pd.concat([dataframe1,dataframe2])\n",
    "print(dataframe3)\n",
    "#Se comporta como union de conjuntos, genera indice universal\n",
    "dataframe4 = pd.concat([dataframe1,dataframe2], ignore_index=True)  \n",
    "print(dataframe3)"
   ]
  },
  {
   "cell_type": "code",
   "execution_count": null,
   "metadata": {},
   "outputs": [],
   "source": [
    "###################Combinando series y dataframes\n",
    "import pandas as pd\n",
    "import numpy as np\n",
    "\n",
    "serie1 = pd.Series([1,2,np.nan])\n",
    "serie2 = pd.Series([4,5,6])\n",
    "#Cambia el valor NaN por el valor que esta en la misma posición en la segunda serie.\n",
    "serie3 = serie1.combine_first(serie2)\n",
    "print(serie3)\n",
    "\n",
    "lista_valores = [1,2,np.nan]\n",
    "dataframe1 = pd.DataFrame(lista_valores)\n",
    "lista_valores2 = [4,5,6]\n",
    "dataframe2 = pd.DataFrame(lista_valores2)\n",
    "#Cambia el valor NaN por el valor que esta en la misma posición en el segundo DataFrame.\n",
    "dataframe3 = dataframe1.combine_first(dataframe2)\n",
    "print(dataframe3)"
   ]
  },
  {
   "cell_type": "code",
   "execution_count": null,
   "metadata": {},
   "outputs": [],
   "source": [
    " ###################Eliminar duplicados en DataFrames\n",
    "import pandas as pd\n",
    "\n",
    "lista_valores = [[1,2],[1,2],[5,6],[5,8]]\n",
    "lista_indices = list('mnop')\n",
    "lista_columnas = ['valor1','valor2']\n",
    "dataframe = pd.DataFrame(lista_valores, index=lista_indices, columns=lista_columnas)\n",
    "print(dataframe)\n",
    "#Elimina Duplicados\n",
    "dataframe2 = dataframe.drop_duplicates()\n",
    "print(dataframe2)\n",
    "#Elimina Duplicados en base a una columna\n",
    "dataframe3 = dataframe2.drop_duplicates(['valor1'])\n",
    "print(dataframe3)\n",
    "#Elimina Duplicados manteniendo el ultimo registro\n",
    "dataframe4 = dataframe2.drop_duplicates(['valor1'], keep='last')\n",
    "print(dataframe4)"
   ]
  }
 ],
 "metadata": {
  "interpreter": {
   "hash": "916dbcbb3f70747c44a77c7bcd40155683ae19c65e1c03b4aa3499c5328201f1"
  },
  "kernelspec": {
   "display_name": "Python 3.8.10 64-bit",
   "language": "python",
   "name": "python3"
  },
  "language_info": {
   "codemirror_mode": {
    "name": "ipython",
    "version": 3
   },
   "file_extension": ".py",
   "mimetype": "text/x-python",
   "name": "python",
   "nbconvert_exporter": "python",
   "pygments_lexer": "ipython3",
   "version": "3.8.10"
  }
 },
 "nbformat": 4,
 "nbformat_minor": 2
}
