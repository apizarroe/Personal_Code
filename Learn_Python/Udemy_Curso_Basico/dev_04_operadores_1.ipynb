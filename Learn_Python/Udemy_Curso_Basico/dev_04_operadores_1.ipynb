{
 "cells": [
  {
   "cell_type": "code",
   "execution_count": null,
   "source": [
    "###################Operadores aritmeticos (+,-,*,/,%,**,//)\n",
    "numero1 = 10;numero2 = 5\n",
    "suma = numero1 + numero2\n",
    "print(suma)\n",
    "resta = numero1 - numero2\n",
    "print(resta)\n",
    "multiplicacion = numero1 * numero2\n",
    "print(multiplicacion)\n",
    "division = numero1 / numero2\n",
    "print(division)\n",
    "numero1 = 5; numero2 = 2\n",
    "division = numero1 / numero2\n",
    "print(division)\n",
    "\n",
    "#operador de resto\n",
    "resto = numero1 % numero2 #Devuelve el resto de la division\n",
    "print(resto)\n",
    "\n",
    "#operador cociente\n",
    "cociente = numero1 // numero2 #Devuelve el cociente de la division entera\n",
    "print(cociente)\n",
    "\n",
    "#operador exponente\n",
    "exponente = 2 ** 3\n",
    "print(exponente)"
   ],
   "outputs": [],
   "metadata": {}
  },
  {
   "cell_type": "code",
   "execution_count": null,
   "source": [
    "###################Operadores de Asignación (=,+=,-=,*=,/=,**=)\n",
    "numero = 5\n",
    "print(numero)\n",
    "#numero = numero + 4\n",
    "numero += 4; print(numero)\n",
    "#numero = numero - 6\n",
    "numero -= 6; print(numero)\n",
    "#numero = numero * 4\n",
    "numero *= 4; print(numero)\n",
    "#numero = numero / 4\n",
    "numero /= 4; print(numero)\n",
    "#numero = numero ** 3\n",
    "numero **= 3; print(numero)"
   ],
   "outputs": [],
   "metadata": {}
  },
  {
   "cell_type": "code",
   "execution_count": null,
   "source": [
    "###################Operadores de Comparación (==,!=,>,<,>=,<=)\n",
    "numero1 = 5; numero2 = 3\n",
    "print(numero1 == numero2)\n",
    "\n",
    "cadena1 = \"hola\"; cadena2 = \"hola\"\n",
    "print(cadena1 == cadena2)\n",
    "\n",
    "cadena1 = \"hola\"\n",
    "if(cadena1 == \"hola\"): #Esta es la forma de utilizar el operador if\n",
    "    print(\"Dijo hola\")\n",
    "\n",
    "numero1 = 3; numero2 = 5\n",
    "#Se realizan comparaciones, el resultado de todas ella es un boolean\n",
    "print(numero1 != numero2)\n",
    "print(numero1 > numero2)\n",
    "print(numero1 < numero2)\n",
    "print(numero1 >= numero2)\n",
    "print(numero1 <= numero2)"
   ],
   "outputs": [],
   "metadata": {}
  }
 ],
 "metadata": {
  "language_info": {
   "codemirror_mode": {
    "name": "ipython",
    "version": 3
   },
   "file_extension": ".py",
   "mimetype": "text/x-python",
   "name": "python",
   "nbconvert_exporter": "python",
   "pygments_lexer": "ipython3",
   "version": "3.8.10"
  },
  "orig_nbformat": 2,
  "kernelspec": {
   "name": "python3",
   "display_name": "Python 3.8.10 64-bit"
  },
  "interpreter": {
   "hash": "916dbcbb3f70747c44a77c7bcd40155683ae19c65e1c03b4aa3499c5328201f1"
  }
 },
 "nbformat": 4,
 "nbformat_minor": 2
}