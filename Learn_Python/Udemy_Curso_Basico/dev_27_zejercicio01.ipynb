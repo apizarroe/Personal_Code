{
 "cells": [
  {
   "cell_type": "code",
   "execution_count": null,
   "metadata": {},
   "outputs": [],
   "source": [
    "#Vamos a filtrar datos en un DataFrame.\n",
    "#Crearemos una lista de 50 valores aleatorios enteros entre los valores 0 y 100\n",
    "#Convertiremos esta liosta en un dataframe con 5 filas y 10 columnas\n",
    "#Filtraremos los datos del dataframe para visualizar solo los valores que sean mayores de 50"
   ]
  },
  {
   "cell_type": "code",
   "execution_count": null,
   "metadata": {},
   "outputs": [],
   "source": [
    "import pandas as pd\n",
    "import numpy as np\n",
    "\n",
    "lista = np.random.randint(100, size=50)\n",
    "print(lista)\n",
    "lista1 = lista.reshape(5,10)\n",
    "print(lista1)\n",
    "dataframe = pd.DataFrame(lista1)\n",
    "print(dataframe)\n",
    "dataframe[dataframe>50]"
   ]
  },
  {
   "cell_type": "code",
   "execution_count": 13,
   "metadata": {},
   "outputs": [],
   "source": [
    "#Crear 2 arrys con 9 números aleatorios enteros entre los valores 0 y 100\n",
    "#Cambiar el formato de los arrays en una estructura de 3 filas por 3 columnas\n",
    "#Crear 2 dataframe con esos arrays\n",
    "#Concatenar esos 2 dataframes"
   ]
  },
  {
   "cell_type": "code",
   "execution_count": null,
   "metadata": {},
   "outputs": [],
   "source": [
    "import pandas as pd\n",
    "import numpy as np\n",
    "\n",
    "lista1 = np.random.randint(100, size=9)\n",
    "lista2 = np.random.randint(100, size=9)\n",
    "listaa = lista1.reshape(3,3)\n",
    "listab = lista2.reshape(3,3)\n",
    "dataframe1 = pd.DataFrame(listaa)\n",
    "dataframe2 = pd.DataFrame(listab)\n",
    "print(dataframe1)\n",
    "print(dataframe2)\n",
    "dataframe = pd.concat([dataframe1,dataframe2],ignore_index=True)\n",
    "print(dataframe)"
   ]
  }
 ],
 "metadata": {
  "interpreter": {
   "hash": "916dbcbb3f70747c44a77c7bcd40155683ae19c65e1c03b4aa3499c5328201f1"
  },
  "kernelspec": {
   "display_name": "Python 3.10.4 64-bit",
   "language": "python",
   "name": "python3"
  },
  "language_info": {
   "codemirror_mode": {
    "name": "ipython",
    "version": 3
   },
   "file_extension": ".py",
   "mimetype": "text/x-python",
   "name": "python",
   "nbconvert_exporter": "python",
   "pygments_lexer": "ipython3",
   "version": "3.10.4"
  },
  "orig_nbformat": 4
 },
 "nbformat": 4,
 "nbformat_minor": 2
}
