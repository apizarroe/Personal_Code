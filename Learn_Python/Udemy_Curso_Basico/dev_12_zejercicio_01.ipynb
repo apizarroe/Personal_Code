{
 "metadata": {
  "language_info": {
   "codemirror_mode": {
    "name": "ipython",
    "version": 3
   },
   "file_extension": ".py",
   "mimetype": "text/x-python",
   "name": "python",
   "nbconvert_exporter": "python",
   "pygments_lexer": "ipython3",
   "version": "3.8.10"
  },
  "orig_nbformat": 2,
  "kernelspec": {
   "name": "python3",
   "display_name": "Python 3.8.10 64-bit"
  },
  "interpreter": {
   "hash": "916dbcbb3f70747c44a77c7bcd40155683ae19c65e1c03b4aa3499c5328201f1"
  }
 },
 "nbformat": 4,
 "nbformat_minor": 2,
 "cells": [
  {
   "cell_type": "code",
   "execution_count": null,
   "source": [
    "###################Ejercicio\n",
    "#Crear el diccionario de \"frutas\"\n",
    "#frutas = {\"manzana\":\"apple\",\"naranja\":\"orange\",\"platano\":\"banana\",\"limon\":\"lemon\"}\n",
    "#\n",
    "#Grabar esta estructura de datos \"frutas\" en un fichero binario \"fichero.pckl\"\n",
    "#Ya que en un fichero de texto, solo se guardan caracteres, pero no se pueden guardar estas estructuras\n",
    "#\n",
    "#Recuperar esta estructura de datos del fichero \"fichero.pckl\"\n",
    "#Verificar que sigue siendo un diccionario, ejecutando el metodo .values()"
   ],
   "outputs": [],
   "metadata": {}
  },
  {
   "cell_type": "code",
   "execution_count": null,
   "source": [
    "import pickle\n",
    "frutas = {\"manzana\":\"apple\",\"naranja\":\"orange\",\"platano\":\"banana\",\"limon\":\"lemon\"}\n",
    "fichero = open(\"dev_12_zejercicio_fichero_frutas.pckl\",\"wb\")\n",
    "pickle.dump(frutas,fichero)\n",
    "fichero.close()\n",
    "\n",
    "fichero = open(\"dev_12_zejercicio_fichero_frutas.pckl\",\"rb\")\n",
    "diccionario_fichero = pickle.load(fichero)\n",
    "print(diccionario_fichero)\n",
    "fichero.close()\n",
    "\n",
    "print(diccionario_fichero.values())\n",
    "print(diccionario_fichero.keys())"
   ],
   "outputs": [],
   "metadata": {}
  }
 ]
}