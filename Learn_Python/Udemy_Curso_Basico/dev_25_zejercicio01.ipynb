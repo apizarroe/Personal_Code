{
 "metadata": {
  "language_info": {
   "codemirror_mode": {
    "name": "ipython",
    "version": 3
   },
   "file_extension": ".py",
   "mimetype": "text/x-python",
   "name": "python",
   "nbconvert_exporter": "python",
   "pygments_lexer": "ipython3",
   "version": "3.8.10"
  },
  "orig_nbformat": 2,
  "kernelspec": {
   "name": "python3",
   "display_name": "Python 3.8.10 64-bit"
  },
  "interpreter": {
   "hash": "916dbcbb3f70747c44a77c7bcd40155683ae19c65e1c03b4aa3499c5328201f1"
  }
 },
 "nbformat": 4,
 "nbformat_minor": 2,
 "cells": [
  {
   "cell_type": "code",
   "execution_count": null,
   "source": [
    "###################Ejercicio\n",
    "#Tenemos 3 clases \"clase1\", \"clase2\", \"clase3\"\n",
    "#Vamos a generar un número aleatorio de alumnos por clase\n",
    "#Para obtener un número aleatorio utilizaremos\n",
    "#   np.random.randint(minimo, maximo, numero)\n",
    "#Crear una serie de clases y alumnos\n",
    "#Utilizar el indice de la serie creada para saber el número de alumnos de la clase2 "
   ],
   "outputs": [],
   "metadata": {}
  },
  {
   "cell_type": "code",
   "execution_count": null,
   "source": [
    "import numpy as np\n",
    "import pandas as pd\n",
    "minimo = 10\n",
    "maximo = 40\n",
    "numero = 3\n",
    "alumnos = np.random.randint(minimo,maximo,numero)\n",
    "print(alumnos)\n",
    "clases = [\"clase1\",\"clase2\",\"clase3\"]\n",
    "serie = pd.Series(alumnos,index=clases)\n",
    "print(serie[\"clase2\"])"
   ],
   "outputs": [],
   "metadata": {}
  },
  {
   "cell_type": "code",
   "execution_count": null,
   "source": [
    "###################Ejercicio\n",
    "#Dado el fichero excel adjunto en varios formatos\n",
    "#Copiar los datos al portapapeles\n",
    "#Crear un dataframe \"datos\" con esos datos copiados\n",
    "#Mostrar por pantalla, todos los datos del dataframe\n",
    "#Mostrar todos los nombre de columnnas del dataframe\n",
    "#Mostrar la primera fila del dataframe\n",
    "#Mostrar la primera columna del dataframe\n",
    "#Mostrar todas la filas pero solo las columnas \"Continente\" y \"Población\"\n",
    "#Mostrar las primeras 3 filas del dataframe \n",
    "#Mostrar las dos ultimas filas del dataframe"
   ],
   "outputs": [],
   "metadata": {}
  },
  {
   "cell_type": "code",
   "execution_count": null,
   "source": [
    "import numpy as np\n",
    "import pandas as pd\n",
    "datos = pd.read_clipboard()\n",
    "print(datos)\n",
    "print(datos.columns)\n",
    "print(datos.loc[0])\n",
    "print(datos[[\"Continente\"]])\n",
    "print(datos[[\"Continente\",\"Población\"]])\n",
    "print(datos.head(3))\n",
    "print(datos.tail(2))"
   ],
   "outputs": [],
   "metadata": {}
  }
 ]
}