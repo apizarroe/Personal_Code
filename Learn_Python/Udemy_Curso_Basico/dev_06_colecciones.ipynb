{
 "cells": [
  {
   "cell_type": "code",
   "execution_count": 1,
   "source": [
    "###################Listas\n",
    "#Las listas son objetos ordenados, mutables, permiten duplicados,\n",
    "#soportan cualquier tipo de dato y son heterogeneos.\n",
    "colores = [\"rojo\",\"amarillo\",\"verde\"]\n",
    "colores\n",
    "colores[0]\n",
    "colores[1]\n",
    "colores[1] = \"azul\"\n",
    "print(colores)\n",
    "#muestra la longitud de la lista\n",
    "print(len(colores))\n",
    "#agregamos un objeto a la lista\n",
    "colores.append(\"naranja\")\n",
    "print(colores)\n",
    "#removemos un objeto a la lista\n",
    "colores.remove(\"rojo\")\n",
    "print(colores)\n",
    "#recorremos las lita imprimiendo cada valor\n",
    "for color in colores:\n",
    "    print(color)\n",
    "colores.clear()\n",
    "print(colores)"
   ],
   "outputs": [
    {
     "output_type": "stream",
     "name": "stdout",
     "text": [
      "['rojo', 'azul', 'verde']\n",
      "3\n",
      "['rojo', 'azul', 'verde', 'naranja']\n",
      "['azul', 'verde', 'naranja']\n",
      "azul\n",
      "verde\n",
      "naranja\n",
      "[]\n"
     ]
    }
   ],
   "metadata": {}
  },
  {
   "cell_type": "code",
   "execution_count": null,
   "source": [
    "###################Tuplas (Coleccion de elementos ordenada no alterable)\n",
    "#Las listas son objetos ordenados, NO mutables!!!(No modificar o agregar), permiten duplicados,\n",
    "#soportan cualquier tipo de dato y son heterogeneos.\n",
    "tupla_colores = (\"rojo\",\"verde\",\"amarillo\")\n",
    "print(tupla_colores)\n",
    "for color in tupla_colores:\n",
    "    print(color)\n",
    "tupla_colores[2]\n",
    "print(len(tupla_colores))"
   ],
   "outputs": [],
   "metadata": {}
  },
  {
   "cell_type": "code",
   "execution_count": null,
   "source": [
    "###################Conjuntos (Coleccion de elementos sin indice) - Tambien llamados set\n",
    "#Los conjuntos o set son objetos NO ordenados, NO mutables(Pero si puede agregar items), NO permiten duplicados,\n",
    "#soportan solo tipo de dato string, int, boolean y son heterogeneos.\n",
    "tupla_colores = (\"rojo\",\"verde\",\"amarillo\")\n",
    "print(tupla_colores)\n",
    "conjunto_colores = {\"rojo\",\"verde\",\"azul\",\"amarillo\",\"morado\",\"rosado\",\"blanco\"}\n",
    "print(conjunto_colores)\n",
    "for color in conjunto_colores:\n",
    "    print(color)\n",
    "#conjunto_colores[0] Mostrará error, no tiene indice\n",
    "conjunto_colores\n",
    "len(conjunto_colores)\n",
    "conjunto_colores.add(\"negro\")\n",
    "print(conjunto_colores)\n",
    "conjunto_colores.remove(\"verde\")\n",
    "print(conjunto_colores)"
   ],
   "outputs": [],
   "metadata": {}
  },
  {
   "cell_type": "code",
   "execution_count": null,
   "source": [
    "###################Diccionarios (Coleccion de elementos indexados, no ordenados y modificables)\n",
    "#Los conjuntos o set son objetos ordenados, mutables, NO permiten duplicados,\n",
    "#soportan cualquier tipo de dato.\n",
    "diccionario_colores = {\"red\":\"rojo\", \"blue\":\"azul\", \"yellow\":\"amarillo\"}\n",
    "print(diccionario_colores)\n",
    "print(diccionario_colores[\"red\"])\n",
    "valor = diccionario_colores[\"yellow\"]\n",
    "print(valor)\n",
    "#Agregamos un valor al diccionario\n",
    "diccionario_colores[\"black\"] = \"negro\"\n",
    "diccionario_colores[\"pink\"] = \"negro\" #los valores puede repetirse, las llaves son unicas\n",
    "print(diccionario_colores)\n",
    "#Removemos un valor al diccionario, mostrando el valor eliminado\n",
    "diccionario_colores.pop(\"yellow\")\n",
    "print(diccionario_colores)\n",
    "#Removemos un valor al diccionario, sin mostrar el valor eliminado\n",
    "del(diccionario_colores[\"black\"])\n",
    "diccionario_colores\n",
    "print (diccionario_colores)\n",
    "for color in diccionario_colores:\n",
    "    print(color)\n",
    "#recorremos las lita imprimiendo cada par de valores\n",
    "for clave,valor in diccionario_colores.items():\n",
    "    print(clave,valor)"
   ],
   "outputs": [],
   "metadata": {}
  }
 ],
 "metadata": {
  "language_info": {
   "codemirror_mode": {
    "name": "ipython",
    "version": 3
   },
   "file_extension": ".py",
   "mimetype": "text/x-python",
   "name": "python",
   "nbconvert_exporter": "python",
   "pygments_lexer": "ipython3",
   "version": "3.8.10"
  },
  "orig_nbformat": 2,
  "kernelspec": {
   "name": "python3",
   "display_name": "Python 3.8.10 64-bit"
  },
  "interpreter": {
   "hash": "916dbcbb3f70747c44a77c7bcd40155683ae19c65e1c03b4aa3499c5328201f1"
  }
 },
 "nbformat": 4,
 "nbformat_minor": 2
}