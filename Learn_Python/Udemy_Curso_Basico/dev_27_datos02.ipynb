{
 "cells": [
  {
   "cell_type": "code",
   "execution_count": null,
   "metadata": {},
   "outputs": [],
   "source": [
    " ###################Reemplazar datos en Series\n",
    "import pandas as pd\n",
    "\n",
    "#Reemplazo de un elemento\n",
    "serie = pd.Series([1,2,3,4,5], index=list('abcde'))\n",
    "print(serie)\n",
    "serie2 = serie.replace(1,6)\n",
    "print(serie2)\n",
    "\n",
    "#Reemplazo de varios elementos\n",
    "serie3 = serie2.replace({2:8,3:9})\n",
    "print(serie3)"
   ]
  },
  {
   "cell_type": "code",
   "execution_count": null,
   "metadata": {},
   "outputs": [],
   "source": [
    " ###################Renombrar Indices\n",
    " import pandas as pd\n",
    " import numpy as np\n",
    "\n",
    " lista_valores = np.arange(9).reshape(3,3)\n",
    " lista_indices = list('abc')\n",
    " dataframe = pd.DataFrame(lista_valores, index=lista_indices)\n",
    " print(dataframe)\n",
    " #Cambiando Indices a mayusculas\n",
    " nuevos_indices = dataframe.index.map(str.upper)\n",
    " dataframe.index = nuevos_indices\n",
    " print(dataframe)\n",
    " #Cambiando Indices a minusculas\n",
    " dataframe = dataframe.rename(index=str.lower)\n",
    " print(dataframe)\n",
    " #Cambiando Indices a nuevos valores\n",
    " nuevos_indices = {'a':'f', 'b':'g', 'c':'h'}\n",
    " dataframe = dataframe.rename(index=nuevos_indices)\n",
    " print(dataframe)\n",
    " #Otra forma de Cambio de Indices a nuevos valores\n",
    " nuevos_indices = {'f':'j'}\n",
    " dataframe.rename(index=nuevos_indices, inplace=True)\n",
    " print(dataframe)"
   ]
  },
  {
   "cell_type": "code",
   "execution_count": null,
   "metadata": {},
   "outputs": [],
   "source": [
    " ###################Agrupar datos en categorias\n",
    " import pandas as pd\n",
    " import numpy as np\n",
    " \n",
    " precios = [42,55,48,23,5,21,88,34,26]\n",
    " rango = [0,10,20,30,40,50,60,70,80,90,100]\n",
    " #Se asignan las categorias para los datos\n",
    " precios_con_rango = pd.cut(precios,rango)\n",
    " print(precios_con_rango)\n",
    " #Se realiza el conteo de los datos por categoria\n",
    " print(pd.value_counts(precios_con_rango))"
   ]
  },
  {
   "cell_type": "code",
   "execution_count": null,
   "metadata": {},
   "outputs": [],
   "source": [
    "###################Filtrar datos en DataFrames\n",
    "import pandas as pd\n",
    "import numpy as np\n",
    "\n",
    "lista_valores = np.random.rand(10,3)\n",
    "print(lista_valores)\n",
    "dataframe = pd.DataFrame(lista_valores)\n",
    "print(dataframe)\n",
    "#Se extrae la columna [0]\n",
    "columna = dataframe[0]\n",
    "print(columna)\n",
    "#Se filtran la columna para valores mayores a 0.40\n",
    "print(columna[columna > 0.40])\n",
    "#Se filtran el dataframe para valores mayores a 0.40\n",
    "print(dataframe[dataframe > 0.40])"
   ]
  }
 ],
 "metadata": {
  "interpreter": {
   "hash": "916dbcbb3f70747c44a77c7bcd40155683ae19c65e1c03b4aa3499c5328201f1"
  },
  "kernelspec": {
   "display_name": "Python 3.10.4 64-bit",
   "language": "python",
   "name": "python3"
  },
  "language_info": {
   "codemirror_mode": {
    "name": "ipython",
    "version": 3
   },
   "file_extension": ".py",
   "mimetype": "text/x-python",
   "name": "python",
   "nbconvert_exporter": "python",
   "pygments_lexer": "ipython3",
   "version": "3.10.4"
  },
  "orig_nbformat": 4
 },
 "nbformat": 4,
 "nbformat_minor": 2
}
