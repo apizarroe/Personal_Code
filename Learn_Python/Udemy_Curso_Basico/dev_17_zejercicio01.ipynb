{
 "metadata": {
  "language_info": {
   "codemirror_mode": {
    "name": "ipython",
    "version": 3
   },
   "file_extension": ".py",
   "mimetype": "text/x-python",
   "name": "python",
   "nbconvert_exporter": "python",
   "pygments_lexer": "ipython3",
   "version": "3.8.10"
  },
  "orig_nbformat": 2,
  "kernelspec": {
   "name": "python3",
   "display_name": "Python 3.8.10 64-bit"
  },
  "interpreter": {
   "hash": "916dbcbb3f70747c44a77c7bcd40155683ae19c65e1c03b4aa3499c5328201f1"
  }
 },
 "nbformat": 4,
 "nbformat_minor": 2,
 "cells": [
  {
   "cell_type": "code",
   "execution_count": 1,
   "source": [
    "###################Ejercicio\n",
    "#Crear una funcion \"buscar\" que mediante una expresion regular indique si una palabra está en una frase\n",
    "\n",
    "#Probar la funcion \"buscar\" con estas frases\n",
    "#    texto = \"Esto es una frase de busqueda para hacer pruebas\"\n",
    "#    palabra_a_buscar = \"frase\"\n",
    "\n",
    "#En caso de encontrar la palabra en la frase, indicar en que posicion empieza y en cual finaliza  "
   ],
   "outputs": [],
   "metadata": {}
  },
  {
   "cell_type": "code",
   "execution_count": 3,
   "source": [
    "import re\n",
    "def buscar(palabra, frase):\n",
    "    resultado = re.search(palabra,frase)\n",
    "    if(resultado):\n",
    "        print(resultado)\n",
    "        print(\"Cadena encontrada\")\n",
    "        inicial = resultado.start()\n",
    "        final = resultado.end()\n",
    "        print(\"Empieza en la posicion {} y termina en la posicion {}\".format(inicial,final))\n",
    "    else:\n",
    "        print(\"Cadena no encontrada\")\n",
    "\n",
    "texto = \"Esto es una frase de busqueda para hacer pruebas\"\n",
    "palabra_a_buscar = \"frase\"\n",
    "\n",
    "buscar(palabra_a_buscar, texto)"
   ],
   "outputs": [
    {
     "output_type": "stream",
     "name": "stdout",
     "text": [
      "<re.Match object; span=(12, 17), match='frase'>\n",
      "Cadena encontrada\n",
      "Empieza en la posicion 12 y termina en la posicion 17\n"
     ]
    }
   ],
   "metadata": {}
  }
 ]
}