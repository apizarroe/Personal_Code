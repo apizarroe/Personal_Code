{
 "cells": [
  {
   "cell_type": "code",
   "execution_count": null,
   "source": [
    "###################Ejercicio\n",
    "#Crear una variable \"cadena\" que contiene el texto \"Esto es un texto de ejemplo\"\n",
    "#Segun la posicion de cada letra en la cadena, calcular que valores (x,y) hay que poner para seleccionar solo la palabra \"texto\"\n",
    "#cadena[x:y] = \"texto\""
   ],
   "outputs": [],
   "metadata": {}
  },
  {
   "cell_type": "code",
   "execution_count": null,
   "source": [
    "cadena = \"Esto es un texto de ejemplo\"\n",
    "palabra = \"texto\"\n",
    "\n",
    "inicio = cadena.index(palabra) #index()·Funcion para identificar la posicion de un caracter o cadena\n",
    "fin = inicio + len(palabra) #len()·Funcion para devolver la longitud de una cadena\n",
    "\n",
    "print(cadena[inicio:fin])"
   ],
   "outputs": [],
   "metadata": {}
  },
  {
   "cell_type": "code",
   "execution_count": null,
   "source": [
    "###################Ejercicio\n",
    "#1.Crear una variable \"cadena\" que contiene el texto \"Esto es un texto de ejemplo\"\n",
    "#2.Crear una variable \"longitud\" que contiene la longitud de la variable \"cadena\"\n",
    "#3.Crear una variable \"strlongitud\" que contenga el valor de \"longitud\" pero convertida a cadena de caracteres o string\n",
    "#4.Crear una variable \"mayuscula\" que contiene la variable \"cadena\" en mayusculas\n",
    "#5.Crear una variable \"resultado\" que concatene \"mayuscula\" con el texto \" tiene longitud de \" y \"strlongitud\""
   ],
   "outputs": [],
   "metadata": {}
  },
  {
   "cell_type": "code",
   "execution_count": null,
   "source": [
    "cadena = \"Esto es un texto de ejemplo\"\n",
    "longitud =  len(cadena)\n",
    "strlongitud = str(longitud) #str()·Funcion para castear variables a String\n",
    "mayuscula = cadena.upper() #upper()·Funcion para transformar una cadena a mayusculas\n",
    "resultado = mayuscula + \" tiene longitud de \" + strlongitud\n",
    "print(resultado)"
   ],
   "outputs": [],
   "metadata": {}
  },
  {
   "cell_type": "code",
   "execution_count": null,
   "source": [
    "###################Ejercicio\n",
    "#Crear una variable \"numero1\" que contiene el valor 5\n",
    "#Crear una variable \"numero2\" que contiene el valor 8\n",
    "#Crear una variable \"suma\" que contiene la suma de los valores anteriores\n",
    "#Imprimir por pantalla el resultado, utilizando la funcion \"print\""
   ],
   "outputs": [],
   "metadata": {}
  },
  {
   "cell_type": "code",
   "execution_count": null,
   "source": [
    "numero1 = 5\n",
    "numero2 = 8\n",
    "suma =  numero1 + numero2\n",
    "print(suma)"
   ],
   "outputs": [],
   "metadata": {}
  }
 ],
 "metadata": {
  "language_info": {
   "codemirror_mode": {
    "name": "ipython",
    "version": 3
   },
   "file_extension": ".py",
   "mimetype": "text/x-python",
   "name": "python",
   "nbconvert_exporter": "python",
   "pygments_lexer": "ipython3",
   "version": "3.8.10"
  },
  "orig_nbformat": 2,
  "kernelspec": {
   "name": "python3",
   "display_name": "Python 3.8.10 64-bit"
  },
  "interpreter": {
   "hash": "31f2aee4e71d21fbe5cf8b01ff0e069b9275f58929596ceb00d14d90e3e16cd6"
  }
 },
 "nbformat": 4,
 "nbformat_minor": 2
}