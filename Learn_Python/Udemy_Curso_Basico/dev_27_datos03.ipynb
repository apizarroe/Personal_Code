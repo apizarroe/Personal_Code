{
 "cells": [
  {
   "cell_type": "code",
   "execution_count": null,
   "metadata": {},
   "outputs": [],
   "source": [
    "###################Combinaciones de elementos\n",
    "import pandas as pd\n",
    "import numpy as np\n",
    "\n",
    "lista_valores = np.arange(25).reshape(5,5)\n",
    "print(lista_valores)\n",
    "dataframe = pd.DataFrame(lista_valores)\n",
    "print(dataframe)\n",
    "#Se crea un grupo de 5 numeros en orden aleatorio\n",
    "combinacion_aleatoria = np.random.permutation(5)\n",
    "print(combinacion_aleatoria)\n",
    "#Se utiliza el grupo de orden aleatorio para definir el orden de las filas\n",
    "dataframe1 = dataframe.take(combinacion_aleatoria)\n",
    "print(dataframe1)\n",
    "#Se utiliza el grupo de orden aleatorio para definir el orden de las columnas\n",
    "dataframe2 = dataframe.take(combinacion_aleatoria,axis=1)\n",
    "print(dataframe2)"
   ]
  },
  {
   "cell_type": "code",
   "execution_count": null,
   "metadata": {},
   "outputs": [],
   "source": [
    "###################Agrupacion de Dataframes\n",
    "import pandas as pd\n",
    "import numpy as np\n",
    "\n",
    "lista_valores = {'clave1':['x','x','y','y','z'], 'clave2':['a','b','a','b','a'],\n",
    "                 'datos1':np.random.rand(5), 'datos2':np.random.rand(5)}\n",
    "print(lista_valores)\n",
    "dataframe = pd.DataFrame(lista_valores)\n",
    "print(dataframe)\n",
    "#Se agrupa la columna (datos1) por la columna (clave1)\n",
    "grupo1 = dataframe['datos1'].groupby(dataframe['clave1'])\n",
    "print(grupo1)\n",
    "#Se calcula el promedio de la agrupacion\n",
    "print(grupo1.mean())"
   ]
  },
  {
   "cell_type": "code",
   "execution_count": null,
   "metadata": {},
   "outputs": [],
   "source": [
    "###################Agregacion (operaciones que dan un valor, como la media)\n",
    "import pandas as pd\n",
    "import numpy as np\n",
    "\n",
    "lista_valores = [[1,2,3],[4,5,6],[7,8,9], [np.nan, np.nan, np.nan]]\n",
    "print(lista_valores)\n",
    "lista_columnas = list('abc')\n",
    "print(lista_columnas)\n",
    "dataframe = pd.DataFrame(lista_valores, columns=lista_columnas)\n",
    "print(dataframe)\n",
    "#Se calcula la suma y el minimo de cada columna\n",
    "dataframe1 = dataframe.agg(['sum','min'])\n",
    "print(dataframe1)\n",
    "#Se calcula la suma de cada fila\n",
    "dataframe2 = dataframe.agg(\"sum\",axis=1)\n",
    "print(dataframe2)"
   ]
  }
 ],
 "metadata": {
  "interpreter": {
   "hash": "916dbcbb3f70747c44a77c7bcd40155683ae19c65e1c03b4aa3499c5328201f1"
  },
  "kernelspec": {
   "display_name": "Python 3.10.4 64-bit",
   "language": "python",
   "name": "python3"
  },
  "language_info": {
   "codemirror_mode": {
    "name": "ipython",
    "version": 3
   },
   "file_extension": ".py",
   "mimetype": "text/x-python",
   "name": "python",
   "nbconvert_exporter": "python",
   "pygments_lexer": "ipython3",
   "version": "3.10.4"
  },
  "orig_nbformat": 4
 },
 "nbformat": 4,
 "nbformat_minor": 2
}
