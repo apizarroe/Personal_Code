{
 "metadata": {
  "language_info": {
   "codemirror_mode": {
    "name": "ipython",
    "version": 3
   },
   "file_extension": ".py",
   "mimetype": "text/x-python",
   "name": "python",
   "nbconvert_exporter": "python",
   "pygments_lexer": "ipython3",
   "version": "3.8.10"
  },
  "orig_nbformat": 2,
  "kernelspec": {
   "name": "python3",
   "display_name": "Python 3.8.10 64-bit"
  },
  "interpreter": {
   "hash": "916dbcbb3f70747c44a77c7bcd40155683ae19c65e1c03b4aa3499c5328201f1"
  }
 },
 "nbformat": 4,
 "nbformat_minor": 2,
 "cells": [
  {
   "cell_type": "code",
   "execution_count": null,
   "source": [
    "###################Clases y objetos. POO\n",
    "#Se crea una clase ClaseSilla, con los atributos color y precio\n",
    "#Se puede visualizar sus atributos, asi como modificar los mismos\n",
    "class ClaseSilla:\n",
    "    color = \"blanco\"\n",
    "    precio = 100\n",
    "\n",
    "#Se genera una clase silla con el constructor y toma los valores por defecto\n",
    "objetoSilla1 = ClaseSilla()\n",
    "print(objetoSilla1.color)\n",
    "print(objetoSilla1.precio)\n",
    "\n",
    "#Se genera una clase silla con el constructor, luego se modifican los valores\n",
    "objetoSilla2 = ClaseSilla()\n",
    "objetoSilla2.color = \"verde\"\n",
    "objetoSilla2.precio = 120\n",
    "print(objetoSilla2.precio)\n",
    "\n",
    "#Se crea una Clase Persona, se utiliza un constructor para definir sus atributos\n",
    "#ademas se genera un metodo que utiliza sus atributos, en un mensaje de Saludo.\n",
    "class Persona:\n",
    "    def __init__(self,nombre,edad):\n",
    "        self.nombre = nombre\n",
    "        self.edad = edad\n",
    "    \n",
    "    def saludar(self):\n",
    "        print(\"Hola me llamo {} y tengo {} años\".format(self.nombre,self.edad))\n",
    "\n",
    "persona1 = Persona(\"Juan\",37)\n",
    "persona1.edad\n",
    "persona1.nombre\n",
    "persona1.saludar()"
   ],
   "outputs": [],
   "metadata": {}
  },
  {
   "cell_type": "code",
   "execution_count": null,
   "source": [
    "###################Funciones\n",
    "#Funcion simple que nos muestra un saludo\n",
    "def saludar():\n",
    "    print(\"Buenos dias\")\n",
    "saludar()\n",
    "\n",
    "#Funcion simple que nos muestra un saludo, requiere un parametro\n",
    "def saludar(nombre):\n",
    "    print(\"Buenos dias \" +  nombre)\n",
    "nombre = \"Antonio\"\n",
    "saludar(nombre)\n",
    "\n",
    "#Funcion de suma retornando un valor\n",
    "def sumar(numero1,numero2):\n",
    "    suma = numero1 + numero2\n",
    "    return suma\n",
    "numero1 = 5;numero2 = 3\n",
    "resultado = sumar(numero1,numero2)\n",
    "print(resultado)\n",
    "\n",
    "#paso de valor por referencia\n",
    "#En este caso la funcion se utiliza para modificar un arreglo de datos\n",
    "colores = [\"rojo\",\"verde\",\"azul\"]\n",
    "\n",
    "def incluir_color(colores,color):\n",
    "    colores.append(color)\n",
    "color = \"negro\"\n",
    "incluir_color(colores,color)\n",
    "print(colores)"
   ],
   "outputs": [],
   "metadata": {}
  },
  {
   "cell_type": "code",
   "execution_count": null,
   "source": [
    "###################Funciones Lambda\n",
    "#Es una funcion pequeña y sin nombre (anonima)\n",
    "resultado = lambda numero: numero + 30\n",
    "print(resultado(10))\n",
    "\n",
    "resultado2 = lambda numero1, numero2: numero1 + numero2\n",
    "print(resultado2(5,8))"
   ],
   "outputs": [],
   "metadata": {}
  }
 ]
}