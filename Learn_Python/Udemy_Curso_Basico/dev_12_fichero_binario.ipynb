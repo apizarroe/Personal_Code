{
 "metadata": {
  "language_info": {
   "codemirror_mode": {
    "name": "ipython",
    "version": 3
   },
   "file_extension": ".py",
   "mimetype": "text/x-python",
   "name": "python",
   "nbconvert_exporter": "python",
   "pygments_lexer": "ipython3",
   "version": "3.8.10"
  },
  "orig_nbformat": 2,
  "kernelspec": {
   "name": "python3",
   "display_name": "Python 3.8.10 64-bit"
  },
  "interpreter": {
   "hash": "916dbcbb3f70747c44a77c7bcd40155683ae19c65e1c03b4aa3499c5328201f1"
  }
 },
 "nbformat": 4,
 "nbformat_minor": 2,
 "cells": [
  {
   "cell_type": "code",
   "execution_count": null,
   "source": [
    "###################Ficheros Binarios\n",
    "#pickle - Modulo para ficheros binarios\n",
    "import pickle\n",
    "lista_colores = [\"azul\",\"verde\",\"rojo\",\"amarillo\"]\n",
    "#abrimos el fichero en modo escritura - binario\n",
    "fichero = open(\"dev_12_fichero_colores.pckl\",\"wb\")\n",
    "#Escribe la lista en el fichero\n",
    "pickle.dump(lista_colores,fichero)\n",
    "fichero.close()"
   ],
   "outputs": [],
   "metadata": {}
  },
  {
   "cell_type": "code",
   "execution_count": null,
   "source": [
    "#pickle - Modulo para leer datos de un fichero binario\n",
    "import pickle\n",
    "#abrimos el fichero en modo lectura - binario\n",
    "fichero = open(\"dev_12_fichero_colores.pckl\",\"rb\")\n",
    "#Lee la lista del fichero\n",
    "lista_leida_fichero = pickle.load(fichero)\n",
    "print(lista_leida_fichero)\n",
    "fichero.close()"
   ],
   "outputs": [],
   "metadata": {}
  }
 ]
}