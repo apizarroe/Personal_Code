{
 "metadata": {
  "language_info": {
   "codemirror_mode": {
    "name": "ipython",
    "version": 3
   },
   "file_extension": ".py",
   "mimetype": "text/x-python",
   "name": "python",
   "nbconvert_exporter": "python",
   "pygments_lexer": "ipython3",
   "version": "3.8.10"
  },
  "orig_nbformat": 2,
  "kernelspec": {
   "name": "python3",
   "display_name": "Python 3.8.10 64-bit"
  },
  "interpreter": {
   "hash": "916dbcbb3f70747c44a77c7bcd40155683ae19c65e1c03b4aa3499c5328201f1"
  }
 },
 "nbformat": 4,
 "nbformat_minor": 2,
 "cells": [
  {
   "cell_type": "code",
   "execution_count": null,
   "source": [
    "###################Ejercicio\n",
    "#Crear una variable \"numero1\" que tenga el valor 5\n",
    "#Indicar que tipo es la variable \"numero1\"\n",
    "\n",
    "#Crear otra variable \"numero2\" que tenga el valor 6.5\n",
    "#Indicar que tipo es la variable \"numero2\"\n",
    "\n",
    "#Crear otra variable \"numero3\" que tenga el valor 7\n",
    "#Indicar que tipo es la variable \"numero3\"\n",
    "\n",
    "#Crear otra variable \"suma\" que tenga el valor de la suma de los 3 numeros anteriores (numero1,numero2,numero3)\n",
    "#Mostrar el resultado de la variable \"suma\"\n",
    "#Indicar que tipo es la variable \"suma\""
   ],
   "outputs": [],
   "metadata": {}
  },
  {
   "cell_type": "code",
   "execution_count": null,
   "source": [
    "numero1 = 5\n",
    "print(type(numero1))\n",
    "\n",
    "numero2 = 6.5\n",
    "print(type(numero2))\n",
    "\n",
    "numero3 = 7\n",
    "print(type(numero3))\n",
    "\n",
    "suma = numero1 + numero2 + numero3\n",
    "print(suma)\n",
    "print(type(suma))"
   ],
   "outputs": [],
   "metadata": {}
  },
  {
   "cell_type": "code",
   "execution_count": null,
   "source": [
    "###################Ejercicio\n",
    "#1.Crear la variable \"numero1\" con el valor 5\n",
    "#2.Crear la variable \"numero2\" con el valor 3\n",
    "#3.Crear la variable \"suma\" con el valor de la suma de los numeros numero1 y numero2\n",
    "#4.Convertir esta variable \"suma\" en una cadena de caracteres y llamarla \"strSuma\"\n",
    "#5.Crear una variable resultado que concatene el texto \"El resultado es\" y la variable \"strSuma\""
   ],
   "outputs": [],
   "metadata": {}
  },
  {
   "cell_type": "code",
   "execution_count": null,
   "source": [
    "numero1 = 5\n",
    "numero2 = 3\n",
    "suma =  numero1 + numero2\n",
    "strSuma = str(suma)\n",
    "resultado = \"El resultado es \" + strSuma\n",
    "print(resultado)"
   ],
   "outputs": [],
   "metadata": {}
  }
 ]
}