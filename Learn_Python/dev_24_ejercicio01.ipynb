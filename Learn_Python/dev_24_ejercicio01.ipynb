{
 "metadata": {
  "language_info": {
   "codemirror_mode": {
    "name": "ipython",
    "version": 3
   },
   "file_extension": ".py",
   "mimetype": "text/x-python",
   "name": "python",
   "nbconvert_exporter": "python",
   "pygments_lexer": "ipython3",
   "version": "3.6.8-final"
  },
  "orig_nbformat": 2,
  "kernelspec": {
   "name": "python3",
   "display_name": "Python 3"
  }
 },
 "nbformat": 4,
 "nbformat_minor": 2,
 "cells": [
  {
   "cell_type": "code",
   "execution_count": null,
   "metadata": {},
   "outputs": [],
   "source": [
    "###################Ejercicio\n",
    "#Crear la funcion \"pares\" que devuelve un array de números pares entre dos valores pasados como parametros a la funcion (inicio y fin)\n",
    "#Utilizar la funcion \"pares\" con los numeros 1 y 30\n",
    "#Utilizar la funcion \"pares\" con los numeros 2 y 40"
   ]
  },
  {
   "cell_type": "code",
   "execution_count": null,
   "metadata": {},
   "outputs": [],
   "source": [
    "import numpy as np\n",
    "def pares(inicio, fin):\n",
    "    if(inicio % 2 == 0):\n",
    "        array = np.arange(inicio,fin,2)\n",
    "    else:\n",
    "        inicio = inicio + 1\n",
    "        array = np.arange(inicio,fin,2)\n",
    "    return array\n",
    "\n",
    "#Probamos el metodo\n",
    "print(pares(1,30))\n",
    "print(pares(2,40))"
   ]
  }
 ]
}