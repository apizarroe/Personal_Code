{
 "metadata": {
  "language_info": {
   "codemirror_mode": {
    "name": "ipython",
    "version": 3
   },
   "file_extension": ".py",
   "mimetype": "text/x-python",
   "name": "python",
   "nbconvert_exporter": "python",
   "pygments_lexer": "ipython3",
   "version": 3
  },
  "orig_nbformat": 2
 },
 "nbformat": 4,
 "nbformat_minor": 2,
 "cells": [
  {
   "cell_type": "code",
   "execution_count": null,
   "metadata": {},
   "outputs": [],
   "source": [
    "##################Ejercicio\n",
    "#Crear un modulo \"modulo1.py\"\n",
    "#Añadir la clase \"Coche\" creada en un ejercicio anterior al \"modulo1\"\n",
    "#Añadir la funcion lambda \"media\" creada en un ejercicio anterior al \"modulo1\"\n",
    "#\n",
    "#Crear un programa en Python \"programa1.py\"\n",
    "#Importar desde el modulo \"modulo1\" antes creado\n",
    "#Crear un objeto \"coche1\" al instanciar la clase \"Coche\"\n",
    "#Mediante print mostrar las caracteristicas del coche\n",
    "#Calcular la media de 3 notas y mostrar el resultado con print\n",
    "#\n",
    "#Ejecutar el programa \"programa.py\" y ver el resultado"
   ]
  }
 ]
}