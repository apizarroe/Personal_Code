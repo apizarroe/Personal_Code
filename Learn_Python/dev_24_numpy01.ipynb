{
 "metadata": {
  "language_info": {
   "codemirror_mode": {
    "name": "ipython",
    "version": 3
   },
   "file_extension": ".py",
   "mimetype": "text/x-python",
   "name": "python",
   "nbconvert_exporter": "python",
   "pygments_lexer": "ipython3",
   "version": "3.8.10"
  },
  "orig_nbformat": 2,
  "kernelspec": {
   "name": "python3",
   "display_name": "Python 3.8.10 64-bit"
  },
  "interpreter": {
   "hash": "916dbcbb3f70747c44a77c7bcd40155683ae19c65e1c03b4aa3499c5328201f1"
  }
 },
 "nbformat": 4,
 "nbformat_minor": 2,
 "cells": [
  {
   "cell_type": "code",
   "execution_count": null,
   "source": [
    "###################Creando arrays\n",
    "import numpy as np\n",
    "#Genera un arreglo con 4 objetos '0'\n",
    "print(np.zeros(4))\n",
    "#Genera un arreglo con 4 objetos '1'\n",
    "print(np.ones(4))\n",
    "#Genera un arreglo con 5 objetos del 0 al 4\n",
    "print(np.arange(5))\n",
    "print(np.arange(10))\n",
    "#Genera un arreglo con 5 objetos del 2 al 20 con saltos de 3\n",
    "print(np.arange(2,20,3))"
   ],
   "outputs": [],
   "metadata": {}
  },
  {
   "cell_type": "code",
   "execution_count": null,
   "source": [
    "lista1 = [1,2,3,4]\n",
    "#Convierte una lista en un array\n",
    "array1 = np.array(lista1) \n",
    "#Tener en cuenta que el array no tiene separaciones por coma y se limita por []\n",
    "print(lista1)\n",
    "print(array1)"
   ],
   "outputs": [],
   "metadata": {}
  },
  {
   "cell_type": "code",
   "execution_count": null,
   "source": [
    "lista1 = [1,2,3,4]\n",
    "lista2 = [5,6,7,8]\n",
    "#Genera un lista de multiples listas\n",
    "lista_doble = (lista1,lista2)\n",
    "print(lista_doble)\n",
    "#Convierte \"lista_doble\" en \"array_doble\" (array de array)\n",
    "array_doble = np.array(lista_doble)\n",
    "print(array_doble)\n",
    "print(array_doble.shape) #Se imprime el tamaño del array bidimensional (x,y)\n",
    "print(array_doble.dtype) #Se imprime el tipo del array"
   ],
   "outputs": [],
   "metadata": {}
  },
  {
   "cell_type": "code",
   "execution_count": null,
   "source": [
    "###################Operaciones con arrays (+,-,*,/,**)\n",
    "#Creamos un array con objetos del 1 al 4\n",
    "array1 = np.array([1,2,3,4])\n",
    "#Las operaciones con array se aplican a cada uno de los objetos por separado\n",
    "print(array1)\n",
    "print(array1*2) \n",
    "print(array1+4)\n",
    "print(array1)\n",
    "array1 = array1 + 4\n",
    "print(array1) "
   ],
   "outputs": [],
   "metadata": {}
  },
  {
   "cell_type": "code",
   "execution_count": null,
   "source": [
    "lista1 = [1,2,3,4]\n",
    "lista2 = [5,6,7,8]\n",
    "lista_doble = (lista1,lista2)\n",
    "print(lista_doble)\n",
    "array_doble = np.array(lista_doble)\n",
    "print(array_doble)\n",
    "#Se imprime las dimensiones del arreglo\n",
    "print(array_doble.shape)\n",
    "#Se imprime los tipo de objetos del arreglo\n",
    "print(array_doble.dtype)\n",
    "print(array_doble ** 2)\n",
    "array_doble = array_doble + 4\n",
    "print(array_doble)"
   ],
   "outputs": [],
   "metadata": {}
  },
  {
   "cell_type": "code",
   "execution_count": null,
   "source": [
    "###################Indexacion\n",
    "array = np.arange(0,11)\n",
    "print(array)\n",
    "#Se toman los objetos de la posicion 0 a la posicion 2\n",
    "print(array[0:3])\n",
    "#Se toman los objetos de la posicion 2 a la posicion 4\n",
    "print(array[2:5])\n",
    "#Se toman todos los objetos\n",
    "print(array[:]) #print(array)"
   ],
   "outputs": [],
   "metadata": {}
  },
  {
   "cell_type": "code",
   "execution_count": null,
   "source": [
    "#Se realiza la copia del array\n",
    "array_copia = array.copy()\n",
    "print(array_copia)\n",
    "print(array)\n",
    "#Se modifican los objetos del 0 al 2 con el valor de '20'\n",
    "array_copia[0:3] = 20 #Al realizar la copia (copy) los array son independientes!!!\n",
    "print(array_copia)\n",
    "print(array)"
   ],
   "outputs": [],
   "metadata": {}
  },
  {
   "cell_type": "code",
   "execution_count": null,
   "source": [
    "array2 = np.array(([1,2,3],[4,5,6],[7,8,9]))\n",
    "print(array2)\n",
    "#Se selecciona el nivel 1 del array (fila completa)\n",
    "print(array2[1])\n",
    "#Se selecciona el objeto de la posicion [1,0] (objeto de la coordenada (1,0))\n",
    "print(array2[1,0]) "
   ],
   "outputs": [],
   "metadata": {}
  },
  {
   "cell_type": "code",
   "execution_count": null,
   "source": [
    "###################Arrays o matrices traspuestas\n",
    "#Se crea un arreglo de 15 objetos (3x5)\n",
    "array = np.arange(15).reshape((3,5)) #reshape define la forma en que se distribuye el arreglo\n",
    "print(array)\n",
    "print(array[1][1])\n",
    "#Se transpone el arreglo cambiando la x por las y (pivot)\n",
    "array_tras = array.T\n",
    "print(array_tras)"
   ],
   "outputs": [],
   "metadata": {}
  },
  {
   "cell_type": "code",
   "execution_count": null,
   "source": [
    "###################Entrada y salida de arrays\n",
    "array = np.arange(15).reshape((3,5))\n",
    "\n",
    "array1 = np.arange(6)\n",
    "print(array1)\n",
    "#Guardar el arreglo en un archivo 'dev_24_array1s.npy'\n",
    "np.save('dev_24_array1s',array)\n",
    "#Leer el arreglo de un archivo 'dev_24_array1s.npy'\n",
    "np.load('dev_24_array1s.npy')\n",
    "\n",
    "array=np.load('dev_24_array1s.npy')\n",
    "print(array)"
   ],
   "outputs": [],
   "metadata": {}
  },
  {
   "cell_type": "code",
   "execution_count": null,
   "source": [
    "array1 = np.arange(6)\n",
    "array2 = np.arange(8)\n",
    "#Guardar los arreglos en un archivo 'arrays.npyz' [(x=array1, y=array2)]\n",
    "np.savez('dev_24_arrays', array1, array2) #Tambien se puede utilizar np.savez('dev_24_arrays', x=array1, y=array2)\n",
    "#Leer el arreglo de un archivo 'arrays.npyz'\n",
    "array_recuperado = np.load('dev_24_arrays.npz')\n",
    "print(array_recuperado.files)\n",
    "print(array_recuperado['arr_0']) #Tambien se puede usar print(array_recuperado['x']), si se le asigna como argumentos\n",
    "print(array_recuperado['arr_1']) #Tambien se puede usar print(array_recuperado['y']), si se le asigna como argumentos\n",
    "#Se guarda el array2 en un fichero delimitado por comas\n",
    "np.savetxt('dev_24_mificheroarray.txt',array2,delimiter=',')\n",
    "#Se guarda lee el array de un fichero delimitado por comas\n",
    "array = np.loadtxt('dev_24_mificheroarray.txt',delimiter=',')\n",
    "print(array)"
   ],
   "outputs": [],
   "metadata": {}
  },
  {
   "cell_type": "code",
   "execution_count": null,
   "source": [
    "###################Funciones a arrays\n",
    "array = np.arange(5)\n",
    "print(array)\n",
    "#Se aplica la funcion raiz sobre cada uno de los elementos\n",
    "print(np.sqrt(array))\n",
    "#Se genera una arreglo de 5 objetos con la funcion random (0 al 1)\n",
    "print(np.random.rand(5))\n",
    "lista = [5,6,7,8,9]\n",
    "array2 = np.array(lista)\n",
    "print(array2)\n",
    "#Se realiza la suma de los arrays\n",
    "print(np.add(array, array2))\n",
    "#Se calcula el maximo valor entre los arrays\n",
    "print(np.maximum(array, array2))"
   ],
   "outputs": [],
   "metadata": {}
  }
 ]
}