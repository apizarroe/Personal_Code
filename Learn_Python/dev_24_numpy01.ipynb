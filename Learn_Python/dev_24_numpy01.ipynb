{
 "metadata": {
  "language_info": {
   "codemirror_mode": {
    "name": "ipython",
    "version": 3
   },
   "file_extension": ".py",
   "mimetype": "text/x-python",
   "name": "python",
   "nbconvert_exporter": "python",
   "pygments_lexer": "ipython3",
   "version": "3.6.8-final"
  },
  "orig_nbformat": 2,
  "kernelspec": {
   "name": "python3",
   "display_name": "Python 3"
  }
 },
 "nbformat": 4,
 "nbformat_minor": 2,
 "cells": [
  {
   "cell_type": "code",
   "execution_count": null,
   "metadata": {},
   "outputs": [],
   "source": [
    "###################Creando arrays\n",
    "import numpy as np\n",
    "#Genera un arreglo con 4 objetos '0'\n",
    "print(np.zeros(4))\n",
    "#Genera un arreglo con 4 objetos '1'\n",
    "print(np.ones(4))\n",
    "#Genera un arreglo con 5 objetos del 0 al 4\n",
    "print(np.arange(5))\n",
    "print(np.arange(10))\n",
    "#Genera un arreglo con 5 objetos del 2 al 20 con saltos de 3\n",
    "print(np.arange(2,20,3))"
   ]
  },
  {
   "cell_type": "code",
   "execution_count": null,
   "metadata": {},
   "outputs": [],
   "source": [
    "lista1 = [1,2,3,4]\n",
    "#Convierte una lista en un array\n",
    "array1 = np.array(lista1)\n",
    "print(lista1)\n",
    "print(array1)"
   ]
  },
  {
   "cell_type": "code",
   "execution_count": null,
   "metadata": {},
   "outputs": [],
   "source": [
    "lista1 = [1,2,3,4]\n",
    "lista2 = [5,6,7,8]\n",
    "#Genera un lista de multiples listas\n",
    "lista_doble = (lista1,lista2)\n",
    "print(lista_doble)\n",
    "#Convierte \"lista_doble\" en \"array_doble\" (array de array)\n",
    "array_doble = np.array(lista_doble)\n",
    "print(array_doble)\n",
    "print(array_doble.shape)\n",
    "print(array_doble.dtype)"
   ]
  },
  {
   "cell_type": "code",
   "execution_count": null,
   "metadata": {},
   "outputs": [],
   "source": [
    "###################Operaciones con arrays (+,-,*,/,**)\n",
    "import numpy as np\n",
    "#Creamos un array con objetos del 1 al 4\n",
    "array1 = np.array([1,2,3,4])\n",
    "#Las operaciones con array se aplican a cada uno de los objetos por separado\n",
    "print(array1)\n",
    "print(array1*2) \n",
    "print(array1+4)\n",
    "print(array1)\n",
    "array1 = array1 + 4\n",
    "print(array1) "
   ]
  },
  {
   "cell_type": "code",
   "execution_count": null,
   "metadata": {},
   "outputs": [],
   "source": [
    "lista1 = [1,2,3,4]\n",
    "lista2 = [5,6,7,8]\n",
    "lista_doble = (lista1,lista2)\n",
    "print(lista_doble)\n",
    "array_doble = np.array(lista_doble)\n",
    "print(array_doble)\n",
    "#Se imprime las dimensiones del arreglo\n",
    "print(array_doble.shape)\n",
    "#Se imprime los tipo de objetos del arreglo\n",
    "print(array_doble.dtype)\n",
    "print(array_doble ** 2)\n",
    "array_doble = array_doble + 4\n",
    "print(array_doble)"
   ]
  },
  {
   "cell_type": "code",
   "execution_count": null,
   "metadata": {},
   "outputs": [],
   "source": [
    "###################Indexacion\n",
    "import numpy as np\n",
    "array = np.arange(0,11)\n",
    "print(array)\n",
    "#Se toman los objetos de la posicion 0 a la posicion 2\n",
    "print(array[0:3])\n",
    "#Se toman los objetos de la posicion 2 a la posicion 4\n",
    "print(array[2:5])\n",
    "#Se toman todos los objetos\n",
    "print(array[:])"
   ]
  },
  {
   "cell_type": "code",
   "execution_count": null,
   "metadata": {},
   "outputs": [],
   "source": [
    "#Se realiza la copia del array\n",
    "array_copia = array.copy()\n",
    "print(array_copia)\n",
    "print(array)\n",
    "#Se modifican los objetos del 0 al 2 con el valor de '20'\n",
    "array_copia[0:3] = 20\n",
    "print(array_copia)\n",
    "print(array)"
   ]
  },
  {
   "cell_type": "code",
   "execution_count": null,
   "metadata": {},
   "outputs": [],
   "source": [
    "array2 = np.array(([1,2,3],[4,5,6],[7,8,9]))\n",
    "print(array2)\n",
    "#Se selecciona el nivel 1 del array\n",
    "print(array2[1])\n",
    "#Se selecciona el objeto de la posicion [1,0]\n",
    "print(array2[1,0]) "
   ]
  },
  {
   "cell_type": "code",
   "execution_count": null,
   "metadata": {},
   "outputs": [],
   "source": [
    "###################Arrays o matrices traspuestas\n",
    "import numpy as np\n",
    "#Se crea un arreglo de 15 objetos (3x5)\n",
    "array = np.arange(15).reshape((3,5))\n",
    "print(array)\n",
    "print(array[1][1])\n",
    "#Se transpone el arreglo cambiando la x por las y (pivot)\n",
    "array_tras = array.T\n",
    "print(array_tras)"
   ]
  },
  {
   "cell_type": "code",
   "execution_count": null,
   "metadata": {},
   "outputs": [],
   "source": [
    "###################Entrada y salida de arrays\n",
    "import numpy as np\n",
    "array = np.arange(15).reshape((3,5))\n",
    "array1 = np.arange(6)\n",
    "print(array1)\n",
    "#Guardar el arreglo en un archivo 'array1s.npy'\n",
    "np.save('dev_24_array1s',array)\n",
    "#Leer el arreglo de un archivo 'array1s.npy'\n",
    "np.load('dev_24_array1s.npy')"
   ]
  },
  {
   "cell_type": "code",
   "execution_count": null,
   "metadata": {},
   "outputs": [],
   "source": [
    "array1 = np.arange(6)\n",
    "array2 = np.arange(8)\n",
    "#Guardar los arreglos en un archivo 'arrays.npyz' [(x=array1, y=array2)]\n",
    "np.savez('dev_24_arrays', x=array1, y=array2)\n",
    "#Leer el arreglo de un archivo 'arrays.npyz'\n",
    "array_recuperado = np.load('dev_24_arrays.npz')\n",
    "print(array_recuperado['x'])\n",
    "print(array_recuperado['y'])\n",
    "#Se guarda el array2 en un fichero delimitado por comas\n",
    "np.savetxt('dev_24_mificheroarray.txt',array2,delimiter=',')\n",
    "#Se guarda lee el array de un fichero delimitado por comas\n",
    "np.loadtxt('dev_24_mificheroarray.txt',delimiter=',')"
   ]
  },
  {
   "cell_type": "code",
   "execution_count": null,
   "metadata": {},
   "outputs": [],
   "source": [
    "###################Funciones a arrays\n",
    "import numpy as np\n",
    "array = np.arange(5)\n",
    "print(array)\n",
    "#Se aplica la funcion raiz sobre cada uno de los elementos\n",
    "print(np.sqrt(array))\n",
    "#Se genera una arreglo de 5 objetos con la funcion random (0 al 1)\n",
    "print(np.random.rand(5))\n",
    "lista = [5,6,7,8,9]\n",
    "array2 = np.array(lista)\n",
    "print(array2)\n",
    "#Se realiza la suma de los arrays\n",
    "print(np.add(array, array2))\n",
    "#Se calcula el maximo valor entre los arrays\n",
    "print(np.maximum(array, array2))"
   ]
  }
 ]
}