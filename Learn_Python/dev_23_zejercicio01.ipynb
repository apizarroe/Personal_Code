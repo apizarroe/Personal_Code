{
 "metadata": {
  "language_info": {
   "codemirror_mode": {
    "name": "ipython",
    "version": 3
   },
   "file_extension": ".py",
   "mimetype": "text/x-python",
   "name": "python",
   "nbconvert_exporter": "python",
   "pygments_lexer": "ipython3",
   "version": "3.8.10"
  },
  "orig_nbformat": 2,
  "kernelspec": {
   "name": "python3",
   "display_name": "Python 3.8.10 64-bit"
  },
  "interpreter": {
   "hash": "916dbcbb3f70747c44a77c7bcd40155683ae19c65e1c03b4aa3499c5328201f1"
  }
 },
 "nbformat": 4,
 "nbformat_minor": 2,
 "cells": [
  {
   "cell_type": "code",
   "execution_count": 2,
   "source": [
    "###################Ejercicio\n",
    "#Crear la función \"primos\" que será una función generada de números primos entre 0 y el 100\n",
    "#Esta es la lista de números primos entre 0 y 100\n",
    "#numeros_primos = [2,3,5,7,11,13,17,19,23,29,31,41,43,47,53,59,61,67,71,73,79,83,89,97]\n",
    "\n",
    "#Utilizar la función generadora para mostrar por pantalla numeros primos menores de 50"
   ],
   "outputs": [],
   "metadata": {}
  },
  {
   "cell_type": "code",
   "execution_count": 3,
   "source": [
    "numeros_primos = [2,3,5,7,11,13,17,19,23,29,31,41,43,47,53,59,61,67,71,73,79,83,89,97]\n",
    "\n",
    "def primos(maximo):\n",
    "    for numero in range(maximo):\n",
    "        if(numero in numeros_primos):\n",
    "            yield numero\n",
    "        if(numero > 100):\n",
    "            break\n",
    "\n",
    "maximo = 50\n",
    "for numero in primos(maximo):\n",
    "    print(numero)"
   ],
   "outputs": [
    {
     "output_type": "stream",
     "name": "stdout",
     "text": [
      "2\n",
      "3\n",
      "5\n",
      "7\n",
      "11\n",
      "13\n",
      "17\n",
      "19\n",
      "23\n",
      "29\n",
      "31\n",
      "41\n",
      "43\n",
      "47\n"
     ]
    }
   ],
   "metadata": {}
  },
  {
   "cell_type": "code",
   "execution_count": 4,
   "source": [
    "###################Ejercicio\n",
    "#A partir de la lista \"numeros\" que contiene numeros del 1 al 10, obtener mediante filter\n",
    "#una lista denominada \"pares\" con los números pares de la lista \"numeros\""
   ],
   "outputs": [],
   "metadata": {}
  },
  {
   "cell_type": "code",
   "execution_count": 5,
   "source": [
    "lista = [1,2,3,4,5,6,7,8,9,10]\n",
    "\n",
    "def par(numero):\n",
    "    if(numero % 2 == 0):\n",
    "        return True\n",
    "    else:\n",
    "        return False\n",
    "\n",
    "resultado = filter(par, lista)\n",
    "pares = list(resultado)\n",
    "print(pares)"
   ],
   "outputs": [
    {
     "output_type": "stream",
     "name": "stdout",
     "text": [
      "[2, 4, 6, 8, 10]\n"
     ]
    }
   ],
   "metadata": {}
  },
  {
   "cell_type": "code",
   "execution_count": 6,
   "source": [
    "###################Ejercicio\n",
    "#A partir de la lista de numeros del 1 al 10,\n",
    "#obtener una nueva lista con todos los elementos incrementados en 10 unidades"
   ],
   "outputs": [],
   "metadata": {}
  },
  {
   "cell_type": "code",
   "execution_count": 7,
   "source": [
    "lista = [1,2,3,4,5,6,7,8,9,10]\n",
    "\n",
    "def incremento(numero):\n",
    "    resultado = numero + 10\n",
    "    return resultado\n",
    "\n",
    "resultado = map(incremento,lista)\n",
    "numeros = list(resultado)\n",
    "print(numeros)"
   ],
   "outputs": [
    {
     "output_type": "stream",
     "name": "stdout",
     "text": [
      "[11, 12, 13, 14, 15, 16, 17, 18, 19, 20]\n"
     ]
    }
   ],
   "metadata": {}
  }
 ]
}