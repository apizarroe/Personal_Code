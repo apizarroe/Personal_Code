{
 "metadata": {
  "language_info": {
   "codemirror_mode": {
    "name": "ipython",
    "version": 3
   },
   "file_extension": ".py",
   "mimetype": "text/x-python",
   "name": "python",
   "nbconvert_exporter": "python",
   "pygments_lexer": "ipython3",
   "version": "3.6.8-final"
  },
  "orig_nbformat": 2,
  "kernelspec": {
   "name": "python3",
   "display_name": "Python 3"
  }
 },
 "nbformat": 4,
 "nbformat_minor": 2,
 "cells": [
  {
   "source": [
    "###################Variables\n",
    "\n",
    "###Estas son las primeras líneas \n",
    "###de código en Python\n",
    "cadena = \"Hola mundo\"\n",
    "print(cadena)\n",
    "\n",
    "#Este es un ejemplo de suma\n",
    "numero1 = 5\n",
    "numero2 = 7\n",
    "suma = numero1 + numero2\n",
    "suma\n",
    "print(suma)\n",
    "\n",
    "#Este es un ejemplo de una multiplicación\n",
    "a = 5\n",
    "b = 4\n",
    "c = a * b\n",
    "\n",
    "#Variables:\n",
    "#El identificador de una variable debe iniciar con una letra o un \"_\"\n",
    "#5numero = 5 (Mostrará un error)\n",
    "_numero = 5; _numero\n",
    "numero = 5; numero\n",
    "#Tambien es CaseSensitive esto es Numero <> numero\n",
    "\n",
    "#Concatenación de cadenas\n",
    "cadena1 = \"Hola \"\n",
    "cadena2 = \"mundo\"\n",
    "cadenanueva = cadena1 + cadena2 \n",
    "cadenanueva\n",
    "\n",
    "print(type(suma))\n",
    "print(type(cadenanueva))"
   ],
   "cell_type": "code",
   "metadata": {},
   "execution_count": null,
   "outputs": []
  }
 ]
}