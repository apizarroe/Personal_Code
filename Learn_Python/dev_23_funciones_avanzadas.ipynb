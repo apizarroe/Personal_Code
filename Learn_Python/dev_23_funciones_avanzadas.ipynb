{
 "metadata": {
  "language_info": {
   "codemirror_mode": {
    "name": "ipython",
    "version": 3
   },
   "file_extension": ".py",
   "mimetype": "text/x-python",
   "name": "python",
   "nbconvert_exporter": "python",
   "pygments_lexer": "ipython3",
   "version": "3.6.8-final"
  },
  "orig_nbformat": 2,
  "kernelspec": {
   "name": "python3",
   "display_name": "Python 3"
  }
 },
 "nbformat": 4,
 "nbformat_minor": 2,
 "cells": [
  {
   "cell_type": "code",
   "execution_count": null,
   "metadata": {},
   "outputs": [],
   "source": [
    "###################Funciones Generadoras\n",
    "range(0,11)\n",
    "for numero in range(0,11):\n",
    "    print(numero)\n",
    "#range(0,11) = range(11)"
   ]
  },
  {
   "cell_type": "code",
   "execution_count": null,
   "metadata": {},
   "outputs": [],
   "source": [
    "def pares(maximo):\n",
    "    for numero in range(maximo):\n",
    "        if(numero % 2 == 0):\n",
    "            yield numero\n",
    "\n",
    "maximo = 11\n",
    "for numero in pares(maximo):\n",
    "    print(numero)"
   ]
  },
  {
   "cell_type": "code",
   "execution_count": null,
   "metadata": {},
   "outputs": [],
   "source": [
    "###################Filter - Funcion para filtrar resultados segun una condicion\n",
    "def positivo(numero):\n",
    "    if (numero > 0):\n",
    "        return True\n",
    "    else:\n",
    "        return False\n",
    "\n",
    "print(positivo(5))\n",
    "print(positivo(-3))\n",
    "\n",
    "numeros = [4,-2,8,-3,-5,-7,1,9]\n",
    "filtro = filter(positivo,numeros)\n",
    "resultado = list(filtro)\n",
    "print(resultado)"
   ]
  },
  {
   "cell_type": "code",
   "execution_count": 4,
   "metadata": {},
   "outputs": [
    {
     "output_type": "stream",
     "name": "stdout",
     "text": [
      "4\n[4, 8, 12]\n[4, 8, 12]\n[4, 8, 12]\n"
     ]
    }
   ],
   "source": [
    "###################Map - Aplicar una funcion a una lista\n",
    "def multiplicar(numero):\n",
    "    return numero * 2\n",
    "\n",
    "print(multiplicar(2))\n",
    "\n",
    "numeros = [2,4,6]\n",
    "\n",
    "#Forma tradicional\n",
    "mapeo = map(multiplicar, numeros)\n",
    "resultado =  list(mapeo)\n",
    "print(resultado)\n",
    "\n",
    "#Todo en una linea\n",
    "lista_resultado = list(map(multiplicar,numeros))\n",
    "print(lista_resultado)\n",
    "\n",
    "#Usando funcion lambda\n",
    "lista_resultado = list(map(lambda numero: numero * 2, numeros))\n",
    "print(lista_resultado)"
   ]
  }
 ]
}