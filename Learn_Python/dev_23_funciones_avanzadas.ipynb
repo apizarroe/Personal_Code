{
 "metadata": {
  "language_info": {
   "codemirror_mode": {
    "name": "ipython",
    "version": 3
   },
   "file_extension": ".py",
   "mimetype": "text/x-python",
   "name": "python",
   "nbconvert_exporter": "python",
   "pygments_lexer": "ipython3",
   "version": "3.8.10"
  },
  "orig_nbformat": 2,
  "kernelspec": {
   "name": "python3",
   "display_name": "Python 3.8.10 64-bit"
  },
  "interpreter": {
   "hash": "916dbcbb3f70747c44a77c7bcd40155683ae19c65e1c03b4aa3499c5328201f1"
  }
 },
 "nbformat": 4,
 "nbformat_minor": 2,
 "cells": [
  {
   "cell_type": "code",
   "execution_count": null,
   "source": [
    "###################Funciones Generadoras\n",
    "range(0,11) #Esta fuincion devuelve un objeto parecido a una lista, puede ser iterada\n",
    "for numero in range(0,11):\n",
    "    print(numero)\n",
    "#range(0,11) = range(11)"
   ],
   "outputs": [],
   "metadata": {}
  },
  {
   "cell_type": "code",
   "execution_count": null,
   "source": [
    "def pares(maximo):\n",
    "    for numero in range(maximo):\n",
    "        if(numero % 2 == 0):\n",
    "            yield numero #Con esto se retorna un objeto generador, ademas si hay codigo posterior a este\n",
    "            print(\"Luego del yeld: \",numero) #se ejecuta el llamado y se continua con el codigo restante\n",
    "\n",
    "maximo = 11\n",
    "for numero in pares(maximo):\n",
    "    print(\"En la funcion: \",numero)\n",
    "    print(\"Continuo con el codigo\")\n"
   ],
   "outputs": [],
   "metadata": {}
  },
  {
   "cell_type": "code",
   "execution_count": null,
   "source": [
    "###################Filter - Funcion para filtrar resultados segun una condicion\n",
    "def positivo(numero):\n",
    "    if (numero > 0):\n",
    "        return True\n",
    "    else:\n",
    "        return False\n",
    "#La funcion puede retornar Verdadero o Falso, tambien puede retornar un valor y un None, \n",
    "# o simplemente puede tener un 'if' con el valor deseado y funciona de la misma manera. \n",
    "\n",
    "print(positivo(5))\n",
    "print(positivo(-3))\n",
    "\n",
    "numeros = [4,-2,8,-3,-5,-7,1,9]\n",
    "filtro = filter(positivo,numeros)\n",
    "#Return an iterator yielding those items of iterable for which function(item)\n",
    "#|  is true. If function is None, return the items that are true.\n",
    "resultado = list(filtro)\n",
    "print(resultado)"
   ],
   "outputs": [],
   "metadata": {}
  },
  {
   "cell_type": "code",
   "execution_count": null,
   "source": [
    "###################Map - Aplicar una funcion a una lista\n",
    "def multiplicar(numero):\n",
    "    return numero * 2\n",
    "\n",
    "print(multiplicar(2))\n",
    "\n",
    "numeros = [2,4,6]\n",
    "\n",
    "#Forma tradicional\n",
    "mapeo = map(multiplicar, numeros)\n",
    "#Permite ejecutar una funcion para cada valor de la lista\n",
    "resultado =  list(mapeo)\n",
    "print(resultado)\n",
    "\n",
    "#Todo en una linea (Casteando a su vez el resultado del map a una lista)\n",
    "lista_resultado = list(map(multiplicar,numeros))\n",
    "print(lista_resultado)\n",
    "\n",
    "#Usando funcion lambda (Esto es una funcion anonima, esto quiere decir que la funcion \n",
    "# no requiere la declaracion de la misma por separado)\n",
    "lista_resultado = list(map(lambda numero: numero * 2, numeros))\n",
    "print(lista_resultado)"
   ],
   "outputs": [],
   "metadata": {}
  },
  {
   "cell_type": "code",
   "execution_count": null,
   "source": [
    "###################Reduce - Se aplica entre todos los elementos de la lista (resultado agrupado)\n",
    " \n",
    "# importing functools for reduce()\n",
    "import functools\n",
    "\n",
    "lis = [1, 3, 5, 6, 2]\n",
    " \n",
    "# using reduce to compute sum of list\n",
    "print(\"The sum of the list elements is : \", end=\"\")\n",
    "print(functools.reduce(lambda a, b: a+b, lis))\n",
    " \n",
    "# using reduce to compute maximum element from list\n",
    "print(\"The maximum element of the list is : \", end=\"\")\n",
    "print(functools.reduce(lambda a, b: a if a > b else b, lis))"
   ],
   "outputs": [],
   "metadata": {}
  }
 ]
}