{
 "metadata": {
  "language_info": {
   "codemirror_mode": {
    "name": "ipython",
    "version": 3
   },
   "file_extension": ".py",
   "mimetype": "text/x-python",
   "name": "python",
   "nbconvert_exporter": "python",
   "pygments_lexer": "ipython3",
   "version": "3.8.10"
  },
  "orig_nbformat": 2,
  "kernelspec": {
   "name": "python3",
   "display_name": "Python 3.8.10 64-bit"
  },
  "interpreter": {
   "hash": "916dbcbb3f70747c44a77c7bcd40155683ae19c65e1c03b4aa3499c5328201f1"
  }
 },
 "nbformat": 4,
 "nbformat_minor": 2,
 "cells": [
  {
   "cell_type": "code",
   "execution_count": 2,
   "source": [
    "###################Ejercicio\n",
    "#Crear la funcion \"pares\" que devuelve un array de números pares entre dos valores pasados como parametros a la funcion (inicio y fin)\n",
    "#Utilizar la funcion \"pares\" con los numeros 1 y 30\n",
    "#Utilizar la funcion \"pares\" con los numeros 2 y 40"
   ],
   "outputs": [],
   "metadata": {}
  },
  {
   "cell_type": "code",
   "execution_count": 3,
   "source": [
    "import numpy as np\n",
    "def pares(inicio, fin):\n",
    "    if(inicio % 2 == 0):\n",
    "        array = np.arange(inicio,fin,2)\n",
    "    else:\n",
    "        inicio = inicio + 1\n",
    "        array = np.arange(inicio,fin,2)\n",
    "    return array\n",
    "\n",
    "#Probamos el metodo\n",
    "print(pares(1,30))\n",
    "print(pares(2,40))"
   ],
   "outputs": [
    {
     "output_type": "stream",
     "name": "stdout",
     "text": [
      "[ 2  4  6  8 10 12 14 16 18 20 22 24 26 28]\n",
      "[ 2  4  6  8 10 12 14 16 18 20 22 24 26 28 30 32 34 36 38]\n"
     ]
    }
   ],
   "metadata": {}
  },
  {
   "cell_type": "code",
   "execution_count": 4,
   "source": [
    "###################Ejercicio\n",
    "#1.Crear una lista con numeros del 10 al 19\n",
    "#2.Crear otra lista con numeros del 50 al 59\n",
    "#3.Crear una matriz 2x10 con la lista anteriores\n",
    "#4.Crear otra matriz que cuyos valores sean iguales a la matriz anterior multiplicados por 2"
   ],
   "outputs": [],
   "metadata": {}
  },
  {
   "cell_type": "code",
   "execution_count": 11,
   "source": [
    "import numpy as np\n",
    "lista1 = np.arange(10,20)\n",
    "lista2 = np.arange(50,60)\n",
    "suma_lista = (lista1,lista2)\n",
    "print(suma_lista)\n",
    "array_doble = np.array(suma_lista)\n",
    "array_resultado = (array_doble * 2)\n",
    "print(array_resultado) "
   ],
   "outputs": [
    {
     "output_type": "stream",
     "name": "stdout",
     "text": [
      "(array([10, 11, 12, 13, 14, 15, 16, 17, 18, 19]), array([50, 51, 52, 53, 54, 55, 56, 57, 58, 59]))\n",
      "[[ 20  22  24  26  28  30  32  34  36  38]\n",
      " [100 102 104 106 108 110 112 114 116 118]]\n"
     ]
    }
   ],
   "metadata": {}
  },
  {
   "cell_type": "code",
   "execution_count": 6,
   "source": [
    "###################Ejercicio\n",
    "#Crear una lista con los valores numericos del 0 al 30\n",
    "#Crear otra lista con los primeros 10 valores de lista inicial\n",
    "#Crear otra lista con los últimos 10 valores de lista inicial\n",
    "#Crear un bucle que recorra esta última lista de valores finales"
   ],
   "outputs": [],
   "metadata": {}
  },
  {
   "cell_type": "code",
   "execution_count": 2,
   "source": [
    "import numpy as np\n",
    "lista1 = np.arange(0,30)\n",
    "lista2 = lista1[0:10]\n",
    "lista3 = lista1[-10:]\n",
    "for numero in lista3:\n",
    "    print(numero)"
   ],
   "outputs": [
    {
     "output_type": "stream",
     "name": "stdout",
     "text": [
      "20\n",
      "21\n",
      "22\n",
      "23\n",
      "24\n",
      "25\n",
      "26\n",
      "27\n",
      "28\n",
      "29\n"
     ]
    }
   ],
   "metadata": {}
  }
 ]
}