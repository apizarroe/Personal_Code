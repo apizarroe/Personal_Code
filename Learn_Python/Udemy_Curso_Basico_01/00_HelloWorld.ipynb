{
 "cells": [
  {
   "cell_type": "markdown",
   "id": "f962a9aa-a194-4124-9ba3-5c449dfe2185",
   "metadata": {},
   "source": [
    "### Esto es un ejercicio de Prueba"
   ]
  },
  {
   "cell_type": "markdown",
   "id": "b50fe4ff-a362-4399-9fd8-e05535ac602a",
   "metadata": {},
   "source": [
    "Esto es otro texto de prueba"
   ]
  },
  {
   "cell_type": "code",
   "execution_count": 3,
   "id": "7e7971d8-6997-40fc-8fc9-0f7b792dd5b4",
   "metadata": {},
   "outputs": [
    {
     "name": "stdout",
     "output_type": "stream",
     "text": [
      "Hola mundo\n"
     ]
    }
   ],
   "source": [
    "print(\"Hola mundo\")"
   ]
  },
  {
   "cell_type": "code",
   "execution_count": null,
   "id": "e3be7734-3e1b-4bc8-8dca-029914959afd",
   "metadata": {},
   "outputs": [],
   "source": []
  }
 ],
 "metadata": {
  "kernelspec": {
   "display_name": "Python 3 (ipykernel)",
   "language": "python",
   "name": "python3"
  },
  "language_info": {
   "codemirror_mode": {
    "name": "ipython",
    "version": 3
   },
   "file_extension": ".py",
   "mimetype": "text/x-python",
   "name": "python",
   "nbconvert_exporter": "python",
   "pygments_lexer": "ipython3",
   "version": "3.11.9"
  }
 },
 "nbformat": 4,
 "nbformat_minor": 5
}
