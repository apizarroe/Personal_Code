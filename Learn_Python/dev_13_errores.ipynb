{
 "metadata": {
  "language_info": {
   "codemirror_mode": {
    "name": "ipython",
    "version": 3
   },
   "file_extension": ".py",
   "mimetype": "text/x-python",
   "name": "python",
   "nbconvert_exporter": "python",
   "pygments_lexer": "ipython3",
   "version": 3
  },
  "orig_nbformat": 2
 },
 "nbformat": 4,
 "nbformat_minor": 2,
 "cells": [
  {
   "cell_type": "code",
   "execution_count": null,
   "metadata": {},
   "outputs": [],
   "source": [
    "###################try ...except ...else ...finally\n",
    "numero1 = 5\n",
    "numero2 = 0\n",
    "division = numero1 / numero2"
   ]
  },
  {
   "cell_type": "code",
   "execution_count": null,
   "metadata": {},
   "outputs": [],
   "source": [
    "#Esta es la forma de caprturar un error en general\n",
    "try:\n",
    "    numero1 = 5\n",
    "    numero2 = 0\n",
    "    division = numero1 / numero2\n",
    "    print(division)\n",
    "except:\n",
    "    print(\"Ha habido un error\")"
   ]
  },
  {
   "cell_type": "code",
   "execution_count": null,
   "metadata": {},
   "outputs": [],
   "source": [
    "#Esta es la forma de capturar un error específico\n",
    "try:\n",
    "    numero1 = 5\n",
    "    numero2 = 0\n",
    "    division = numero1 / numero2\n",
    "    print(division)\n",
    "except ZeroDivisionError:\n",
    "    print(\"Error, división entre cero\")\n",
    "except:\n",
    "    print(\"Ha habido un error\")"
   ]
  },
  {
   "cell_type": "code",
   "execution_count": null,
   "metadata": {},
   "outputs": [],
   "source": [
    "#También se puede usar else para el manejo de errores\n",
    "try:\n",
    "    numero1 = 5\n",
    "    numero2 = 2\n",
    "    division = numero1 / numero2\n",
    "    print(division)\n",
    "except ZeroDivisionError:\n",
    "    print(\"Error, división entre cero\")\n",
    "except:\n",
    "    print(\"Ha habido un error\")\n",
    "else:\n",
    "    print(\"La división funcionó correctamente\")"
   ]
  },
  {
   "cell_type": "code",
   "execution_count": null,
   "metadata": {},
   "outputs": [],
   "source": [
    "#Este es el modo de manejo de finally\n",
    "try:\n",
    "    numero1 = 5\n",
    "    numero2 = 2\n",
    "    division = numero1 / numero2\n",
    "    print(division)\n",
    "except ZeroDivisionError:\n",
    "    print(\"Error, división entre cero\")\n",
    "except:\n",
    "    print(\"Ha habido un error\")\n",
    "else:\n",
    "    print(\"La división funcionó correctamente\")\n",
    "#Este bloque de codigo siempre se ejecutará caiga en una excepción o no\n",
    "finally:\n",
    "    print(\"La prueba del try se ha acabado!\")"
   ]
  }
 ]
}