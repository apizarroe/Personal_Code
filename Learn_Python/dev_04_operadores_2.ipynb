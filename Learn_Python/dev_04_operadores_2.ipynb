{
 "cells": [
  {
   "cell_type": "code",
   "execution_count": null,
   "metadata": {},
   "outputs": [],
   "source": [
    "###################Operadores lógicos (and, or, not)\n",
    "numero1 = 10\n",
    "numero2 = 5\n",
    "numero3 = 7\n",
    "numero4 = 8\n",
    "valor1 = numero1 > numero2; valor2 = numero3 < numero4; valor3 = numero1 < numero2; valor4 = numero3 > numero4\n",
    "print((numero1 > numero2) and (numero3 < numero4)) #True\n",
    "print((numero1 > numero2) and (numero3 > numero4)) #False\n",
    "print((numero1 > numero2) or (numero3 < numero4)) #True\n",
    "print((numero1 < numero2) or (numero3 > numero4)) #False\n",
    "print(not(numero1 > numero2)) #False"
   ]
  },
  {
   "cell_type": "code",
   "execution_count": null,
   "metadata": {},
   "outputs": [],
   "source": [
    "###################Operadores de identidad (is, is not)\n",
    "frutas1 = [\"manzana\",\"pera\"] #Se genera una lista con dos objetos\n",
    "frutas2 = [\"manzana\",\"pera\"]\n",
    "frutas3 = frutas1\n",
    "#Este operador nos indica si las variables son identicas\n",
    "#Para el ejemplo frutas 3 y frutas 1 son identicas\n",
    "print(frutas3 is frutas1) #True\n",
    "frutas3.append(\"naranja\") #Se agrega un objeto a la lista\n",
    "print(frutas3)\n",
    "print(frutas1)\n",
    "#Este operador nos indica si las variables no son identicas\n",
    "#Para el ejemplo frutas 3 y frutas 2 no son identicas\n",
    "print(frutas3 is not frutas2) #True"
   ]
  },
  {
   "cell_type": "code",
   "execution_count": null,
   "metadata": {},
   "outputs": [],
   "source": [
    "###################Operadores de pertenencia (in, not in)\n",
    "frutas1 = [\"manzana\",\"pera\",\"naranja\"]\n",
    "frutas2 = \"pera\"\n",
    "#Este operador nos indica si la variable frutas1 pertenece a frutas2\n",
    "print(frutas2 in frutas1) #True\n",
    "#Este operador nos indica si la variable frutas1 no pertenece a frutas2\n",
    "print(frutas2 not in frutas1) #False\n",
    "frutas3 = \"melocoton\"\n",
    "print(frutas3 not in frutas1) #True"
   ]
  }
 ],
 "metadata": {
  "language_info": {
   "codemirror_mode": {
    "name": "ipython",
    "version": 3
   },
   "file_extension": ".py",
   "mimetype": "text/x-python",
   "name": "python",
   "nbconvert_exporter": "python",
   "pygments_lexer": "ipython3",
   "version": "3.8.10-final"
  },
  "orig_nbformat": 2,
  "kernelspec": {
   "name": "python381064bit9d3251ccedc84bcdaa0162110c9364b0",
   "display_name": "Python 3.8.10 64-bit"
  }
 },
 "nbformat": 4,
 "nbformat_minor": 2
}