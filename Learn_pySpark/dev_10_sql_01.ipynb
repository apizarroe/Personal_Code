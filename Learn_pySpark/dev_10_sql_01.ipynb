{
 "cells": [
  {
   "cell_type": "code",
   "execution_count": 1,
   "metadata": {},
   "outputs": [],
   "source": [
    "import pyspark\n",
    "sc = pyspark.SparkContext(appName=\"myAppName\")\n",
    "from pyspark.sql import SparkSession\n",
    "from pyspark.sql import SQLContext\n",
    "spark = SparkSession(sc)"
   ]
  },
  {
   "cell_type": "code",
   "execution_count": 2,
   "metadata": {},
   "outputs": [
    {
     "name": "stdout",
     "output_type": "stream",
     "text": "[['3070801', '1963', '1096', '', '\"BE\"', '\"\"', '', '1', '', '269', '6', '69', '', '1', '', '0'], ['3070802', '1963', '1096', '', '\"US\"', '\"TX\"', '', '1', '', '2', '6', '63', '', '0', '', ''], ['3070803', '1963', '1096', '', '\"US\"', '\"IL\"', '', '1', '', '2', '6', '63', '', '9', '', '0.3704'], ['3070804', '1963', '1096', '', '\"US\"', '\"OH\"', '', '1', '', '2', '6', '63', '', '3', '', '0.6667'], ['3070805', '1963', '1096', '', '\"US\"', '\"CA\"', '', '1', '', '2', '6', '63', '', '1', '', '0'], ['3070806', '1963', '1096', '', '\"US\"', '\"PA\"', '', '1', '', '2', '6', '63', '', '0', '', ''], ['3070807', '1963', '1096', '', '\"US\"', '\"OH\"', '', '1', '', '623', '3', '39', '', '3', '', '0.4444'], ['3070808', '1963', '1096', '', '\"US\"', '\"IA\"', '', '1', '', '623', '3', '39', '', '4', '', '0.375'], ['3070809', '1963', '1096', '', '\"US\"', '\"AZ\"', '', '1', '', '4', '6', '65', '', '0', '', ''], ['3070810', '1963', '1096', '', '\"US\"', '\"IL\"', '', '1', '', '4', '6', '65', '', '3', '', '0.4444']]\n------SE IMPRIME LA CABECERA------\n['PATENT', 'GYEAR', 'GDATE', 'APPYEAR', 'COUNTRY', 'POSTATE', 'ASSIGNEE', 'ASSCODE', 'CLAIMS', 'NCLASS', 'CAT', 'SUBCAT', 'CMADE', 'CRECEIVE', 'RATIOCIT', 'GENERAL']\n"
    },
    {
     "data": {
      "text/plain": "PythonRDD[4] at RDD at PythonRDD.scala:53"
     },
     "execution_count": 2,
     "metadata": {},
     "output_type": "execute_result"
    }
   ],
   "source": [
    "# DataFrame a partir de un RDD de listas/tuplas infiriendo el esquema\n",
    "# Leemos el fichero apat63_99.txt.\n",
    "rdd = sc.textFile(\"./datos/apat63_99.txt\").cache()\n",
    "# Le quitamos la cabecera y lo convertimos en un RDD de listas\n",
    "rddSplit = rdd.filter(lambda l: not l.startswith('\"PATENT\"'))\\\n",
    "              .map(lambda l: l.split(\",\")[0:16])\n",
    "print(rddSplit.take(10))\n",
    "# Obtengo la cabecera como una lista de nombres (sin comillas dobles)\n",
    "cabecera = [c.strip('\"') for c in rdd.take(1)[0].split(\",\")[0:16]]\n",
    "# print('------SE TOMAN LAS 2 PRIMERAS LINEAS DEL DOCUMENTO------')\n",
    "# print(rdd.take(2))\n",
    "# ['\"PATENT\",\"GYEAR\",\"GDATE\",\"APPYEAR\",\"COUNTRY\",\"POSTATE\",\"ASSIGNEE\",\"ASSCODE\",\"CLAIMS\",\"NCLASS\",\"CAT\",\"SUBCAT\",\"CMADE\",\"CRECEIVE\",\"RATIOCIT\",\"GENERAL\",\"ORIGINAL\",\"FWDAPLAG\",\"BCKGTLAG\",\"SELFCTUB\",\"SELFCTLB\",\"SECDUPBD\",\"SECDLWBD\"', '3070801,1963,1096,,\"BE\",\"\",,1,,269,6,69,,1,,0,,,,,,,']\n",
    "# print('------SE TOMA EL OBJETO 0 DEL ARRAY------')\n",
    "# print(rdd.take(1)[0])\n",
    "# \"PATENT\",\"GYEAR\",\"GDATE\",\"APPYEAR\",\"COUNTRY\",\"POSTATE\",\"ASSIGNEE\",\"ASSCODE\",\"CLAIMS\",\"NCLASS\",\"CAT\",\"SUBCAT\",\"CMADE\",\"CRECEIVE\",\"RATIOCIT\",\"GENERAL\",\"ORIGINAL\",\"FWDAPLAG\",\"BCKGTLAG\",\"SELFCTUB\",\"SELFCTLB\",\"SECDUPBD\",\"SECDLWBD\"\n",
    "# print('------SE TOMA LOS PRIMEROS 16 CAMPOS DEL OBJETO 0 DEL ARRAY------')\n",
    "# print(rdd.take(1)[0].split(\",\")[0:16])\n",
    "# ['\"PATENT\"', '\"GYEAR\"', '\"GDATE\"', '\"APPYEAR\"', '\"COUNTRY\"', '\"POSTATE\"', '\"ASSIGNEE\"', '\"ASSCODE\"', '\"CLAIMS\"', '\"NCLASS\"', '\"CAT\"', '\"SUBCAT\"', '\"CMADE\"', '\"CRECEIVE\"', '\"RATIOCIT\"', '\"GENERAL\"']\n",
    "print('------SE IMPRIME LA CABECERA------')\n",
    "print(cabecera)\n",
    "rdd.unpersist()\n",
    "rddSplit.cache()"
   ]
  },
  {
   "cell_type": "code",
   "execution_count": 3,
   "metadata": {},
   "outputs": [
    {
     "name": "stdout",
     "output_type": "stream",
     "text": "+-------+-----+-----+-------+-------+-------+--------+-------+------+------+---+------+-----+--------+--------+-------+\n| PATENT|GYEAR|GDATE|APPYEAR|COUNTRY|POSTATE|ASSIGNEE|ASSCODE|CLAIMS|NCLASS|CAT|SUBCAT|CMADE|CRECEIVE|RATIOCIT|GENERAL|\n+-------+-----+-----+-------+-------+-------+--------+-------+------+------+---+------+-----+--------+--------+-------+\n|3070801| 1963| 1096|       |   \"BE\"|     \"\"|        |      1|      |   269|  6|    69|     |       1|        |      0|\n|3070802| 1963| 1096|       |   \"US\"|   \"TX\"|        |      1|      |     2|  6|    63|     |       0|        |       |\n|3070803| 1963| 1096|       |   \"US\"|   \"IL\"|        |      1|      |     2|  6|    63|     |       9|        | 0.3704|\n|3070804| 1963| 1096|       |   \"US\"|   \"OH\"|        |      1|      |     2|  6|    63|     |       3|        | 0.6667|\n|3070805| 1963| 1096|       |   \"US\"|   \"CA\"|        |      1|      |     2|  6|    63|     |       1|        |      0|\n|3070806| 1963| 1096|       |   \"US\"|   \"PA\"|        |      1|      |     2|  6|    63|     |       0|        |       |\n|3070807| 1963| 1096|       |   \"US\"|   \"OH\"|        |      1|      |   623|  3|    39|     |       3|        | 0.4444|\n|3070808| 1963| 1096|       |   \"US\"|   \"IA\"|        |      1|      |   623|  3|    39|     |       4|        |  0.375|\n|3070809| 1963| 1096|       |   \"US\"|   \"AZ\"|        |      1|      |     4|  6|    65|     |       0|        |       |\n|3070810| 1963| 1096|       |   \"US\"|   \"IL\"|        |      1|      |     4|  6|    65|     |       3|        | 0.4444|\n+-------+-----+-----+-------+-------+-------+--------+-------+------+------+---+------+-----+--------+--------+-------+\nonly showing top 10 rows\n\n+-------+-----+-----+-------+-------+-------+--------+-------+------+------+---+------+-----+--------+--------+-------+\n| PATENT|GYEAR|GDATE|APPYEAR|COUNTRY|POSTATE|ASSIGNEE|ASSCODE|CLAIMS|NCLASS|CAT|SUBCAT|CMADE|CRECEIVE|RATIOCIT|GENERAL|\n+-------+-----+-----+-------+-------+-------+--------+-------+------+------+---+------+-----+--------+--------+-------+\n|3070801| 1963| 1096|       |   \"BE\"|     \"\"|        |      1|      |   269|  6|    69|     |       1|        |      0|\n|3070802| 1963| 1096|       |   \"US\"|   \"TX\"|        |      1|      |     2|  6|    63|     |       0|        |       |\n|3070803| 1963| 1096|       |   \"US\"|   \"IL\"|        |      1|      |     2|  6|    63|     |       9|        | 0.3704|\n|3070804| 1963| 1096|       |   \"US\"|   \"OH\"|        |      1|      |     2|  6|    63|     |       3|        | 0.6667|\n|3070805| 1963| 1096|       |   \"US\"|   \"CA\"|        |      1|      |     2|  6|    63|     |       1|        |      0|\n|3070806| 1963| 1096|       |   \"US\"|   \"PA\"|        |      1|      |     2|  6|    63|     |       0|        |       |\n|3070807| 1963| 1096|       |   \"US\"|   \"OH\"|        |      1|      |   623|  3|    39|     |       3|        | 0.4444|\n|3070808| 1963| 1096|       |   \"US\"|   \"IA\"|        |      1|      |   623|  3|    39|     |       4|        |  0.375|\n|3070809| 1963| 1096|       |   \"US\"|   \"AZ\"|        |      1|      |     4|  6|    65|     |       0|        |       |\n|3070810| 1963| 1096|       |   \"US\"|   \"IL\"|        |      1|      |     4|  6|    65|     |       3|        | 0.4444|\n+-------+-----+-----+-------+-------+-------+--------+-------+------+------+---+------+-----+--------+--------+-------+\nonly showing top 10 rows\n\n"
    }
   ],
   "source": [
    "# Dos formas de crear el DataFrame\n",
    "# 1. A partir del método createDataFrame de sqlContext\n",
    "sqlContext = SQLContext(sc)\n",
    "dfInfer1 = sqlContext.createDataFrame(rddSplit, cabecera)\n",
    "# 2. A partir del método toDF del RDD\n",
    "dfInfer2 = rddSplit.toDF(cabecera)\n",
    "dfInfer1.show(10)\n",
    "dfInfer2.show(10)"
   ]
  },
  {
   "cell_type": "code",
   "execution_count": 4,
   "metadata": {},
   "outputs": [
    {
     "name": "stdout",
     "output_type": "stream",
     "text": "root\n |-- PATENT: string (nullable = true)\n |-- GYEAR: string (nullable = true)\n |-- GDATE: string (nullable = true)\n |-- APPYEAR: string (nullable = true)\n |-- COUNTRY: string (nullable = true)\n |-- POSTATE: string (nullable = true)\n |-- ASSIGNEE: string (nullable = true)\n |-- ASSCODE: string (nullable = true)\n |-- CLAIMS: string (nullable = true)\n |-- NCLASS: string (nullable = true)\n |-- CAT: string (nullable = true)\n |-- SUBCAT: string (nullable = true)\n |-- CMADE: string (nullable = true)\n |-- CRECEIVE: string (nullable = true)\n |-- RATIOCIT: string (nullable = true)\n |-- GENERAL: string (nullable = true)\n\n"
    }
   ],
   "source": [
    "# Esquema de la tabla\n",
    "dfInfer2.printSchema()"
   ]
  },
  {
   "cell_type": "code",
   "execution_count": 5,
   "metadata": {},
   "outputs": [
    {
     "name": "stdout",
     "output_type": "stream",
     "text": "root\n |-- PATENT: string (nullable = true)\n |-- GYEAR: string (nullable = true)\n |-- GDATE: string (nullable = true)\n |-- APPYEAR: string (nullable = true)\n |-- COUNTRY: string (nullable = true)\n |-- POSTATE: string (nullable = true)\n |-- ASSIGNEE: string (nullable = true)\n |-- ASSCODE: string (nullable = true)\n |-- CLAIMS: long (nullable = true)\n |-- NCLASS: string (nullable = true)\n |-- CAT: string (nullable = true)\n |-- SUBCAT: string (nullable = true)\n |-- CMADE: string (nullable = true)\n |-- CRECEIVE: string (nullable = true)\n |-- RATIOCIT: string (nullable = true)\n |-- GENERAL: double (nullable = true)\n\n+-------+-----+-----+-------+-------+-------+--------+-------+------+------+---+------+-----+--------+--------+-------+\n| PATENT|GYEAR|GDATE|APPYEAR|COUNTRY|POSTATE|ASSIGNEE|ASSCODE|CLAIMS|NCLASS|CAT|SUBCAT|CMADE|CRECEIVE|RATIOCIT|GENERAL|\n+-------+-----+-----+-------+-------+-------+--------+-------+------+------+---+------+-----+--------+--------+-------+\n|3070801| 1963| 1096|       |     BE|       |        |      1|     0|   269|  6|    69|     |       1|        |    0.0|\n|3070802| 1963| 1096|       |     US|     TX|        |      1|     0|     2|  6|    63|     |       0|        |    0.0|\n|3070803| 1963| 1096|       |     US|     IL|        |      1|     0|     2|  6|    63|     |       9|        | 0.3704|\n|3070804| 1963| 1096|       |     US|     OH|        |      1|     0|     2|  6|    63|     |       3|        | 0.6667|\n|3070805| 1963| 1096|       |     US|     CA|        |      1|     0|     2|  6|    63|     |       1|        |    0.0|\n|3070806| 1963| 1096|       |     US|     PA|        |      1|     0|     2|  6|    63|     |       0|        |    0.0|\n|3070807| 1963| 1096|       |     US|     OH|        |      1|     0|   623|  3|    39|     |       3|        | 0.4444|\n|3070808| 1963| 1096|       |     US|     IA|        |      1|     0|   623|  3|    39|     |       4|        |  0.375|\n|3070809| 1963| 1096|       |     US|     AZ|        |      1|     0|     4|  6|    65|     |       0|        |    0.0|\n|3070810| 1963| 1096|       |     US|     IL|        |      1|     0|     4|  6|    65|     |       3|        | 0.4444|\n+-------+-----+-----+-------+-------+-------+--------+-------+------+------+---+------+-----+--------+--------+-------+\nonly showing top 10 rows\n\n"
    }
   ],
   "source": [
    "# Los tipos de datos no se han inferido de forma correcta\n",
    "# Para que los tipos se infieran correctamente, podemos partir de un RDD de listas con los tipos correctos para cada campo.\n",
    "# Convierto cambio el tipo de los datos del RDD de listas\n",
    "def toIntSafe(inval):\n",
    "  try:\n",
    "    return int(inval)\n",
    "  except ValueError:\n",
    "    return 0\n",
    "    \n",
    "def toFloatSafe(inval):\n",
    "  try:\n",
    "    return float(inval)\n",
    "  except ValueError:\n",
    "    return 0.0\n",
    "\n",
    "# Dejo todos los campos como Strings, menos el campo 8 (CLAIMS) que lo pongo como entero\n",
    "# y el campo 15 (GENERAL) que lo pongo como float\n",
    "rddTipos = rddSplit.map(lambda l: (l[0], \n",
    "                                   l[1],\n",
    "                                   l[2], \n",
    "                                   l[3], \n",
    "                                   l[4].strip('\"'), \n",
    "                                   l[5].strip('\"'), \n",
    "                                   l[6], \n",
    "                                   l[7], \n",
    "                                   toIntSafe(l[8]),\n",
    "                                   l[9],\n",
    "                                   l[10], \n",
    "                                   l[11], \n",
    "                                   l[12], \n",
    "                                   l[13], \n",
    "                                   l[14], \n",
    "                                   toFloatSafe(l[15])))\n",
    "rddTipos.cache()\n",
    "dfInfer3 = sqlContext.createDataFrame(rddTipos, cabecera)\n",
    "dfInfer3.printSchema()\n",
    "dfInfer3.show(10)"
   ]
  },
  {
   "cell_type": "code",
   "execution_count": 6,
   "metadata": {},
   "outputs": [
    {
     "name": "stdout",
     "output_type": "stream",
     "text": "root\n |-- PATENT: string (nullable = false)\n |-- GYEAR: string (nullable = true)\n |-- GDATE: string (nullable = true)\n |-- APPYEAR: string (nullable = true)\n |-- COUNTRY: string (nullable = true)\n |-- POSTATE: string (nullable = true)\n |-- ASSIGNEE: string (nullable = true)\n |-- ASSCODE: string (nullable = true)\n |-- CLAIMS: integer (nullable = true)\n |-- NCLASS: string (nullable = true)\n |-- CAT: string (nullable = true)\n |-- SUBCAT: string (nullable = true)\n |-- CMADE: string (nullable = false)\n |-- CRECEIVE: string (nullable = true)\n |-- RATIOCIT: string (nullable = true)\n |-- GENERAL: float (nullable = true)\n\n+-------+-----+-----+-------+-------+-------+--------+-------+------+------+---+------+-----+--------+--------+-------+\n| PATENT|GYEAR|GDATE|APPYEAR|COUNTRY|POSTATE|ASSIGNEE|ASSCODE|CLAIMS|NCLASS|CAT|SUBCAT|CMADE|CRECEIVE|RATIOCIT|GENERAL|\n+-------+-----+-----+-------+-------+-------+--------+-------+------+------+---+------+-----+--------+--------+-------+\n|3070801| 1963| 1096|       |     BE|       |        |      1|     0|   269|  6|    69|     |       1|        |    0.0|\n|3070802| 1963| 1096|       |     US|     TX|        |      1|     0|     2|  6|    63|     |       0|        |    0.0|\n|3070803| 1963| 1096|       |     US|     IL|        |      1|     0|     2|  6|    63|     |       9|        | 0.3704|\n|3070804| 1963| 1096|       |     US|     OH|        |      1|     0|     2|  6|    63|     |       3|        | 0.6667|\n|3070805| 1963| 1096|       |     US|     CA|        |      1|     0|     2|  6|    63|     |       1|        |    0.0|\n|3070806| 1963| 1096|       |     US|     PA|        |      1|     0|     2|  6|    63|     |       0|        |    0.0|\n|3070807| 1963| 1096|       |     US|     OH|        |      1|     0|   623|  3|    39|     |       3|        | 0.4444|\n|3070808| 1963| 1096|       |     US|     IA|        |      1|     0|   623|  3|    39|     |       4|        |  0.375|\n|3070809| 1963| 1096|       |     US|     AZ|        |      1|     0|     4|  6|    65|     |       0|        |    0.0|\n|3070810| 1963| 1096|       |     US|     IL|        |      1|     0|     4|  6|    65|     |       3|        | 0.4444|\n+-------+-----+-----+-------+-------+-------+--------+-------+------+------+---+------+-----+--------+--------+-------+\nonly showing top 10 rows\n\n"
    }
   ],
   "source": [
    "# DataFrame a partir de un RDD de listas/tuplas indicando el esquema de forma explícita\n",
    "# Defino el esquema para los elementos de la tabla usando un StructType de StructField\n",
    "# StructType: Permite definir un esquema para el DataFrame a partir de una lista de StructFields\n",
    "# StructField: Definen el nombre y tipo de cada columna, así como si es nullable o no\n",
    "from pyspark.sql.types import *\n",
    "# Defino el esquema para los elementos de la tabla\n",
    "# StructType -> Permite definir un esquema para el DF a partir de una lista de StructFields\n",
    "# StructField -> Definen el nombre y tipo de cada columna, así como si es nullable o no (campo True)\n",
    "postSchema = StructType([\n",
    "  StructField(cabecera[0], StringType(), False),\n",
    "  StructField(cabecera[1], StringType(), True),\n",
    "  StructField(cabecera[2], StringType(), True),\n",
    "  StructField(cabecera[3], StringType(), True),\n",
    "  StructField(cabecera[4], StringType(), True),\n",
    "  StructField(cabecera[5], StringType(), True),\n",
    "  StructField(cabecera[6], StringType(), True),\n",
    "  StructField(cabecera[7], StringType(), True),\n",
    "  StructField(cabecera[8], IntegerType(), True),\n",
    "  StructField(cabecera[9], StringType(), True),\n",
    "  StructField(cabecera[10], StringType(), True),\n",
    "  StructField(cabecera[11], StringType(), True),\n",
    "  StructField(cabecera[12], StringType(), False),\n",
    "  StructField(cabecera[13], StringType(), True),\n",
    "  StructField(cabecera[14], StringType(), True),\n",
    "  StructField(cabecera[15], FloatType(), True)\n",
    "  ])\n",
    "# Creo el DataFrame\n",
    "dfSchema = sqlContext.createDataFrame(rddTipos, postSchema).cache()\n",
    "rddTipos.unpersist()\n",
    "dfSchema.printSchema()\n",
    "dfSchema.show(10)"
   ]
  },
  {
   "cell_type": "code",
   "execution_count": 7,
   "metadata": {},
   "outputs": [
    {
     "name": "stdout",
     "output_type": "stream",
     "text": "Esquema de la tabla en árbol\nroot\n |-- Appyear: string (nullable = true)\n |-- Asscode: string (nullable = true)\n |-- Assignee: string (nullable = true)\n |-- Cat: string (nullable = true)\n |-- Claims: long (nullable = true)\n |-- Cmade: string (nullable = true)\n |-- Country: string (nullable = true)\n |-- Creceive: string (nullable = true)\n |-- Gdate: string (nullable = true)\n |-- General: double (nullable = true)\n |-- Gyear: string (nullable = true)\n |-- Nclass: string (nullable = true)\n |-- Patent: string (nullable = true)\n |-- Postate: string (nullable = true)\n |-- Ratiocit: string (nullable = true)\n |-- Subcat: string (nullable = true)\n\nNombres de las columnas\n['Appyear', 'Asscode', 'Assignee', 'Cat', 'Claims', 'Cmade', 'Country', 'Creceive', 'Gdate', 'General', 'Gyear', 'Nclass', 'Patent', 'Postate', 'Ratiocit', 'Subcat']\n\nTipos de las columnas\n[('Appyear', 'string'), ('Asscode', 'string'), ('Assignee', 'string'), ('Cat', 'string'), ('Claims', 'bigint'), ('Cmade', 'string'), ('Country', 'string'), ('Creceive', 'string'), ('Gdate', 'string'), ('General', 'double'), ('Gyear', 'string'), ('Nclass', 'string'), ('Patent', 'string'), ('Postate', 'string'), ('Ratiocit', 'string'), ('Subcat', 'string')]\n\n+-------+-------+--------+---+------+-----+-------+--------+-----+-------+-----+------+-------+-------+--------+------+\n|Appyear|Asscode|Assignee|Cat|Claims|Cmade|Country|Creceive|Gdate|General|Gyear|Nclass| Patent|Postate|Ratiocit|Subcat|\n+-------+-------+--------+---+------+-----+-------+--------+-----+-------+-----+------+-------+-------+--------+------+\n|       |      1|        |  6|     0|     |   \"BE\"|       1| 1096|    0.0| 1963|   269|3070801|     \"\"|        |    69|\n|       |      1|        |  6|     0|     |   \"US\"|       0| 1096|    0.0| 1963|     2|3070802|   \"TX\"|        |    63|\n|       |      1|        |  6|     0|     |   \"US\"|       9| 1096| 0.3704| 1963|     2|3070803|   \"IL\"|        |    63|\n|       |      1|        |  6|     0|     |   \"US\"|       3| 1096| 0.6667| 1963|     2|3070804|   \"OH\"|        |    63|\n|       |      1|        |  6|     0|     |   \"US\"|       1| 1096|    0.0| 1963|     2|3070805|   \"CA\"|        |    63|\n|       |      1|        |  6|     0|     |   \"US\"|       0| 1096|    0.0| 1963|     2|3070806|   \"PA\"|        |    63|\n|       |      1|        |  3|     0|     |   \"US\"|       3| 1096| 0.4444| 1963|   623|3070807|   \"OH\"|        |    39|\n|       |      1|        |  3|     0|     |   \"US\"|       4| 1096|  0.375| 1963|   623|3070808|   \"IA\"|        |    39|\n|       |      1|        |  6|     0|     |   \"US\"|       0| 1096|    0.0| 1963|     4|3070809|   \"AZ\"|        |    65|\n|       |      1|        |  6|     0|     |   \"US\"|       3| 1096| 0.4444| 1963|     4|3070810|   \"IL\"|        |    65|\n+-------+-------+--------+---+------+-----+-------+--------+-----+-------+-----+------+-------+-------+--------+------+\nonly showing top 10 rows\n\n"
    }
   ],
   "source": [
    "# DataFrame a partir de un RDD de objetos Row\n",
    "# Row Representa una fila de datos en un DataFrame\n",
    "from pyspark.sql import Row\n",
    "# Convierto el RDD de listas en un RDD de objetos Row\n",
    "rddRows = rddSplit.map(lambda l: Row(Patent = l[0], \n",
    "                                     Gyear = l[1], \n",
    "                                     Gdate = l[2], \n",
    "                                     Appyear = l[3],\n",
    "                                     Country = l[4],\n",
    "                                     Postate = l[5],\n",
    "                                     Assignee = l[6], \n",
    "                                     Asscode = l[7],\n",
    "                                     Claims = toIntSafe(l[8]),\n",
    "                                     Nclass = l[9], \n",
    "                                     Cat = l[10], \n",
    "                                     Subcat = l[11], \n",
    "                                     Cmade = l[12],\n",
    "                                     Creceive = l[13],\n",
    "                                     Ratiocit = l[14],\n",
    "                                     General = toFloatSafe(l[15])))\n",
    "# El esquema se infiere de los tipos\n",
    "dfRows = sqlContext.createDataFrame(rddRows)\n",
    "print(\"Esquema de la tabla en árbol\")\n",
    "dfRows.printSchema()\n",
    "print(\"Nombres de las columnas\\n{0}\\n\".\n",
    "      format(dfRows.columns))\n",
    "print(\"Tipos de las columnas\\n{0}\\n\".\n",
    "      format(dfRows.dtypes))\n",
    "rddSplit.unpersist()\n",
    "dfRows.show(10)"
   ]
  },
  {
   "cell_type": "code",
   "execution_count": 8,
   "metadata": {},
   "outputs": [
    {
     "name": "stdout",
     "output_type": "stream",
     "text": "Muestra un elemento del nuevo RDD\n[Row(PATENT='3070801', GYEAR='1963', GDATE='1096', APPYEAR='', COUNTRY='BE', POSTATE='', ASSIGNEE='', ASSCODE='1', CLAIMS=0, NCLASS='269', CAT='6', SUBCAT='69', CMADE='', CRECEIVE='1', RATIOCIT='', GENERAL=0.0), Row(PATENT='3070802', GYEAR='1963', GDATE='1096', APPYEAR='', COUNTRY='US', POSTATE='TX', ASSIGNEE='', ASSCODE='1', CLAIMS=0, NCLASS='2', CAT='6', SUBCAT='63', CMADE='', CRECEIVE='0', RATIOCIT='', GENERAL=0.0)]\nAplicamos un map al RDD\n[('BE', '3070801', '1963'), ('US', '3070802', '1963')]\n"
    }
   ],
   "source": [
    "# Conversion de un DataFrame en un RDD de objetos Row\n",
    "# Permite convertir un DataFrame en un RDD\n",
    "rddRows2 = dfSchema.rdd\n",
    "print(\"Muestra un elemento del nuevo RDD\")\n",
    "print(rddRows2.take(2))\n",
    "print(\"Aplicamos un map al RDD\")\n",
    "print(rddRows2.map(lambda r: (r.COUNTRY, r.PATENT, r.GYEAR)).take(2))"
   ]
  },
  {
   "cell_type": "code",
   "execution_count": 9,
   "metadata": {},
   "outputs": [
    {
     "name": "stdout",
     "output_type": "stream",
     "text": "+----+-------+\n|edad| nombre|\n+----+-------+\n|  17|  Celia|\n|  53|   Juan|\n|  39|Manuela|\n|  17|    Ana|\n+----+-------+\n\n"
    }
   ],
   "source": [
    "# DataFrame a partir de un fichero JSON\n",
    "dfJson = sqlContext.read.json(\"./datos/gente.json\")\n",
    "dfJson.show()\n",
    "\n",
    "import os\n",
    "os.system(\"rmdir /S /Q salida\\\\apat63_99-json\")\n",
    "# Guardar el DataFrame como fichero JSON\n",
    "dfSchema.write.json(\"./salida/apat63_99-json\")"
   ]
  },
  {
   "cell_type": "code",
   "execution_count": 10,
   "metadata": {},
   "outputs": [
    {
     "name": "stdout",
     "output_type": "stream",
     "text": "+-------+-----+-------+------+\n| PATENT|GYEAR|COUNTRY|CLAIMS|\n+-------+-----+-------+------+\n|3070801| 1963|     BE|     0|\n|3070802| 1963|     US|     0|\n|3070803| 1963|     US|     0|\n|3070804| 1963|     US|     0|\n|3070805| 1963|     US|     0|\n|3070806| 1963|     US|     0|\n|3070807| 1963|     US|     0|\n|3070808| 1963|     US|     0|\n|3070809| 1963|     US|     0|\n|3070810| 1963|     US|     0|\n+-------+-----+-------+------+\nonly showing top 10 rows\n\nEl objeto dfParcial es de tipo <class 'pyspark.sql.dataframe.DataFrame'>\nEl objeto colPatent es de tipo <class 'pyspark.sql.column.Column'>\nEl objeto colCountry es de tipo <class 'pyspark.sql.column.Column'>\nroot\n |-- PATENT: string (nullable = false)\n |-- GYEAR: string (nullable = true)\n |-- COUNTRY: string (nullable = true)\n |-- CLAIMS: integer (nullable = true)\n\nNone\n+-------+----+----+\n|Patente|País| Año|\n+-------+----+----+\n|3070801|  BE|1963|\n|3070802|  US|1963|\n|3070803|  US|1963|\n|3070804|  US|1963|\n|3070805|  US|1963|\n|3070806|  US|1963|\n|3070807|  US|1963|\n|3070808|  US|1963|\n|3070809|  US|1963|\n|3070810|  US|1963|\n|3070811|  US|1963|\n|3070812|  US|1963|\n|3070813|  US|1963|\n|3070814|  US|1963|\n|3070815|  US|1963|\n|3070816|  US|1963|\n|3070817|  US|1963|\n|3070818|  US|1963|\n|3070819|  US|1963|\n|3070820|  GB|1963|\n+-------+----+----+\nonly showing top 20 rows\n\n+-------+-----+-------+\n| PATENT|GYEAR|COUNTRY|\n+-------+-----+-------+\n|3070801| 1963|     BE|\n|3070802| 1963|     US|\n|3070803| 1963|     US|\n|3070804| 1963|     US|\n|3070805| 1963|     US|\n|3070806| 1963|     US|\n|3070807| 1963|     US|\n|3070808| 1963|     US|\n|3070809| 1963|     US|\n|3070810| 1963|     US|\n+-------+-----+-------+\nonly showing top 10 rows\n\n"
    }
   ],
   "source": [
    "##### Operaciones básicas\n",
    "##### Selección y eliminación de columnas\n",
    "dfParcial = dfSchema.select(\"PATENT\", \"GYEAR\", \"COUNTRY\", \"CLAIMS\")\n",
    "dfParcial.show(10)\n",
    "print(\"El objeto dfParcial es de tipo {0}\".format(type(dfParcial)))\n",
    "dfSchema.unpersist()\n",
    "dfParcial.cache()\n",
    "# También es posible crear objetos de tipo Column\n",
    "colPatent = dfParcial[\"PATENT\"]\n",
    "colCountry = dfParcial.COUNTRY\n",
    "print(\"El objeto colPatent es de tipo {0}\".format(type(colPatent)))\n",
    "print(\"El objeto colCountry es de tipo {0}\".format(type(colCountry)))\n",
    "# Y crear un DataFrame a partir de objetos Column, renombrando columnas\n",
    "dfParcial2 = dfParcial.select(colPatent.alias(\"Patente\"), colCountry.alias(\"País\"), dfParcial.GYEAR.alias(\"Año\"))\n",
    "print(dfParcial.printSchema())\n",
    "dfParcial2.show()\n",
    "# Se pueden eliminar columnas\n",
    "dfParcial3 = dfParcial.drop(\"CLAIMS\")\n",
    "dfParcial3.show(10)"
   ]
  },
  {
   "cell_type": "code",
   "execution_count": 11,
   "metadata": {},
   "outputs": [
    {
     "name": "stdout",
     "output_type": "stream",
     "text": "Número de patentes con reivindicaciones: 1984055\n\n+-------+-----+-------+------+\n| PATENT|GYEAR|COUNTRY|CLAIMS|\n+-------+-----+-------+------+\n|3858241| 1975|     US|     6|\n+-------+-----+-------+------+\nonly showing top 1 row\n\nNúmero de patentes con inventor español: 3601\n\n+-------+-----+-------+------+\n| PATENT|GYEAR|COUNTRY|CLAIMS|\n+-------+-----+-------+------+\n|3071250| 1963|     ES|     0|\n+-------+-----+-------+------+\nonly showing top 1 row\n\n"
    }
   ],
   "source": [
    "##### Filtrado\n",
    "# Patentes con CLAIMS > 0\n",
    "dfClaims = dfParcial.where('CLAIMS > 0')\n",
    "print(\"Número de patentes con reivindicaciones: {0}\\n\".\\\n",
    "       format(dfClaims.count()))\n",
    "dfClaims.show(1)\n",
    "# Patentes con inventor español\n",
    "dfEsp = dfParcial.filter(colCountry.like('ES'))\n",
    "print(\"Número de patentes con inventor español: {0}\\n\".\\\n",
    "       format(dfEsp.count()))\n",
    "dfEsp.show(1)"
   ]
  },
  {
   "cell_type": "code",
   "execution_count": 12,
   "metadata": {},
   "outputs": [
    {
     "name": "stdout",
     "output_type": "stream",
     "text": "+-------+-----+-------+------+\n| PATENT|GYEAR|COUNTRY|CLAIMS|\n+-------+-----+-------+------+\n|5095054| 1992|     DE|   868|\n|4085139| 1978|     US|   706|\n|4373527| 1983|     US|   642|\n|4081478| 1978|     US|   472|\n|4624109| 1986|     US|   394|\n|4068298| 1978|     US|   393|\n|5812453| 1998|     JP|   348|\n|4533693| 1985|     US|   346|\n|5802314| 1998|     US|   320|\n|4905163| 1990|     US|   313|\n+-------+-----+-------+------+\nonly showing top 10 rows\n\n<class 'pyspark.sql.group.GroupedData'>\nNúmero de patentes por país\n+-------+-------+\n|COUNTRY|  count|\n+-------+-------+\n|     US|1784989|\n|     JP| 421441|\n|     DE| 221095|\n|     GB|  98012|\n|     FR|  85398|\n|     CA|  53872|\n|     CH|  43313|\n|     IT|  32433|\n|     SE|  28286|\n|     NL|  26687|\n|     TW|  19979|\n|     KR|  14855|\n|     AU|  11386|\n|     BE|  10972|\n|     AT|  10260|\n|     IL|   7378|\n|     SU|   6992|\n|     FI|   6984|\n|     DK|   6479|\n|     ES|   3601|\n+-------+-------+\nonly showing top 20 rows\n\nMedia de reivindicaciones por país\n+-------+------------------+\n|COUNTRY|       avg(CLAIMS)|\n+-------+------------------+\n|     AD|11.666666666666666|\n|     AE|12.833333333333334|\n|     AG|11.777777777777779|\n|     AI|              10.0|\n|     AL|               0.0|\n|     AM|               9.0|\n|     AN|             9.625|\n|     AR| 5.891764705882353|\n|     AT| 7.895321637426901|\n|     AU| 9.622958018619357|\n|     AW|              15.5|\n|     AZ| 7.333333333333333|\n|     BB| 8.555555555555555|\n|     BE| 8.357090776522057|\n|     BG| 4.189873417721519|\n|     BH| 4.333333333333333|\n|     BM| 9.585365853658537|\n|     BN|               9.0|\n|     BO|               3.0|\n|     BR| 7.149356223175966|\n+-------+------------------+\nonly showing top 20 rows\n\n"
    }
   ],
   "source": [
    "##### Ordenación y agrupamiento\n",
    "dfParcial.orderBy('CLAIMS', ascending=False).show(10)\n",
    "grupoPorPais = dfParcial.groupBy('COUNTRY')\n",
    "print(type(grupoPorPais))\n",
    "print(\"Número de patentes por país\")\n",
    "grupoPorPais.count().orderBy('count', ascending=False).show()\n",
    "print(\"Media de reivindicaciones por país\")\n",
    "grupoPorPais.avg('CLAIMS').orderBy('COUNTRY').show()"
   ]
  },
  {
   "cell_type": "code",
   "execution_count": 13,
   "metadata": {},
   "outputs": [
    {
     "name": "stdout",
     "output_type": "stream",
     "text": "+-----------+-----------+-----------------+-------------------+\n|max(CLAIMS)|min(CLAIMS)|      avg(CLAIMS)|stddev_samp(CLAIMS)|\n+-----------+-----------+-----------------+-------------------+\n|         96|          0|6.582615940016662|  7.307029943787108|\n+-----------+-----------+-----------------+-------------------+\n\n+-------+-----------------+\n|summary|           CLAIMS|\n+-------+-----------------+\n|  count|             3601|\n|   mean|6.582615940016662|\n| stddev|7.307029943787108|\n|    min|                0|\n|    max|               96|\n+-------+-----------------+\n\n+-------+------+\n|COUNTRY|CLAIMS|\n+-------+------+\n|     US|   104|\n|     FR|   127|\n|     US|   101|\n|     US|   103|\n|     DE|   111|\n|     DE|   108|\n|     DE|   115|\n|     US|   147|\n|     DE|   176|\n|     US|   119|\n|     US|   139|\n|     US|   112|\n|     US|   109|\n|     US|   127|\n|     US|   135|\n|     US|   132|\n|     US|   103|\n|     US|   212|\n|     US|   160|\n|     US|   106|\n+-------+------+\nonly showing top 20 rows\n\n"
    }
   ],
   "source": [
    "# Obtener el máximo, mínimo, media y desviación estándard de las reivindicaciones de las patentes españolas\n",
    "from pyspark.sql.functions import *\n",
    "dfEsp.select(max(\"CLAIMS\"), min(\"CLAIMS\"),avg(\"CLAIMS\"),stddev(\"CLAIMS\")).show()\n",
    "\n",
    "# Otra forma de hacer lo mismo\n",
    "dfEsp.describe(\"CLAIMS\").show()\n",
    "\n",
    "##### Consultas SQL\n",
    "# Registra la tabla para usar SQL\n",
    "dfParcial.registerTempTable(\"patentinfo\")\n",
    "sqlContext.sql(\"SELECT COUNTRY,CLAIMS FROM patentinfo WHERE CLAIMS >= 100\").show()"
   ]
  },
  {
   "cell_type": "code",
   "execution_count": 14,
   "metadata": {},
   "outputs": [
    {
     "name": "stdout",
     "output_type": "stream",
     "text": "Información sobre si el número de reivindicaciones es par o impar.\n+-------+------+-----+\n| PATENT|CLAIMS| Par?|\n+-------+------+-----+\n|5095054|   868| true|\n|4085139|   706| true|\n|4373527|   642| true|\n|4081478|   472| true|\n|4624109|   394| true|\n|4068298|   393|false|\n|5812453|   348| true|\n|4533693|   346| true|\n|5802314|   320| true|\n|4905163|   313|false|\n|5673402|   309|false|\n|4847639|   307|false|\n|5190690|   306| true|\n|4544239|   298| true|\n|5825664|   293|false|\n|4996627|   292| true|\n|5786333|   288| true|\n|5007353|   279|false|\n|4666252|   279|false|\n|5625670|   276| true|\n+-------+------+-----+\nonly showing top 20 rows\n\n"
    }
   ],
   "source": [
    "##### UDFs: Funciones definidas por el usuario\n",
    "from pyspark.sql.functions import udf\n",
    "from pyspark.sql.types import BooleanType\n",
    "esPar = udf(lambda n: not n%2, BooleanType())\n",
    "print(\"Información sobre si el número de reivindicaciones es par o impar.\")\n",
    "dfParcial.select(dfParcial.PATENT, dfParcial.CLAIMS, esPar(dfParcial.CLAIMS).alias(\"Par?\")).\\\n",
    "  orderBy(dfParcial.CLAIMS, ascending=False).show()"
   ]
  },
  {
   "cell_type": "code",
   "execution_count": 15,
   "metadata": {},
   "outputs": [],
   "source": [
    "sc.stop()"
   ]
  }
 ],
 "metadata": {
  "kernelspec": {
   "display_name": "Python 3",
   "language": "python",
   "name": "python3"
  },
  "language_info": {
   "codemirror_mode": {
    "name": "ipython",
    "version": 3
   },
   "file_extension": ".py",
   "mimetype": "text/x-python",
   "name": "python",
   "nbconvert_exporter": "python",
   "pygments_lexer": "ipython3",
   "version": "3.7.3"
  }
 },
 "nbformat": 4,
 "nbformat_minor": 2
}